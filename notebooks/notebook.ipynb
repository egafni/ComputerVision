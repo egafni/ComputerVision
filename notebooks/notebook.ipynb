{
 "cells": [
  {
   "cell_type": "code",
   "execution_count": 1,
   "id": "b63fb7ec",
   "metadata": {},
   "outputs": [],
   "source": [
    "from computervision.data.data_modules import DTDDataModule\n",
    "from computervision.data.pre_processor import DTDPreProc\n",
    "\n"
   ]
  },
  {
   "cell_type": "code",
   "execution_count": 2,
   "id": "bc83fd50-12ef-4330-ba29-4a421667c3ef",
   "metadata": {},
   "outputs": [],
   "source": [
    "import os\n",
    "import torchvision\n",
    "\n",
    "ds = torchvision.datasets.DTD(os.path.join(os.path.expanduser(\"~\"), \"ml_datasets\", \"cifar10\"), download=True)\n",
    "\n"
   ]
  },
  {
   "cell_type": "code",
   "execution_count": 3,
   "id": "c01dbf13-705e-4957-8670-9df15fad9764",
   "metadata": {},
   "outputs": [
    {
     "data": {
      "text/plain": [
       "(400, 305, 3)"
      ]
     },
     "execution_count": 3,
     "metadata": {},
     "output_type": "execute_result"
    }
   ],
   "source": [
    "import numpy as np\n",
    "np.array(ds[2][0]).shape\n"
   ]
  },
  {
   "cell_type": "code",
   "execution_count": 4,
   "id": "de753988-6d1b-433a-85d9-b607a7721fdc",
   "metadata": {},
   "outputs": [],
   "source": [
    "# ds[0][1].shape\n"
   ]
  },
  {
   "cell_type": "code",
   "execution_count": 5,
   "id": "56e6fdf2",
   "metadata": {},
   "outputs": [],
   "source": [
    "dm = DTDDataModule(DTDDataModule.Config(\n",
    "    pre_processor=DTDPreProc.Config(32)\n",
    "    )\n",
    ")\n"
   ]
  },
  {
   "cell_type": "code",
   "execution_count": 7,
   "id": "28ce1e77-fc01-430a-bff3-598a2a1fab0c",
   "metadata": {},
   "outputs": [
    {
     "data": {
      "text/plain": [
       "[tensor([[[[0.0000, 0.0000, 0.0078,  ..., 0.1294, 0.0392, 0.0000],\n",
       "           [0.0471, 0.0000, 0.0000,  ..., 0.0902, 0.0000, 0.0196],\n",
       "           [0.0000, 0.0784, 0.1137,  ..., 0.0078, 0.0431, 0.1765],\n",
       "           ...,\n",
       "           [0.0000, 0.0000, 0.1098,  ..., 0.1333, 0.2392, 0.0627],\n",
       "           [0.0157, 0.0000, 0.0745,  ..., 0.0235, 0.1255, 0.1373],\n",
       "           [0.0941, 0.0275, 0.0000,  ..., 0.0000, 0.0000, 0.0706]],\n",
       " \n",
       "          [[0.2235, 0.2235, 0.2706,  ..., 0.3804, 0.2902, 0.2627],\n",
       "           [0.2824, 0.2314, 0.2627,  ..., 0.3412, 0.2510, 0.2824],\n",
       "           [0.2471, 0.3412, 0.3843,  ..., 0.2549, 0.2902, 0.4314],\n",
       "           ...,\n",
       "           [0.2510, 0.2549, 0.3647,  ..., 0.3961, 0.5176, 0.3412],\n",
       "           [0.2784, 0.2471, 0.3373,  ..., 0.2784, 0.4039, 0.4157],\n",
       "           [0.3490, 0.2902, 0.2392,  ..., 0.2431, 0.2706, 0.3412]],\n",
       " \n",
       "          [[0.2549, 0.2510, 0.3020,  ..., 0.4157, 0.3255, 0.2941],\n",
       "           [0.3137, 0.2588, 0.2941,  ..., 0.3765, 0.2863, 0.3137],\n",
       "           [0.2824, 0.3725, 0.4118,  ..., 0.2824, 0.3176, 0.4549],\n",
       "           ...,\n",
       "           [0.2745, 0.2784, 0.3882,  ..., 0.4275, 0.5412, 0.3647],\n",
       "           [0.3020, 0.2706, 0.3608,  ..., 0.3020, 0.4196, 0.4314],\n",
       "           [0.3725, 0.3137, 0.2627,  ..., 0.2667, 0.2902, 0.3608]]],\n",
       " \n",
       " \n",
       "         [[[0.5804, 0.5882, 0.5922,  ..., 0.7490, 0.7608, 0.7529],\n",
       "           [0.5843, 0.5804, 0.5922,  ..., 0.7569, 0.7686, 0.7608],\n",
       "           [0.5843, 0.5804, 0.5765,  ..., 0.7608, 0.7608, 0.7647],\n",
       "           ...,\n",
       "           [0.5647, 0.5843, 0.5647,  ..., 0.7608, 0.7647, 0.7686],\n",
       "           [0.5686, 0.5725, 0.5765,  ..., 0.7608, 0.7725, 0.7686],\n",
       "           [0.5765, 0.5725, 0.5765,  ..., 0.7569, 0.7725, 0.7686]],\n",
       " \n",
       "          [[0.6784, 0.6784, 0.6941,  ..., 0.8078, 0.8196, 0.8118],\n",
       "           [0.6824, 0.6784, 0.6902,  ..., 0.8157, 0.8275, 0.8196],\n",
       "           [0.6824, 0.6784, 0.6824,  ..., 0.8196, 0.8196, 0.8235],\n",
       "           ...,\n",
       "           [0.6706, 0.6824, 0.6667,  ..., 0.8196, 0.8235, 0.8235],\n",
       "           [0.6745, 0.6784, 0.6784,  ..., 0.8196, 0.8275, 0.8275],\n",
       "           [0.6745, 0.6784, 0.6784,  ..., 0.8157, 0.8314, 0.8275]],\n",
       " \n",
       "          [[0.7961, 0.8000, 0.8235,  ..., 0.4431, 0.4549, 0.4471],\n",
       "           [0.8000, 0.7961, 0.8118,  ..., 0.4510, 0.4627, 0.4549],\n",
       "           [0.8039, 0.8000, 0.8000,  ..., 0.4549, 0.4549, 0.4588],\n",
       "           ...,\n",
       "           [0.7882, 0.8039, 0.7961,  ..., 0.4471, 0.4667, 0.4784],\n",
       "           [0.7922, 0.7961, 0.8078,  ..., 0.4549, 0.4824, 0.4706],\n",
       "           [0.7961, 0.7922, 0.8078,  ..., 0.4510, 0.4745, 0.4627]]],\n",
       " \n",
       " \n",
       "         [[[0.4471, 0.4392, 0.4314,  ..., 0.5529, 0.5451, 0.5373],\n",
       "           [0.4392, 0.4353, 0.4353,  ..., 0.5569, 0.5608, 0.5451],\n",
       "           [0.4039, 0.3922, 0.4078,  ..., 0.5137, 0.5294, 0.5294],\n",
       "           ...,\n",
       "           [0.2078, 0.2118, 0.2157,  ..., 0.2667, 0.2510, 0.2510],\n",
       "           [0.2078, 0.2353, 0.2392,  ..., 0.2824, 0.2784, 0.2745],\n",
       "           [0.2588, 0.2588, 0.2588,  ..., 0.2863, 0.2941, 0.2784]],\n",
       " \n",
       "          [[0.3294, 0.3216, 0.3137,  ..., 0.4824, 0.4667, 0.4431],\n",
       "           [0.3216, 0.3098, 0.3098,  ..., 0.4549, 0.4510, 0.4235],\n",
       "           [0.2980, 0.2863, 0.2863,  ..., 0.4078, 0.4196, 0.4196],\n",
       "           ...,\n",
       "           [0.1451, 0.1373, 0.1412,  ..., 0.1647, 0.1490, 0.1490],\n",
       "           [0.1333, 0.1490, 0.1490,  ..., 0.1804, 0.1765, 0.1725],\n",
       "           [0.1843, 0.1686, 0.1686,  ..., 0.1843, 0.1922, 0.1882]],\n",
       " \n",
       "          [[0.2353, 0.2196, 0.2118,  ..., 0.3961, 0.3725, 0.3412],\n",
       "           [0.2275, 0.2275, 0.2275,  ..., 0.3647, 0.3647, 0.3412],\n",
       "           [0.2157, 0.2039, 0.2039,  ..., 0.3255, 0.3255, 0.3333],\n",
       "           ...,\n",
       "           [0.0863, 0.0784, 0.0824,  ..., 0.1059, 0.0824, 0.0824],\n",
       "           [0.0784, 0.0941, 0.0941,  ..., 0.1294, 0.1176, 0.1137],\n",
       "           [0.1294, 0.1137, 0.1137,  ..., 0.1255, 0.1333, 0.1255]]],\n",
       " \n",
       " \n",
       "         ...,\n",
       " \n",
       " \n",
       "         [[[0.3216, 0.3098, 0.2706,  ..., 0.3569, 0.3569, 0.2902],\n",
       "           [0.3216, 0.3059, 0.2745,  ..., 0.3529, 0.3529, 0.2941],\n",
       "           [0.3020, 0.3059, 0.2941,  ..., 0.3843, 0.3804, 0.3020],\n",
       "           ...,\n",
       "           [0.5882, 0.5176, 0.5137,  ..., 0.6824, 0.6353, 0.5765],\n",
       "           [0.5804, 0.5176, 0.5216,  ..., 0.6510, 0.6039, 0.5529],\n",
       "           [0.5490, 0.5176, 0.5333,  ..., 0.6039, 0.5725, 0.5333]],\n",
       " \n",
       "          [[0.3098, 0.2980, 0.2667,  ..., 0.3176, 0.3137, 0.2471],\n",
       "           [0.3020, 0.2941, 0.2627,  ..., 0.3098, 0.3098, 0.2392],\n",
       "           [0.2784, 0.2863, 0.2745,  ..., 0.3255, 0.3216, 0.2431],\n",
       "           ...,\n",
       "           [0.6392, 0.5686, 0.5647,  ..., 0.7098, 0.6588, 0.6000],\n",
       "           [0.6314, 0.5686, 0.5725,  ..., 0.6784, 0.6275, 0.5765],\n",
       "           [0.6000, 0.5686, 0.5843,  ..., 0.6314, 0.5961, 0.5569]],\n",
       " \n",
       "          [[0.3451, 0.3333, 0.2980,  ..., 0.3137, 0.3059, 0.2392],\n",
       "           [0.3294, 0.3216, 0.2902,  ..., 0.3020, 0.2941, 0.2275],\n",
       "           [0.2941, 0.3098, 0.2980,  ..., 0.3059, 0.3020, 0.2235],\n",
       "           ...,\n",
       "           [0.6745, 0.6039, 0.6000,  ..., 0.7490, 0.7059, 0.6471],\n",
       "           [0.6667, 0.6039, 0.6078,  ..., 0.7176, 0.6745, 0.6235],\n",
       "           [0.6353, 0.6039, 0.6196,  ..., 0.6706, 0.6431, 0.6039]]],\n",
       " \n",
       " \n",
       "         [[[0.5686, 0.5922, 0.6549,  ..., 0.4353, 0.3961, 0.4431],\n",
       "           [0.5922, 0.6314, 0.6627,  ..., 0.4196, 0.3961, 0.4627],\n",
       "           [0.6039, 0.6314, 0.6510,  ..., 0.4157, 0.4000, 0.4745],\n",
       "           ...,\n",
       "           [0.7137, 0.7294, 0.7216,  ..., 0.4863, 0.4745, 0.4549],\n",
       "           [0.7216, 0.7373, 0.7294,  ..., 0.4784, 0.4784, 0.4784],\n",
       "           [0.7255, 0.7373, 0.7176,  ..., 0.4784, 0.4745, 0.4706]],\n",
       " \n",
       "          [[0.5216, 0.5529, 0.6196,  ..., 0.3098, 0.2863, 0.3451],\n",
       "           [0.5451, 0.5922, 0.6275,  ..., 0.3020, 0.2824, 0.3647],\n",
       "           [0.5569, 0.5922, 0.6157,  ..., 0.3059, 0.2980, 0.3843],\n",
       "           ...,\n",
       "           [0.6980, 0.7020, 0.6941,  ..., 0.4078, 0.3961, 0.3765],\n",
       "           [0.7059, 0.7098, 0.7020,  ..., 0.3961, 0.4000, 0.3882],\n",
       "           [0.7098, 0.7020, 0.6824,  ..., 0.3961, 0.3961, 0.3804]],\n",
       " \n",
       "          [[0.4667, 0.5137, 0.5843,  ..., 0.1608, 0.1412, 0.2235],\n",
       "           [0.4902, 0.5529, 0.5922,  ..., 0.1608, 0.1490, 0.2431],\n",
       "           [0.5098, 0.5569, 0.5882,  ..., 0.1608, 0.1686, 0.2627],\n",
       "           ...,\n",
       "           [0.6510, 0.6627, 0.6549,  ..., 0.2784, 0.2667, 0.2392],\n",
       "           [0.6627, 0.6706, 0.6627,  ..., 0.2745, 0.2706, 0.2549],\n",
       "           [0.6667, 0.6667, 0.6471,  ..., 0.2745, 0.2667, 0.2471]]],\n",
       " \n",
       " \n",
       "         [[[0.5294, 0.6118, 0.3843,  ..., 0.5569, 0.3608, 0.5922],\n",
       "           [0.4549, 0.3961, 0.2941,  ..., 0.4275, 0.4471, 0.5608],\n",
       "           [0.5843, 0.1961, 0.4157,  ..., 0.3294, 0.3137, 0.4588],\n",
       "           ...,\n",
       "           [0.5020, 0.4902, 0.5373,  ..., 0.7059, 0.7059, 0.5882],\n",
       "           [0.4353, 0.4275, 0.4667,  ..., 0.4000, 0.5098, 0.5608],\n",
       "           [0.4588, 0.3882, 0.2980,  ..., 0.3922, 0.3725, 0.4863]],\n",
       " \n",
       "          [[0.5529, 0.6353, 0.4078,  ..., 0.5882, 0.3922, 0.6157],\n",
       "           [0.4784, 0.4196, 0.3176,  ..., 0.4549, 0.4784, 0.5843],\n",
       "           [0.6157, 0.2235, 0.4431,  ..., 0.3569, 0.3412, 0.4863],\n",
       "           ...,\n",
       "           [0.5608, 0.5490, 0.5961,  ..., 0.7333, 0.7333, 0.6157],\n",
       "           [0.4941, 0.4863, 0.5255,  ..., 0.4275, 0.5373, 0.5882],\n",
       "           [0.5176, 0.4471, 0.3569,  ..., 0.4196, 0.4000, 0.5137]],\n",
       " \n",
       "          [[0.6078, 0.6980, 0.4706,  ..., 0.6784, 0.4745, 0.7098],\n",
       "           [0.5333, 0.4824, 0.3804,  ..., 0.5569, 0.5686, 0.6784],\n",
       "           [0.6667, 0.2863, 0.5137,  ..., 0.4667, 0.4431, 0.5882],\n",
       "           ...,\n",
       "           [0.6745, 0.6627, 0.7098,  ..., 0.7725, 0.7725, 0.6549],\n",
       "           [0.6157, 0.6078, 0.6471,  ..., 0.4667, 0.5765, 0.6275],\n",
       "           [0.6392, 0.5686, 0.4784,  ..., 0.4588, 0.4392, 0.5529]]]]),\n",
       " tensor([ 8,  0, 13,  1,  0,  4, 18,  0, 33, 13,  9, 35, 13, 22, 42, 16, 41, 44,\n",
       "         10, 22, 42,  2, 37, 18, 22, 14, 34, 41,  8, 39, 29, 31])]"
      ]
     },
     "execution_count": 7,
     "metadata": {},
     "output_type": "execute_result"
    }
   ],
   "source": [
    "next(iter(dm.train_dataloader()))"
   ]
  },
  {
   "cell_type": "code",
   "execution_count": null,
   "id": "a8089188-a9a0-4d59-b56c-68d1bad29bf4",
   "metadata": {},
   "outputs": [],
   "source": []
  },
  {
   "cell_type": "code",
   "execution_count": null,
   "id": "8e756191-5d76-41f6-a716-a25ddafe61af",
   "metadata": {},
   "outputs": [],
   "source": []
  },
  {
   "cell_type": "code",
   "execution_count": 4,
   "id": "20b27136-2c07-4ee6-bc8c-2002dac1f38f",
   "metadata": {},
   "outputs": [],
   "source": [
    "dm.prepare_data()"
   ]
  },
  {
   "cell_type": "code",
   "execution_count": 5,
   "id": "e34f9a60-d3d5-4393-9c04-de7ce70e8cf0",
   "metadata": {},
   "outputs": [],
   "source": [
    "dl = dm.train_dataloader()"
   ]
  },
  {
   "cell_type": "code",
   "execution_count": 6,
   "id": "8ebc8fb3-e665-4544-bb9c-a4656431c0ae",
   "metadata": {},
   "outputs": [
    {
     "ename": "RuntimeError",
     "evalue": "Caught RuntimeError in DataLoader worker process 0.\nOriginal Traceback (most recent call last):\n  File \"/home/spock/projects/ComputerVision/.venv/lib/python3.8/site-packages/torch/utils/data/_utils/worker.py\", line 287, in _worker_loop\n    data = fetcher.fetch(index)\n  File \"/home/spock/projects/ComputerVision/.venv/lib/python3.8/site-packages/torch/utils/data/_utils/fetch.py\", line 52, in fetch\n    return self.collate_fn(data)\n  File \"/home/spock/projects/ComputerVision/.venv/lib/python3.8/site-packages/torch/utils/data/_utils/collate.py\", line 172, in default_collate\n    return [default_collate(samples) for samples in transposed]  # Backwards compatibility.\n  File \"/home/spock/projects/ComputerVision/.venv/lib/python3.8/site-packages/torch/utils/data/_utils/collate.py\", line 172, in <listcomp>\n    return [default_collate(samples) for samples in transposed]  # Backwards compatibility.\n  File \"/home/spock/projects/ComputerVision/.venv/lib/python3.8/site-packages/torch/utils/data/_utils/collate.py\", line 137, in default_collate\n    out = elem.new(storage).resize_(len(batch), *list(elem.size()))\nRuntimeError: Trying to resize storage that is not resizable\n",
     "output_type": "error",
     "traceback": [
      "\u001b[0;31m---------------------------------------------------------------------------\u001b[0m",
      "\u001b[0;31mRuntimeError\u001b[0m                              Traceback (most recent call last)",
      "Input \u001b[0;32mIn [6]\u001b[0m, in \u001b[0;36m<cell line: 1>\u001b[0;34m()\u001b[0m\n\u001b[0;32m----> 1\u001b[0m z \u001b[38;5;241m=\u001b[39m \u001b[38;5;28;43mnext\u001b[39;49m\u001b[43m(\u001b[49m\u001b[38;5;28;43miter\u001b[39;49m\u001b[43m(\u001b[49m\u001b[43mdl\u001b[49m\u001b[43m)\u001b[49m\u001b[43m)\u001b[49m\n",
      "File \u001b[0;32m~/projects/ComputerVision/.venv/lib/python3.8/site-packages/torch/utils/data/dataloader.py:530\u001b[0m, in \u001b[0;36m_BaseDataLoaderIter.__next__\u001b[0;34m(self)\u001b[0m\n\u001b[1;32m    528\u001b[0m \u001b[38;5;28;01mif\u001b[39;00m \u001b[38;5;28mself\u001b[39m\u001b[38;5;241m.\u001b[39m_sampler_iter \u001b[38;5;129;01mis\u001b[39;00m \u001b[38;5;28;01mNone\u001b[39;00m:\n\u001b[1;32m    529\u001b[0m     \u001b[38;5;28mself\u001b[39m\u001b[38;5;241m.\u001b[39m_reset()\n\u001b[0;32m--> 530\u001b[0m data \u001b[38;5;241m=\u001b[39m \u001b[38;5;28;43mself\u001b[39;49m\u001b[38;5;241;43m.\u001b[39;49m\u001b[43m_next_data\u001b[49m\u001b[43m(\u001b[49m\u001b[43m)\u001b[49m\n\u001b[1;32m    531\u001b[0m \u001b[38;5;28mself\u001b[39m\u001b[38;5;241m.\u001b[39m_num_yielded \u001b[38;5;241m+\u001b[39m\u001b[38;5;241m=\u001b[39m \u001b[38;5;241m1\u001b[39m\n\u001b[1;32m    532\u001b[0m \u001b[38;5;28;01mif\u001b[39;00m \u001b[38;5;28mself\u001b[39m\u001b[38;5;241m.\u001b[39m_dataset_kind \u001b[38;5;241m==\u001b[39m _DatasetKind\u001b[38;5;241m.\u001b[39mIterable \u001b[38;5;129;01mand\u001b[39;00m \\\n\u001b[1;32m    533\u001b[0m         \u001b[38;5;28mself\u001b[39m\u001b[38;5;241m.\u001b[39m_IterableDataset_len_called \u001b[38;5;129;01mis\u001b[39;00m \u001b[38;5;129;01mnot\u001b[39;00m \u001b[38;5;28;01mNone\u001b[39;00m \u001b[38;5;129;01mand\u001b[39;00m \\\n\u001b[1;32m    534\u001b[0m         \u001b[38;5;28mself\u001b[39m\u001b[38;5;241m.\u001b[39m_num_yielded \u001b[38;5;241m>\u001b[39m \u001b[38;5;28mself\u001b[39m\u001b[38;5;241m.\u001b[39m_IterableDataset_len_called:\n",
      "File \u001b[0;32m~/projects/ComputerVision/.venv/lib/python3.8/site-packages/torch/utils/data/dataloader.py:1224\u001b[0m, in \u001b[0;36m_MultiProcessingDataLoaderIter._next_data\u001b[0;34m(self)\u001b[0m\n\u001b[1;32m   1222\u001b[0m \u001b[38;5;28;01melse\u001b[39;00m:\n\u001b[1;32m   1223\u001b[0m     \u001b[38;5;28;01mdel\u001b[39;00m \u001b[38;5;28mself\u001b[39m\u001b[38;5;241m.\u001b[39m_task_info[idx]\n\u001b[0;32m-> 1224\u001b[0m     \u001b[38;5;28;01mreturn\u001b[39;00m \u001b[38;5;28;43mself\u001b[39;49m\u001b[38;5;241;43m.\u001b[39;49m\u001b[43m_process_data\u001b[49m\u001b[43m(\u001b[49m\u001b[43mdata\u001b[49m\u001b[43m)\u001b[49m\n",
      "File \u001b[0;32m~/projects/ComputerVision/.venv/lib/python3.8/site-packages/torch/utils/data/dataloader.py:1250\u001b[0m, in \u001b[0;36m_MultiProcessingDataLoaderIter._process_data\u001b[0;34m(self, data)\u001b[0m\n\u001b[1;32m   1248\u001b[0m \u001b[38;5;28mself\u001b[39m\u001b[38;5;241m.\u001b[39m_try_put_index()\n\u001b[1;32m   1249\u001b[0m \u001b[38;5;28;01mif\u001b[39;00m \u001b[38;5;28misinstance\u001b[39m(data, ExceptionWrapper):\n\u001b[0;32m-> 1250\u001b[0m     \u001b[43mdata\u001b[49m\u001b[38;5;241;43m.\u001b[39;49m\u001b[43mreraise\u001b[49m\u001b[43m(\u001b[49m\u001b[43m)\u001b[49m\n\u001b[1;32m   1251\u001b[0m \u001b[38;5;28;01mreturn\u001b[39;00m data\n",
      "File \u001b[0;32m~/projects/ComputerVision/.venv/lib/python3.8/site-packages/torch/_utils.py:457\u001b[0m, in \u001b[0;36mExceptionWrapper.reraise\u001b[0;34m(self)\u001b[0m\n\u001b[1;32m    453\u001b[0m \u001b[38;5;28;01mexcept\u001b[39;00m \u001b[38;5;167;01mTypeError\u001b[39;00m:\n\u001b[1;32m    454\u001b[0m     \u001b[38;5;66;03m# If the exception takes multiple arguments, don't try to\u001b[39;00m\n\u001b[1;32m    455\u001b[0m     \u001b[38;5;66;03m# instantiate since we don't know how to\u001b[39;00m\n\u001b[1;32m    456\u001b[0m     \u001b[38;5;28;01mraise\u001b[39;00m \u001b[38;5;167;01mRuntimeError\u001b[39;00m(msg) \u001b[38;5;28;01mfrom\u001b[39;00m \u001b[38;5;28mNone\u001b[39m\n\u001b[0;32m--> 457\u001b[0m \u001b[38;5;28;01mraise\u001b[39;00m exception\n",
      "\u001b[0;31mRuntimeError\u001b[0m: Caught RuntimeError in DataLoader worker process 0.\nOriginal Traceback (most recent call last):\n  File \"/home/spock/projects/ComputerVision/.venv/lib/python3.8/site-packages/torch/utils/data/_utils/worker.py\", line 287, in _worker_loop\n    data = fetcher.fetch(index)\n  File \"/home/spock/projects/ComputerVision/.venv/lib/python3.8/site-packages/torch/utils/data/_utils/fetch.py\", line 52, in fetch\n    return self.collate_fn(data)\n  File \"/home/spock/projects/ComputerVision/.venv/lib/python3.8/site-packages/torch/utils/data/_utils/collate.py\", line 172, in default_collate\n    return [default_collate(samples) for samples in transposed]  # Backwards compatibility.\n  File \"/home/spock/projects/ComputerVision/.venv/lib/python3.8/site-packages/torch/utils/data/_utils/collate.py\", line 172, in <listcomp>\n    return [default_collate(samples) for samples in transposed]  # Backwards compatibility.\n  File \"/home/spock/projects/ComputerVision/.venv/lib/python3.8/site-packages/torch/utils/data/_utils/collate.py\", line 137, in default_collate\n    out = elem.new(storage).resize_(len(batch), *list(elem.size()))\nRuntimeError: Trying to resize storage that is not resizable\n"
     ]
    }
   ],
   "source": [
    "z = next(iter(dl))"
   ]
  },
  {
   "cell_type": "code",
   "execution_count": null,
   "id": "7140c024-ee3c-4305-be74-d5967a400c7c",
   "metadata": {},
   "outputs": [],
   "source": [
    "z[0]"
   ]
  },
  {
   "cell_type": "code",
   "execution_count": null,
   "id": "e06ea28c-f01f-4f7e-a618-c9f4eeece25b",
   "metadata": {},
   "outputs": [],
   "source": []
  }
 ],
 "metadata": {
  "kernelspec": {
   "display_name": "Python 3 (ipykernel)",
   "language": "python",
   "name": "python3"
  },
  "language_info": {
   "codemirror_mode": {
    "name": "ipython",
    "version": 3
   },
   "file_extension": ".py",
   "mimetype": "text/x-python",
   "name": "python",
   "nbconvert_exporter": "python",
   "pygments_lexer": "ipython3",
   "version": "3.8.10"
  }
 },
 "nbformat": 4,
 "nbformat_minor": 5
}
