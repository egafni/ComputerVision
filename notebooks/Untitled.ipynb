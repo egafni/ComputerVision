{
 "cells": [
  {
   "cell_type": "code",
   "execution_count": 153,
   "id": "ed3051a4-5183-49f2-8769-98fe6b7a7bd0",
   "metadata": {},
   "outputs": [
    {
     "name": "stdout",
     "output_type": "stream",
     "text": [
      "0.01 tensor([-0.1667, -0.1667, -0.1667,  0.5000])\n",
      "0.0 tensor([-0.0017, -0.0017, -0.0017,  0.0050])\n"
     ]
    }
   ],
   "source": [
    "import torch\n",
    "\n",
    "eps = 1e-7\n",
    "\n",
    "s1 = lambda x: torch.sqrt(torch.var(x+eps))\n",
    "s2 = lambda x: torch.var(x+eps)\n",
    "\n",
    "for s in [s1,s2]:\n",
    "    x = torch.tensor([4,4.,4.,4.01], requires_grad=True)\n",
    "\n",
    "    loss = s(x)\n",
    "\n",
    "    loss.backward()\n",
    "    print(round(float(loss),2), x.grad)"
   ]
  },
  {
   "cell_type": "code",
   "execution_count": 127,
   "id": "404c4b79-885a-4910-9661-47df1a8842d6",
   "metadata": {},
   "outputs": [
    {
     "data": {
      "text/plain": [
       "tensor([-1.3333,  0.6667,  0.0000,  0.6667])"
      ]
     },
     "execution_count": 127,
     "metadata": {},
     "output_type": "execute_result"
    }
   ],
   "source": []
  },
  {
   "cell_type": "code",
   "execution_count": null,
   "id": "608b8f21-3190-4eac-8ace-dc0a9fda173f",
   "metadata": {},
   "outputs": [],
   "source": []
  }
 ],
 "metadata": {
  "kernelspec": {
   "display_name": "Python 3 (ipykernel)",
   "language": "python",
   "name": "python3"
  },
  "language_info": {
   "codemirror_mode": {
    "name": "ipython",
    "version": 3
   },
   "file_extension": ".py",
   "mimetype": "text/x-python",
   "name": "python",
   "nbconvert_exporter": "python",
   "pygments_lexer": "ipython3",
   "version": "3.8.10"
  }
 },
 "nbformat": 4,
 "nbformat_minor": 5
}
