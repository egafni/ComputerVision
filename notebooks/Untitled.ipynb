{
 "cells": [
  {
   "cell_type": "code",
   "execution_count": 13,
   "id": "a609b597-b58a-4ad3-b0dd-3cd5c398343b",
   "metadata": {},
   "outputs": [
    {
     "name": "stdout",
     "output_type": "stream",
     "text": [
      "Collecting kache\n",
      "  Downloading kache-0.1.5.tar.gz (3.2 kB)\n",
      "Collecting funcsigs\n",
      "  Downloading funcsigs-1.0.2-py2.py3-none-any.whl (17 kB)\n",
      "Building wheels for collected packages: kache\n",
      "  Building wheel for kache (setup.py) ... \u001b[?25ldone\n",
      "\u001b[?25h  Created wheel for kache: filename=kache-0.1.5-py3-none-any.whl size=2679 sha256=6338fa1f01320809c3a441b0bb7ff82ae181c6e6d41f93c173eba3111d38da69\n",
      "  Stored in directory: /home/spock/.cache/pip/wheels/85/00/07/634b3a9bffbd3a7a9a0ecda27cbddfc50b60bda9207e1208c2\n",
      "Successfully built kache\n",
      "Installing collected packages: funcsigs, kache\n",
      "Successfully installed funcsigs-1.0.2 kache-0.1.5\n",
      "\u001b[33mWARNING: You are using pip version 21.1.3; however, version 22.0.4 is available.\n",
      "You should consider upgrading via the '/home/spock/projects/ComputerVision/.venv/bin/python -m pip install --upgrade pip' command.\u001b[0m\n"
     ]
    }
   ],
   "source": [
    "!pip install kache"
   ]
  },
  {
   "cell_type": "code",
   "execution_count": 11,
   "id": "404c4b79-885a-4910-9661-47df1a8842d6",
   "metadata": {},
   "outputs": [
    {
     "data": {
      "text/plain": [
       "(array([0, 1]), array([1, 0]))"
      ]
     },
     "execution_count": 11,
     "metadata": {},
     "output_type": "execute_result"
    }
   ],
   "source": [
    "from scipy.optimize import linear_sum_assignment\n",
    "import numpy as np\n",
    "\n",
    "cost = np.array([[4, 1, 3],\n",
    "                 [2, 0, 5]])\n",
    "row_ind, col_ind = linear_sum_assignment(cost)\n",
    "\n",
    "row_ind, col_ind"
   ]
  },
  {
   "cell_type": "code",
   "execution_count": 10,
   "id": "608b8f21-3190-4eac-8ace-dc0a9fda173f",
   "metadata": {},
   "outputs": [
    {
     "data": {
      "text/plain": [
       "array([1, 2, 2])"
      ]
     },
     "execution_count": 10,
     "metadata": {},
     "output_type": "execute_result"
    }
   ],
   "source": [
    "{9, 9}\n",
    "{8, 11}\n",
    "{4, 9, 8, 7, 7, 9, 11, 7, 10, 7, 10, 5, 9, 5, 9, 4, 7 }"
   ]
  },
  {
   "cell_type": "code",
   "execution_count": 16,
   "id": "c5978a12-5d4f-4272-920c-5c69ac6b1123",
   "metadata": {},
   "outputs": [
    {
     "data": {
      "text/plain": [
       "[(1, 2), (1, -2), (2, 1), (2, -1), (-1, 2), (-1, -2), (-2, 1), (-2, -1)]"
      ]
     },
     "execution_count": 16,
     "metadata": {},
     "output_type": "execute_result"
    }
   ],
   "source": [
    "POSSIBLE_MOVES = []\n",
    "for i_ in [1,2,-1,-2]:\n",
    "    for j_ in [1,-1] if i_ in [2,-2] else [2,-2]:\n",
    "        POSSIBLE_MOVES.append((i_,j_))\n",
    "POSSIBLE_MOVES"
   ]
  },
  {
   "cell_type": "code",
   "execution_count": 36,
   "id": "f09fd5e8-bcaa-441c-b656-2ae71559d498",
   "metadata": {},
   "outputs": [
    {
     "data": {
      "text/html": [
       "<div>\n",
       "<style scoped>\n",
       "    .dataframe tbody tr th:only-of-type {\n",
       "        vertical-align: middle;\n",
       "    }\n",
       "\n",
       "    .dataframe tbody tr th {\n",
       "        vertical-align: top;\n",
       "    }\n",
       "\n",
       "    .dataframe thead th {\n",
       "        text-align: right;\n",
       "    }\n",
       "</style>\n",
       "<table border=\"1\" class=\"dataframe\">\n",
       "  <thead>\n",
       "    <tr style=\"text-align: right;\">\n",
       "      <th></th>\n",
       "      <th>-5</th>\n",
       "      <th>-4</th>\n",
       "      <th>-3</th>\n",
       "      <th>-2</th>\n",
       "      <th>-1</th>\n",
       "      <th>0</th>\n",
       "      <th>1</th>\n",
       "      <th>2</th>\n",
       "      <th>3</th>\n",
       "      <th>4</th>\n",
       "      <th>5</th>\n",
       "    </tr>\n",
       "  </thead>\n",
       "  <tbody>\n",
       "    <tr>\n",
       "      <th>-5</th>\n",
       "      <td>4.0</td>\n",
       "      <td>3.0</td>\n",
       "      <td>4.0</td>\n",
       "      <td>3.0</td>\n",
       "      <td>4.0</td>\n",
       "      <td>3.0</td>\n",
       "      <td>4.0</td>\n",
       "      <td>3.0</td>\n",
       "      <td>4.0</td>\n",
       "      <td>3.0</td>\n",
       "      <td>4.0</td>\n",
       "    </tr>\n",
       "    <tr>\n",
       "      <th>-4</th>\n",
       "      <td>3.0</td>\n",
       "      <td>4.0</td>\n",
       "      <td>3.0</td>\n",
       "      <td>2.0</td>\n",
       "      <td>3.0</td>\n",
       "      <td>2.0</td>\n",
       "      <td>3.0</td>\n",
       "      <td>2.0</td>\n",
       "      <td>3.0</td>\n",
       "      <td>4.0</td>\n",
       "      <td>3.0</td>\n",
       "    </tr>\n",
       "    <tr>\n",
       "      <th>-3</th>\n",
       "      <td>4.0</td>\n",
       "      <td>3.0</td>\n",
       "      <td>2.0</td>\n",
       "      <td>3.0</td>\n",
       "      <td>2.0</td>\n",
       "      <td>3.0</td>\n",
       "      <td>2.0</td>\n",
       "      <td>3.0</td>\n",
       "      <td>2.0</td>\n",
       "      <td>3.0</td>\n",
       "      <td>4.0</td>\n",
       "    </tr>\n",
       "    <tr>\n",
       "      <th>-2</th>\n",
       "      <td>3.0</td>\n",
       "      <td>2.0</td>\n",
       "      <td>3.0</td>\n",
       "      <td>4.0</td>\n",
       "      <td>1.0</td>\n",
       "      <td>2.0</td>\n",
       "      <td>1.0</td>\n",
       "      <td>4.0</td>\n",
       "      <td>3.0</td>\n",
       "      <td>2.0</td>\n",
       "      <td>3.0</td>\n",
       "    </tr>\n",
       "    <tr>\n",
       "      <th>-1</th>\n",
       "      <td>4.0</td>\n",
       "      <td>3.0</td>\n",
       "      <td>2.0</td>\n",
       "      <td>1.0</td>\n",
       "      <td>2.0</td>\n",
       "      <td>3.0</td>\n",
       "      <td>2.0</td>\n",
       "      <td>1.0</td>\n",
       "      <td>2.0</td>\n",
       "      <td>3.0</td>\n",
       "      <td>4.0</td>\n",
       "    </tr>\n",
       "    <tr>\n",
       "      <th>0</th>\n",
       "      <td>3.0</td>\n",
       "      <td>2.0</td>\n",
       "      <td>3.0</td>\n",
       "      <td>2.0</td>\n",
       "      <td>3.0</td>\n",
       "      <td>0.0</td>\n",
       "      <td>3.0</td>\n",
       "      <td>2.0</td>\n",
       "      <td>3.0</td>\n",
       "      <td>2.0</td>\n",
       "      <td>3.0</td>\n",
       "    </tr>\n",
       "    <tr>\n",
       "      <th>1</th>\n",
       "      <td>4.0</td>\n",
       "      <td>3.0</td>\n",
       "      <td>2.0</td>\n",
       "      <td>1.0</td>\n",
       "      <td>2.0</td>\n",
       "      <td>3.0</td>\n",
       "      <td>2.0</td>\n",
       "      <td>1.0</td>\n",
       "      <td>2.0</td>\n",
       "      <td>3.0</td>\n",
       "      <td>4.0</td>\n",
       "    </tr>\n",
       "    <tr>\n",
       "      <th>2</th>\n",
       "      <td>3.0</td>\n",
       "      <td>2.0</td>\n",
       "      <td>3.0</td>\n",
       "      <td>4.0</td>\n",
       "      <td>1.0</td>\n",
       "      <td>2.0</td>\n",
       "      <td>1.0</td>\n",
       "      <td>4.0</td>\n",
       "      <td>3.0</td>\n",
       "      <td>2.0</td>\n",
       "      <td>3.0</td>\n",
       "    </tr>\n",
       "    <tr>\n",
       "      <th>3</th>\n",
       "      <td>4.0</td>\n",
       "      <td>3.0</td>\n",
       "      <td>2.0</td>\n",
       "      <td>3.0</td>\n",
       "      <td>2.0</td>\n",
       "      <td>3.0</td>\n",
       "      <td>2.0</td>\n",
       "      <td>3.0</td>\n",
       "      <td>2.0</td>\n",
       "      <td>3.0</td>\n",
       "      <td>4.0</td>\n",
       "    </tr>\n",
       "    <tr>\n",
       "      <th>4</th>\n",
       "      <td>3.0</td>\n",
       "      <td>4.0</td>\n",
       "      <td>3.0</td>\n",
       "      <td>2.0</td>\n",
       "      <td>3.0</td>\n",
       "      <td>2.0</td>\n",
       "      <td>3.0</td>\n",
       "      <td>2.0</td>\n",
       "      <td>3.0</td>\n",
       "      <td>4.0</td>\n",
       "      <td>3.0</td>\n",
       "    </tr>\n",
       "    <tr>\n",
       "      <th>5</th>\n",
       "      <td>4.0</td>\n",
       "      <td>3.0</td>\n",
       "      <td>4.0</td>\n",
       "      <td>3.0</td>\n",
       "      <td>4.0</td>\n",
       "      <td>3.0</td>\n",
       "      <td>4.0</td>\n",
       "      <td>3.0</td>\n",
       "      <td>4.0</td>\n",
       "      <td>3.0</td>\n",
       "      <td>4.0</td>\n",
       "    </tr>\n",
       "  </tbody>\n",
       "</table>\n",
       "</div>"
      ],
      "text/plain": [
       "     -5   -4   -3   -2   -1    0    1    2    3    4    5\n",
       "-5  4.0  3.0  4.0  3.0  4.0  3.0  4.0  3.0  4.0  3.0  4.0\n",
       "-4  3.0  4.0  3.0  2.0  3.0  2.0  3.0  2.0  3.0  4.0  3.0\n",
       "-3  4.0  3.0  2.0  3.0  2.0  3.0  2.0  3.0  2.0  3.0  4.0\n",
       "-2  3.0  2.0  3.0  4.0  1.0  2.0  1.0  4.0  3.0  2.0  3.0\n",
       "-1  4.0  3.0  2.0  1.0  2.0  3.0  2.0  1.0  2.0  3.0  4.0\n",
       "0   3.0  2.0  3.0  2.0  3.0  0.0  3.0  2.0  3.0  2.0  3.0\n",
       "1   4.0  3.0  2.0  1.0  2.0  3.0  2.0  1.0  2.0  3.0  4.0\n",
       "2   3.0  2.0  3.0  4.0  1.0  2.0  1.0  4.0  3.0  2.0  3.0\n",
       "3   4.0  3.0  2.0  3.0  2.0  3.0  2.0  3.0  2.0  3.0  4.0\n",
       "4   3.0  4.0  3.0  2.0  3.0  2.0  3.0  2.0  3.0  4.0  3.0\n",
       "5   4.0  3.0  4.0  3.0  4.0  3.0  4.0  3.0  4.0  3.0  4.0"
      ]
     },
     "execution_count": 36,
     "metadata": {},
     "output_type": "execute_result"
    }
   ],
   "source": [
    "from kache import cache\n",
    "import pandas as pd\n",
    "S = 5\n",
    "names = [str(i) for i in range(-S, S+1)]\n",
    "M = pd.DataFrame(np.ones((S*2+1,S*2+1)), index=names, columns=names)\n",
    "M*=-1\n",
    "M.loc['0','0']=0\n",
    "# print(M)\n",
    "\n",
    "def cost(i,j):          \n",
    "    for i_, j_ in POSSIBLE_MOVES:\n",
    "        if i+i_ > S or i+i_<-S or j+j_ > S or j+j_ < -S:\n",
    "            continue                \n",
    "        possible_best_score = M.loc[str(i),str(j)] + 1\n",
    "        if M.loc[str(i+i_),str(j+j_)] == -1 or M.loc[str(i+i_), str(j+j_)] > possible_best_score:\n",
    "            M.loc[str(i+i_),str(j+j_)] = possible_best_score\n",
    "            cost(i+i_, j+j_)\n",
    "\n",
    "cost(0,0)\n",
    "M \n"
   ]
  },
  {
   "cell_type": "code",
   "execution_count": null,
   "id": "05a77118-c129-483f-b3df-a76162363196",
   "metadata": {},
   "outputs": [],
   "source": []
  },
  {
   "cell_type": "code",
   "execution_count": 12,
   "id": "f17881d2-48d0-4938-8eb8-9dddb2641a7a",
   "metadata": {},
   "outputs": [
    {
     "data": {
      "text/plain": [
       "array([[ 9,  9],\n",
       "       [ 8, 11]])"
      ]
     },
     "execution_count": 12,
     "metadata": {},
     "output_type": "execute_result"
    }
   ],
   "source": [
    "horses = np.array([[9,9],[8,11]])\n",
    "# find cost function for i,j to k,l\n",
    "\n"
   ]
  }
 ],
 "metadata": {
  "kernelspec": {
   "display_name": "Python 3 (ipykernel)",
   "language": "python",
   "name": "python3"
  },
  "language_info": {
   "codemirror_mode": {
    "name": "ipython",
    "version": 3
   },
   "file_extension": ".py",
   "mimetype": "text/x-python",
   "name": "python",
   "nbconvert_exporter": "python",
   "pygments_lexer": "ipython3",
   "version": "3.8.10"
  }
 },
 "nbformat": 4,
 "nbformat_minor": 5
}
