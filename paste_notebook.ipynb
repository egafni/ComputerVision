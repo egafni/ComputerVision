{
 "cells": [
  {
   "cell_type": "code",
   "execution_count": 79,
   "metadata": {},
   "outputs": [],
   "source": [
    "\"\"\"\n",
    "This program will take the pasted input from a webpage \n",
    "Then use splitting and regex to extract the critical information into a dataframe\n",
    "\"\"\"\n",
    "\n",
    "\n",
    "from distutils.command.clean import clean\n",
    "import os\n",
    "import pandas as pd\n",
    "import datetime as dt\n",
    "\n",
    "\n",
    "def clean_text(text_file):\n",
    "    \"\"\"\n",
    "    This function will take the text file and clean it up\n",
    "    The columns of the dataframe will be:\n",
    "    Organization Name, Funding Type, Money Raised, Announced Date,\n",
    "    Organization Description, Organization Industries, Organization Location\n",
    "\n",
    "    The raw data starts like:\n",
    "    1.\n",
    "    Cruise Logo\n",
    "    Cruise --> Organization Name\n",
    "    Corporate Round --> Funding Type\n",
    "    $1,350,000,000 --> Money Raised\n",
    "    Mar 18, 2022 --> Announced Date\n",
    "    Corporate Round - Cruise Logo\n",
    "    Corporate Round - Cruise\n",
    "    Cruise builds self-driving vehicles that safely connect people to places, things, and experiences they care about. --> Organization Description\n",
    "    Artificial Intelligence, Automotive, Autonomous Vehicles, Robotics, Software, Transportation --> Organization Industries\n",
    "    San Francisco, California, United States, North America --> Organization Location\n",
    "    \"\"\"\n",
    "    # open the text file and loop through it line by line\n",
    "    with open(text_file, \"r\", encoding=\"utf8\") as f:\n",
    "        # create an empty data frame with the columns we want\n",
    "        df = pd.DataFrame(\n",
    "            columns=[\n",
    "                \"Organization Name\",\n",
    "                \"Funding Type\",\n",
    "                \"Money Raised\",\n",
    "                \"Announced Date\",\n",
    "                \"Organization Description\",\n",
    "                \"Organization Industries\",\n",
    "                \"Organization Location\",\n",
    "                \"Organization Country\"\n",
    "            ]\n",
    "        )\n",
    "        data_frame_entry = []\n",
    "        count = 0\n",
    "        # loop through all lines in the file\n",
    "        for line in data:\n",
    "            # reset count to 0 and add the line to the dataframe after going through one entry\n",
    "            if count == 11:\n",
    "                count = 0\n",
    "                # add data_frame_entry as a row to the dataframe\n",
    "                df.loc[len(df)] = data_frame_entry\n",
    "                # reset data_frame_entry to an empty list\n",
    "                data_frame_entry = []\n",
    "            if count == 1:\n",
    "                # check if the line contains the word \"Logo\" else we know we need to add it\n",
    "                if \"Logo\" not in line:\n",
    "                    count -= 1\n",
    "\n",
    "            if count == 2:# org name\n",
    "                data_frame_entry.append(line.strip())\n",
    "            if count == 3: # funding type\n",
    "                data_frame_entry.append(line.strip())\n",
    "            if count == 4: # money raised\n",
    "                money_raised = convert_money(line.strip())                \n",
    "                data_frame_entry.append(money_raised)\n",
    "            if count == 5: # announced date\n",
    "                date = line.strip()\n",
    "                date = convert_date(date)\n",
    "                data_frame_entry.append(date)\n",
    "            if count == 8: # description\n",
    "                data_frame_entry.append(line.strip())\n",
    "            if count == 9: # industries\n",
    "                data_frame_entry.append(line.strip())\n",
    "            if count == 10: # location\n",
    "                data_frame_entry.append(line.strip())\n",
    "                if line.strip() == \"—\":\n",
    "                    country = line.strip()\n",
    "                else:\n",
    "                    country = line.strip().split(\",\")[-2].strip()\n",
    "                data_frame_entry.append(country)\n",
    "            count += 1\n",
    "    return df\n",
    "\n",
    "# clean the text file 'data1.txt' in the folder webscape subfolder Data added to the current working directory\n",
    "# get current working directory\n",
    "cwd = os.getcwd()\n",
    "file = cwd + \"\\\\webscrape\\\\Data\\\\data1.txt\"\n",
    "file = 'data1.txt'\n",
    "\n",
    "\n",
    "with open(file) as fp:\n",
    "    data_raw = fp.read()\n",
    "    # data = data_raw.split('\\n\\n')\n",
    "df = clean_text(file)\n",
    "# add a column for country by splitting the location column with ', ' and taking the second to last element\n",
    "\n"
   ]
  },
  {
   "cell_type": "code",
   "execution_count": 57,
   "metadata": {},
   "outputs": [
    {
     "data": {
      "text/plain": [
       "'1.\\n\\nCruise Logo\\n\\nCruise\\n\\nCorporate Round\\n\\n$1,350,000,000\\n\\nMar 18, 2022\\n\\nCorporate Round - Cruise Log'"
      ]
     },
     "execution_count": 57,
     "metadata": {},
     "output_type": "execute_result"
    }
   ],
   "source": [
    "''.join(data_raw)[:100]"
   ]
  },
  {
   "cell_type": "code",
   "execution_count": 119,
   "metadata": {},
   "outputs": [
    {
     "data": {
      "text/html": [
       "<div>\n",
       "<style scoped>\n",
       "    .dataframe tbody tr th:only-of-type {\n",
       "        vertical-align: middle;\n",
       "    }\n",
       "\n",
       "    .dataframe tbody tr th {\n",
       "        vertical-align: top;\n",
       "    }\n",
       "\n",
       "    .dataframe thead th {\n",
       "        text-align: right;\n",
       "    }\n",
       "</style>\n",
       "<table border=\"1\" class=\"dataframe\">\n",
       "  <thead>\n",
       "    <tr style=\"text-align: right;\">\n",
       "      <th></th>\n",
       "      <th>Organization Name</th>\n",
       "      <th>Funding Type</th>\n",
       "      <th>Money Raised</th>\n",
       "      <th>Announced Date</th>\n",
       "      <th>Organization Description</th>\n",
       "      <th>Organization Industries</th>\n",
       "      <th>Organization Location</th>\n",
       "      <th>amount</th>\n",
       "    </tr>\n",
       "  </thead>\n",
       "  <tbody>\n",
       "    <tr>\n",
       "      <th>0</th>\n",
       "      <td>Cruise</td>\n",
       "      <td>Corporate Round</td>\n",
       "      <td>$1,350,000,000</td>\n",
       "      <td>Mar 18, 2022</td>\n",
       "      <td>Cruise builds self-driving vehicles that safel...</td>\n",
       "      <td>Artificial Intelligence, Automotive, Autonomou...</td>\n",
       "      <td>San Francisco, California, United States, Nort...</td>\n",
       "      <td>1350000000</td>\n",
       "    </tr>\n",
       "    <tr>\n",
       "      <th>1</th>\n",
       "      <td>WeRide</td>\n",
       "      <td>Series D</td>\n",
       "      <td>$400,000,000</td>\n",
       "      <td>Mar 24, 2022</td>\n",
       "      <td>WeRide is a leading Level 4 autonomous driving...</td>\n",
       "      <td>Artificial Intelligence, Autonomous Vehicles, ...</td>\n",
       "      <td>Guangzhou, Guangdong, China, Asia</td>\n",
       "      <td>400000000</td>\n",
       "    </tr>\n",
       "    <tr>\n",
       "      <th>2</th>\n",
       "      <td>Uniphore</td>\n",
       "      <td>Series E</td>\n",
       "      <td>$400,000,000</td>\n",
       "      <td>Feb 16, 2022</td>\n",
       "      <td>Uniphore is a customer service platform that i...</td>\n",
       "      <td>Artificial Intelligence, Customer Service, Mac...</td>\n",
       "      <td>Palo Alto, California, United States, North Am...</td>\n",
       "      <td>400000000</td>\n",
       "    </tr>\n",
       "    <tr>\n",
       "      <th>3</th>\n",
       "      <td>Clari</td>\n",
       "      <td>Series F</td>\n",
       "      <td>$225,000,000</td>\n",
       "      <td>Jan 19, 2022</td>\n",
       "      <td>Clari is a revenue operations company that pro...</td>\n",
       "      <td>Analytics, Artificial Intelligence, Business I...</td>\n",
       "      <td>Sunnyvale, California, United States, North Am...</td>\n",
       "      <td>225000000</td>\n",
       "    </tr>\n",
       "    <tr>\n",
       "      <th>4</th>\n",
       "      <td>Soterea</td>\n",
       "      <td>Series B</td>\n",
       "      <td>CN¥1,300,000,000</td>\n",
       "      <td>Mar 28, 2022</td>\n",
       "      <td>Soterea develops an intelligent driving system.</td>\n",
       "      <td>Artificial Intelligence, Automotive, Autonomou...</td>\n",
       "      <td>Tianjin, Guangdong, China, Asia</td>\n",
       "      <td>1300000000</td>\n",
       "    </tr>\n",
       "  </tbody>\n",
       "</table>\n",
       "</div>"
      ],
      "text/plain": [
       "  Organization Name     Funding Type      Money Raised Announced Date  \\\n",
       "0            Cruise  Corporate Round    $1,350,000,000   Mar 18, 2022   \n",
       "1            WeRide         Series D      $400,000,000   Mar 24, 2022   \n",
       "2          Uniphore         Series E      $400,000,000   Feb 16, 2022   \n",
       "3             Clari         Series F      $225,000,000   Jan 19, 2022   \n",
       "4           Soterea         Series B  CN¥1,300,000,000   Mar 28, 2022   \n",
       "\n",
       "                            Organization Description  \\\n",
       "0  Cruise builds self-driving vehicles that safel...   \n",
       "1  WeRide is a leading Level 4 autonomous driving...   \n",
       "2  Uniphore is a customer service platform that i...   \n",
       "3  Clari is a revenue operations company that pro...   \n",
       "4    Soterea develops an intelligent driving system.   \n",
       "\n",
       "                             Organization Industries  \\\n",
       "0  Artificial Intelligence, Automotive, Autonomou...   \n",
       "1  Artificial Intelligence, Autonomous Vehicles, ...   \n",
       "2  Artificial Intelligence, Customer Service, Mac...   \n",
       "3  Analytics, Artificial Intelligence, Business I...   \n",
       "4  Artificial Intelligence, Automotive, Autonomou...   \n",
       "\n",
       "                               Organization Location      amount  \n",
       "0  San Francisco, California, United States, Nort...  1350000000  \n",
       "1                  Guangzhou, Guangdong, China, Asia   400000000  \n",
       "2  Palo Alto, California, United States, North Am...   400000000  \n",
       "3  Sunnyvale, California, United States, North Am...   225000000  \n",
       "4                    Tianjin, Guangdong, China, Asia  1300000000  "
      ]
     },
     "execution_count": 119,
     "metadata": {},
     "output_type": "execute_result"
    }
   ],
   "source": [
    "import re\n",
    "\n",
    "def get_data():\n",
    "    row = []\n",
    "    for line in data_raw.split('\\n\\n'):\n",
    "        line = line.rstrip()\n",
    "        if re.match('\\d+\\.',line):\n",
    "            if row:\n",
    "                yield row\n",
    "            row = []\n",
    "        row.append(line)\n",
    "            \n",
    "rows = get_data()\n",
    "df = pd.DataFrame(rows)\n",
    "del df[0]\n",
    "del df[1]\n",
    "del df[6]\n",
    "del df[7]\n",
    "df.columns = [\n",
    "                \"Organization Name\",\n",
    "                \"Funding Type\",\n",
    "                \"Money Raised\",\n",
    "                \"Announced Date\",\n",
    "                \"Organization Description\",\n",
    "                \"Organization Industries\",\n",
    "                \"Organization Location\",\n",
    "            ]\n",
    "# convert money raised to an int\n",
    "df['amount'] = df['Money Raised'].map(lambda s: int(''.join(re.findall('\\d', s))))\n",
    "df = df[df['Money Raised'].str.contains('$')]\n",
    "df.head()"
   ]
  },
  {
   "cell_type": "code",
   "execution_count": 121,
   "metadata": {},
   "outputs": [
    {
     "ename": "ValueError",
     "evalue": "could not convert string to Timestamp",
     "output_type": "error",
     "traceback": [
      "\u001b[0;31m---------------------------------------------------------------------------\u001b[0m",
      "\u001b[0;31mParserError\u001b[0m                               Traceback (most recent call last)",
      "File \u001b[0;32m~/Library/Caches/pypoetry/virtualenvs/computervision-IQVNbmSR-py3.9/lib/python3.9/site-packages/pandas/_libs/tslibs/conversion.pyx:649\u001b[0m, in \u001b[0;36mpandas._libs.tslibs.conversion._convert_str_to_tsobject\u001b[0;34m()\u001b[0m\n",
      "File \u001b[0;32m~/Library/Caches/pypoetry/virtualenvs/computervision-IQVNbmSR-py3.9/lib/python3.9/site-packages/pandas/_libs/tslibs/parsing.pyx:281\u001b[0m, in \u001b[0;36mpandas._libs.tslibs.parsing.parse_datetime_string\u001b[0;34m()\u001b[0m\n",
      "File \u001b[0;32m~/Library/Caches/pypoetry/virtualenvs/computervision-IQVNbmSR-py3.9/lib/python3.9/site-packages/dateutil/parser/_parser.py:1368\u001b[0m, in \u001b[0;36mparse\u001b[0;34m(timestr, parserinfo, **kwargs)\u001b[0m\n\u001b[1;32m   1367\u001b[0m \u001b[38;5;28;01melse\u001b[39;00m:\n\u001b[0;32m-> 1368\u001b[0m     \u001b[38;5;28;01mreturn\u001b[39;00m \u001b[43mDEFAULTPARSER\u001b[49m\u001b[38;5;241;43m.\u001b[39;49m\u001b[43mparse\u001b[49m\u001b[43m(\u001b[49m\u001b[43mtimestr\u001b[49m\u001b[43m,\u001b[49m\u001b[43m \u001b[49m\u001b[38;5;241;43m*\u001b[39;49m\u001b[38;5;241;43m*\u001b[39;49m\u001b[43mkwargs\u001b[49m\u001b[43m)\u001b[49m\n",
      "File \u001b[0;32m~/Library/Caches/pypoetry/virtualenvs/computervision-IQVNbmSR-py3.9/lib/python3.9/site-packages/dateutil/parser/_parser.py:643\u001b[0m, in \u001b[0;36mparser.parse\u001b[0;34m(self, timestr, default, ignoretz, tzinfos, **kwargs)\u001b[0m\n\u001b[1;32m    642\u001b[0m \u001b[38;5;28;01mif\u001b[39;00m res \u001b[38;5;129;01mis\u001b[39;00m \u001b[38;5;28;01mNone\u001b[39;00m:\n\u001b[0;32m--> 643\u001b[0m     \u001b[38;5;28;01mraise\u001b[39;00m ParserError(\u001b[38;5;124m\"\u001b[39m\u001b[38;5;124mUnknown string format: \u001b[39m\u001b[38;5;132;01m%s\u001b[39;00m\u001b[38;5;124m\"\u001b[39m, timestr)\n\u001b[1;32m    645\u001b[0m \u001b[38;5;28;01mif\u001b[39;00m \u001b[38;5;28mlen\u001b[39m(res) \u001b[38;5;241m==\u001b[39m \u001b[38;5;241m0\u001b[39m:\n",
      "\u001b[0;31mParserError\u001b[0m: Unknown string format: Series A - UGO",
      "\nDuring handling of the above exception, another exception occurred:\n",
      "\u001b[0;31mValueError\u001b[0m                                Traceback (most recent call last)",
      "Input \u001b[0;32mIn [121]\u001b[0m, in \u001b[0;36m<cell line: 1>\u001b[0;34m()\u001b[0m\n\u001b[0;32m----> 1\u001b[0m \u001b[43mdf\u001b[49m\u001b[43m[\u001b[49m\u001b[38;5;124;43m'\u001b[39;49m\u001b[38;5;124;43mAnnounced Date\u001b[39;49m\u001b[38;5;124;43m'\u001b[39;49m\u001b[43m]\u001b[49m\u001b[38;5;241;43m.\u001b[39;49m\u001b[43mmap\u001b[49m\u001b[43m(\u001b[49m\u001b[43mpd\u001b[49m\u001b[38;5;241;43m.\u001b[39;49m\u001b[43mTimestamp\u001b[49m\u001b[43m)\u001b[49m\n",
      "File \u001b[0;32m~/Library/Caches/pypoetry/virtualenvs/computervision-IQVNbmSR-py3.9/lib/python3.9/site-packages/pandas/core/series.py:4237\u001b[0m, in \u001b[0;36mSeries.map\u001b[0;34m(self, arg, na_action)\u001b[0m\n\u001b[1;32m   4162\u001b[0m \u001b[38;5;28;01mdef\u001b[39;00m \u001b[38;5;21mmap\u001b[39m(\u001b[38;5;28mself\u001b[39m, arg, na_action\u001b[38;5;241m=\u001b[39m\u001b[38;5;28;01mNone\u001b[39;00m) \u001b[38;5;241m-\u001b[39m\u001b[38;5;241m>\u001b[39m Series:\n\u001b[1;32m   4163\u001b[0m     \u001b[38;5;124;03m\"\"\"\u001b[39;00m\n\u001b[1;32m   4164\u001b[0m \u001b[38;5;124;03m    Map values of Series according to an input mapping or function.\u001b[39;00m\n\u001b[1;32m   4165\u001b[0m \n\u001b[0;32m   (...)\u001b[0m\n\u001b[1;32m   4235\u001b[0m \u001b[38;5;124;03m    dtype: object\u001b[39;00m\n\u001b[1;32m   4236\u001b[0m \u001b[38;5;124;03m    \"\"\"\u001b[39;00m\n\u001b[0;32m-> 4237\u001b[0m     new_values \u001b[38;5;241m=\u001b[39m \u001b[38;5;28;43mself\u001b[39;49m\u001b[38;5;241;43m.\u001b[39;49m\u001b[43m_map_values\u001b[49m\u001b[43m(\u001b[49m\u001b[43marg\u001b[49m\u001b[43m,\u001b[49m\u001b[43m \u001b[49m\u001b[43mna_action\u001b[49m\u001b[38;5;241;43m=\u001b[39;49m\u001b[43mna_action\u001b[49m\u001b[43m)\u001b[49m\n\u001b[1;32m   4238\u001b[0m     \u001b[38;5;28;01mreturn\u001b[39;00m \u001b[38;5;28mself\u001b[39m\u001b[38;5;241m.\u001b[39m_constructor(new_values, index\u001b[38;5;241m=\u001b[39m\u001b[38;5;28mself\u001b[39m\u001b[38;5;241m.\u001b[39mindex)\u001b[38;5;241m.\u001b[39m__finalize__(\n\u001b[1;32m   4239\u001b[0m         \u001b[38;5;28mself\u001b[39m, method\u001b[38;5;241m=\u001b[39m\u001b[38;5;124m\"\u001b[39m\u001b[38;5;124mmap\u001b[39m\u001b[38;5;124m\"\u001b[39m\n\u001b[1;32m   4240\u001b[0m     )\n",
      "File \u001b[0;32m~/Library/Caches/pypoetry/virtualenvs/computervision-IQVNbmSR-py3.9/lib/python3.9/site-packages/pandas/core/base.py:880\u001b[0m, in \u001b[0;36mIndexOpsMixin._map_values\u001b[0;34m(self, mapper, na_action)\u001b[0m\n\u001b[1;32m    877\u001b[0m         \u001b[38;5;28;01mraise\u001b[39;00m \u001b[38;5;167;01mValueError\u001b[39;00m(msg)\n\u001b[1;32m    879\u001b[0m \u001b[38;5;66;03m# mapper is a function\u001b[39;00m\n\u001b[0;32m--> 880\u001b[0m new_values \u001b[38;5;241m=\u001b[39m \u001b[43mmap_f\u001b[49m\u001b[43m(\u001b[49m\u001b[43mvalues\u001b[49m\u001b[43m,\u001b[49m\u001b[43m \u001b[49m\u001b[43mmapper\u001b[49m\u001b[43m)\u001b[49m\n\u001b[1;32m    882\u001b[0m \u001b[38;5;28;01mreturn\u001b[39;00m new_values\n",
      "File \u001b[0;32m~/Library/Caches/pypoetry/virtualenvs/computervision-IQVNbmSR-py3.9/lib/python3.9/site-packages/pandas/_libs/lib.pyx:2870\u001b[0m, in \u001b[0;36mpandas._libs.lib.map_infer\u001b[0;34m()\u001b[0m\n",
      "File \u001b[0;32m~/Library/Caches/pypoetry/virtualenvs/computervision-IQVNbmSR-py3.9/lib/python3.9/site-packages/pandas/_libs/tslibs/timestamps.pyx:1399\u001b[0m, in \u001b[0;36mpandas._libs.tslibs.timestamps.Timestamp.__new__\u001b[0;34m()\u001b[0m\n",
      "File \u001b[0;32m~/Library/Caches/pypoetry/virtualenvs/computervision-IQVNbmSR-py3.9/lib/python3.9/site-packages/pandas/_libs/tslibs/conversion.pyx:408\u001b[0m, in \u001b[0;36mpandas._libs.tslibs.conversion.convert_to_tsobject\u001b[0;34m()\u001b[0m\n",
      "File \u001b[0;32m~/Library/Caches/pypoetry/virtualenvs/computervision-IQVNbmSR-py3.9/lib/python3.9/site-packages/pandas/_libs/tslibs/conversion.pyx:652\u001b[0m, in \u001b[0;36mpandas._libs.tslibs.conversion._convert_str_to_tsobject\u001b[0;34m()\u001b[0m\n",
      "\u001b[0;31mValueError\u001b[0m: could not convert string to Timestamp"
     ]
    }
   ],
   "source": []
  },
  {
   "cell_type": "code",
   "execution_count": 106,
   "metadata": {},
   "outputs": [
    {
     "data": {
      "text/plain": [
       "0      1350000000\n",
       "1       400000000\n",
       "2       400000000\n",
       "3       225000000\n",
       "4      1300000000\n",
       "          ...    \n",
       "544         50000\n",
       "545         50000\n",
       "546         50000\n",
       "547         35000\n",
       "548         30000\n",
       "Name: 4, Length: 549, dtype: int64"
      ]
     },
     "execution_count": 106,
     "metadata": {},
     "output_type": "execute_result"
    }
   ],
   "source": []
  },
  {
   "cell_type": "code",
   "execution_count": 76,
   "metadata": {},
   "outputs": [],
   "source": [
    "# This function adds a column called \"Main Industry\" to the dataframe for coloring via graph\n",
    "# It will go through each row's industries and assign whatever industry has the highest value\n",
    "def assign_main_industry(df, industry_total):\n",
    "    # add a column to the dataframe called \"Main Industry\"\n",
    "    df[\"Main Industry\"] = \"\"\n",
    "    # sort the dictionary by value\n",
    "    sorted_industries = sorted(industry_total.items(), key=lambda x: x[1], reverse=True)\n",
    "    for idx, long_industry in enumerate(df[\"Organization Industries\"]):\n",
    "        # split the long string on every \", \"\n",
    "        industries = long_industry.split(\", \")\n",
    "        for idx, industry in enumerate(sorted_industries):\n",
    "            if industry[0] in industries:\n",
    "                df[\"Main Industry\"][idx] = industry[0]\n",
    "    return df\n",
    "\n",
    "def convert_money(money_raised):\n",
    "    \"\"\"\n",
    "    This function will take the money raised convert it to a float and into the value of USDs\n",
    "    \"\"\"        \n",
    "    if money_raised.startswith(\"$\"):\n",
    "        # remove the $ sign and all commas then convert to numeric\n",
    "        money_raised = money_raised.replace(\"$\", \"\").replace(\",\", \"\").replace(\" \", \"\")\n",
    "        money_raised = float(money_raised)\n",
    "    elif money_raised.startswith(\"CN¥\"):\n",
    "        money_raised = money_raised.replace(\"CN¥\", \"\").replace(\",\", \"\").replace(\" \", \"\")\n",
    "        money_raised = float(money_raised)\n",
    "        money_raised = money_raised * 0.156961\n",
    "    elif money_raised.startswith(\"TRY\"):\n",
    "        money_raised = money_raised.replace(\"TRY\", \"\").replace(\",\", \"\").replace(\" \", \"\")\n",
    "        money_raised = float(money_raised)\n",
    "        money_raised = money_raised * 0.068\n",
    "    elif money_raised.startswith(\"£\"):\n",
    "        money_raised = money_raised.replace(\"£\", \"\").replace(\",\", \"\").replace(\" \", \"\")\n",
    "        money_raised = float(money_raised)\n",
    "        money_raised = money_raised * 1.31\n",
    "    elif money_raised.startswith(\"A$\"):\n",
    "        money_raised = money_raised.replace(\"A$\", \"\").replace(\",\", \"\").replace(\" \", \"\")\n",
    "        money_raised = float(money_raised)\n",
    "        money_raised = money_raised * 0.740222 \n",
    "    elif money_raised.startswith(\"CA$\"):\n",
    "        money_raised = money_raised.replace(\"CA$\", \"\").replace(\",\", \"\").replace(\" \", \"\")\n",
    "        money_raised = float(money_raised)\n",
    "        money_raised = money_raised * 0.792823 \n",
    "    elif money_raised.startswith(\"¥\"):\n",
    "        money_raised = money_raised.replace(\"¥\", \"\").replace(\",\", \"\").replace(\" \", \"\")\n",
    "        money_raised = float(money_raised)\n",
    "        money_raised = money_raised * 0.0079\n",
    "    elif money_raised.startswith(\"₹\"):\n",
    "        money_raised = money_raised.replace(\"₹\", \"\").replace(\",\", \"\").replace(\" \", \"\")\n",
    "        money_raised = float(money_raised)\n",
    "        money_raised = money_raised * 0.013\n",
    "    elif money_raised.startswith(\"SEK\"):\n",
    "        money_raised = money_raised.replace(\"SEK\", \"\").replace(\",\", \"\").replace(\" \", \"\")\n",
    "        money_raised = float(money_raised)\n",
    "        money_raised = money_raised * 0.10\n",
    "    elif money_raised.startswith(\"€\"):\n",
    "        money_raised = money_raised.replace(\"€\", \"\").replace(\",\", \"\").replace(\" \", \"\")\n",
    "        money_raised = float(money_raised)\n",
    "        money_raised = money_raised * 1.08\n",
    "    elif money_raised.startswith(\"₩\"):\n",
    "        money_raised = money_raised.replace(\"₩\", \"\").replace(\",\", \"\").replace(\" \", \"\")\n",
    "        money_raised = float(money_raised)\n",
    "        money_raised = money_raised * 0.00081\n",
    "    elif money_raised.startswith(\"SGD\"):\n",
    "        money_raised = money_raised.replace(\"SGD\", \"\").replace(\",\", \"\").replace(\" \", \"\")\n",
    "        money_raised = float(money_raised)\n",
    "        money_raised = money_raised * 0.74\n",
    "    elif money_raised.startswith(\"R$\"):\n",
    "        money_raised = money_raised.replace(\"R$\", \"\").replace(\",\", \"\").replace(\" \", \"\")\n",
    "        money_raised = float(money_raised)\n",
    "        money_raised = money_raised * 0.212761\n",
    "    elif money_raised.startswith(\"CHF\"):\n",
    "        money_raised = money_raised.replace(\"CHF\", \"\").replace(\",\", \"\").replace(\" \", \"\")\n",
    "        money_raised = float(money_raised)\n",
    "        money_raised = money_raised * 1.06\n",
    "    return money_raised\n",
    "\n",
    "def convert_date(the_date):\n",
    "    \"\"\"\n",
    "    This function will take a date from a format of \"Mar 18, 2022\" and convert it to a datetime object\n",
    "    \"\"\"\n",
    "    # split the date into its components\n",
    "    month_day, year = the_date.split(\", \")\n",
    "    month, day = month_day.split(\" \")\n",
    "    # create a datetime object\n",
    "    date_object = dt.datetime(int(year), month_to_int(month), int(day))\n",
    "    return date_object\n",
    "\n",
    "def month_to_int(month):\n",
    "    \"\"\"\n",
    "    This function will take a month and convert it to an integer\n",
    "    \"\"\"\n",
    "    if month == \"Jan\":\n",
    "        return 1\n",
    "    elif month == \"Feb\":\n",
    "        return 2\n",
    "    elif month == \"Mar\":\n",
    "        return 3\n",
    "    elif month == \"Apr\":\n",
    "        return 4\n",
    "    elif month == \"May\":\n",
    "        return 5\n",
    "    elif month == \"Jun\":\n",
    "        return 6\n",
    "    elif month == \"Jul\":\n",
    "        return 7\n",
    "    elif month == \"Aug\":\n",
    "        return 8\n",
    "    elif month == \"Sep\":\n",
    "        return 9\n",
    "    elif month == \"Oct\":\n",
    "        return 10\n",
    "    elif month == \"Nov\":\n",
    "        return 11\n",
    "    elif month == \"Dec\":\n",
    "        return 12"
   ]
  },
  {
   "cell_type": "code",
   "execution_count": null,
   "metadata": {},
   "outputs": [],
   "source": []
  },
  {
   "cell_type": "code",
   "execution_count": 27,
   "metadata": {},
   "outputs": [
    {
     "data": {
      "text/html": [
       "<div>\n",
       "<style scoped>\n",
       "    .dataframe tbody tr th:only-of-type {\n",
       "        vertical-align: middle;\n",
       "    }\n",
       "\n",
       "    .dataframe tbody tr th {\n",
       "        vertical-align: top;\n",
       "    }\n",
       "\n",
       "    .dataframe thead th {\n",
       "        text-align: right;\n",
       "    }\n",
       "</style>\n",
       "<table border=\"1\" class=\"dataframe\">\n",
       "  <thead>\n",
       "    <tr style=\"text-align: right;\">\n",
       "      <th></th>\n",
       "      <th>Organization Name</th>\n",
       "      <th>Funding Type</th>\n",
       "      <th>Money Raised</th>\n",
       "      <th>Announced Date</th>\n",
       "      <th>Organization Description</th>\n",
       "      <th>Organization Industries</th>\n",
       "      <th>Organization Location</th>\n",
       "      <th>Organization Country</th>\n",
       "    </tr>\n",
       "  </thead>\n",
       "  <tbody>\n",
       "    <tr>\n",
       "      <th>0</th>\n",
       "      <td>Cruise</td>\n",
       "      <td>Corporate Round</td>\n",
       "      <td>1.350000e+09</td>\n",
       "      <td>2022-03-18</td>\n",
       "      <td>Cruise builds self-driving vehicles that safel...</td>\n",
       "      <td>Artificial Intelligence, Automotive, Autonomou...</td>\n",
       "      <td>San Francisco, California, United States, Nort...</td>\n",
       "      <td>United States</td>\n",
       "    </tr>\n",
       "    <tr>\n",
       "      <th>1</th>\n",
       "      <td>WeRide</td>\n",
       "      <td>Series D</td>\n",
       "      <td>4.000000e+08</td>\n",
       "      <td>2022-03-24</td>\n",
       "      <td>WeRide is a leading Level 4 autonomous driving...</td>\n",
       "      <td>Artificial Intelligence, Autonomous Vehicles, ...</td>\n",
       "      <td>Guangzhou, Guangdong, China, Asia</td>\n",
       "      <td>China</td>\n",
       "    </tr>\n",
       "    <tr>\n",
       "      <th>2</th>\n",
       "      <td>Uniphore</td>\n",
       "      <td>Series E</td>\n",
       "      <td>4.000000e+08</td>\n",
       "      <td>2022-02-16</td>\n",
       "      <td>Uniphore is a customer service platform that i...</td>\n",
       "      <td>Artificial Intelligence, Customer Service, Mac...</td>\n",
       "      <td>Palo Alto, California, United States, North Am...</td>\n",
       "      <td>United States</td>\n",
       "    </tr>\n",
       "    <tr>\n",
       "      <th>3</th>\n",
       "      <td>Clari</td>\n",
       "      <td>Series F</td>\n",
       "      <td>2.250000e+08</td>\n",
       "      <td>2022-01-19</td>\n",
       "      <td>Clari is a revenue operations company that pro...</td>\n",
       "      <td>Analytics, Artificial Intelligence, Business I...</td>\n",
       "      <td>Sunnyvale, California, United States, North Am...</td>\n",
       "      <td>United States</td>\n",
       "    </tr>\n",
       "    <tr>\n",
       "      <th>4</th>\n",
       "      <td>Soterea</td>\n",
       "      <td>Series B</td>\n",
       "      <td>2.040493e+08</td>\n",
       "      <td>2022-03-28</td>\n",
       "      <td>Soterea develops an intelligent driving system.</td>\n",
       "      <td>Artificial Intelligence, Automotive, Autonomou...</td>\n",
       "      <td>Tianjin, Guangdong, China, Asia</td>\n",
       "      <td>China</td>\n",
       "    </tr>\n",
       "  </tbody>\n",
       "</table>\n",
       "</div>"
      ],
      "text/plain": [
       "  Organization Name     Funding Type  Money Raised Announced Date  \\\n",
       "0            Cruise  Corporate Round  1.350000e+09     2022-03-18   \n",
       "1            WeRide         Series D  4.000000e+08     2022-03-24   \n",
       "2          Uniphore         Series E  4.000000e+08     2022-02-16   \n",
       "3             Clari         Series F  2.250000e+08     2022-01-19   \n",
       "4           Soterea         Series B  2.040493e+08     2022-03-28   \n",
       "\n",
       "                            Organization Description  \\\n",
       "0  Cruise builds self-driving vehicles that safel...   \n",
       "1  WeRide is a leading Level 4 autonomous driving...   \n",
       "2  Uniphore is a customer service platform that i...   \n",
       "3  Clari is a revenue operations company that pro...   \n",
       "4    Soterea develops an intelligent driving system.   \n",
       "\n",
       "                             Organization Industries  \\\n",
       "0  Artificial Intelligence, Automotive, Autonomou...   \n",
       "1  Artificial Intelligence, Autonomous Vehicles, ...   \n",
       "2  Artificial Intelligence, Customer Service, Mac...   \n",
       "3  Analytics, Artificial Intelligence, Business I...   \n",
       "4  Artificial Intelligence, Automotive, Autonomou...   \n",
       "\n",
       "                               Organization Location Organization Country  \n",
       "0  San Francisco, California, United States, Nort...        United States  \n",
       "1                  Guangzhou, Guangdong, China, Asia                China  \n",
       "2  Palo Alto, California, United States, North Am...        United States  \n",
       "3  Sunnyvale, California, United States, North Am...        United States  \n",
       "4                    Tianjin, Guangdong, China, Asia                China  "
      ]
     },
     "execution_count": 27,
     "metadata": {},
     "output_type": "execute_result"
    }
   ],
   "source": [
    "df.head()"
   ]
  },
  {
   "cell_type": "code",
   "execution_count": 28,
   "metadata": {},
   "outputs": [],
   "source": [
    "def industry_Calcs(df, country = None):\n",
    "    if country:\n",
    "        # get rows from the df that have the country we want\n",
    "        temp_df = df[df[\"Organization Country\"] == country].reset_index(drop=True)\n",
    "    else:\n",
    "        temp_df = df\n",
    "    # first create a dictionary that will hold industries and their counts\n",
    "    industry_counts = {}\n",
    "    # also create a dictionary that will hold the industries and their total funds raised\n",
    "    industry_total = {}\n",
    "    # loop through df[\"Organization Industries\"] and for each entry, \n",
    "    # if the industry is not in the dictionary, add it with a count of 1\n",
    "    # if the industry is in the dictionary, increment the count by 1\n",
    "    for idx, long_industry in enumerate(temp_df[\"Organization Industries\"]):\n",
    "        # split the long string on every \", \"\n",
    "        industries = long_industry.split(\", \")\n",
    "        for industry in industries:\n",
    "            if industry not in industry_counts:\n",
    "                industry_counts[industry] = 1\n",
    "                # the industry total is the \"Money Raised\" from the row in df with the index idx\n",
    "                industry_total[industry] = temp_df[\"Money Raised\"][idx]\n",
    "            else:\n",
    "                industry_counts[industry] += 1\n",
    "                industry_total[industry] += temp_df[\"Money Raised\"][idx]\n",
    "    # delete the entry \"Artificial Intelligence\", \"Software\" and \"Machine Learning\" because many share this\n",
    "    del industry_counts[\"Artificial Intelligence\"]\n",
    "    del industry_counts[\"Software\"]\n",
    "    del industry_counts[\"Machine Learning\"]\n",
    "    del industry_total[\"Artificial Intelligence\"]\n",
    "    del industry_total[\"Software\"]\n",
    "    del industry_total[\"Machine Learning\"]\n",
    "\n",
    "    return industry_counts, industry_total\n",
    "    "
   ]
  },
  {
   "cell_type": "code",
   "execution_count": null,
   "metadata": {},
   "outputs": [],
   "source": []
  },
  {
   "cell_type": "code",
   "execution_count": 31,
   "metadata": {},
   "outputs": [
    {
     "name": "stdout",
     "output_type": "stream",
     "text": [
      "An error occurred.\n",
      "ValueError: Please install Node.js and npm before continuing installation. You may be able to install Node.js from your package manager, from conda, or directly from the Node.js website (https://nodejs.org).\n",
      "See the log file for details:  /var/folders/nw/lktt921x1wg_wt5tfy5q9k2c0000gn/T/jupyterlab-debug-edu6pcua.log\n"
     ]
    }
   ],
   "source": [
    "!jupyter labextension install jupyterlab-plotly@5.7.0 @jupyter-widgets/jupyterlab-manager"
   ]
  },
  {
   "cell_type": "code",
   "execution_count": 34,
   "metadata": {},
   "outputs": [
    {
     "data": {
      "application/vnd.plotly.v1+json": {
       "config": {
        "plotlyServerURL": "https://plot.ly"
       },
       "data": [
        {
         "name": "Total",
         "type": "bar",
         "x": [
          "Automotive",
          "Autonomous Vehicles",
          "Robotics",
          "Transportation",
          "Computer",
          "Customer Service",
          "SaaS",
          "Analytics",
          "Business Information Systems",
          "Enterprise Software",
          "Productivity Tools",
          "Electric Vehicle",
          "Information Technology",
          "Internet",
          "Consumer Electronics",
          "Biotechnology",
          "Pharmaceutical",
          "Biopharma",
          "Medical Device",
          "Cyber Security",
          "Developer APIs",
          "Computer Vision",
          "Health Care",
          "Call Center",
          "Natural Language Processing",
          "Speech Recognition",
          "Digital Marketing",
          "Lead Management",
          "Augmented Reality",
          "Human Computer Interaction",
          "Hardware",
          "Construction",
          "Data Visualization",
          "Health Diagnostics",
          "Developer Tools",
          "Software Engineering",
          "Legal Tech",
          "Fashion",
          "Image Recognition",
          "FinTech",
          "Fraud Detection",
          "Big Data",
          "Broadcasting",
          "Content",
          "Digital Media",
          "Sports",
          "Video",
          "Cloud Computing",
          "Marketing",
          "Human Resources",
          "Recruiting",
          "Retail Technology",
          "Finance",
          "Financial Services",
          "Agriculture",
          "AgTech",
          "Animal Feed",
          "Intelligent Systems",
          "Cloud Data Services",
          "CRM",
          "Procurement",
          "E-Learning",
          "Training",
          "Genetics",
          "mHealth",
          "Wellness",
          "Cloud Security",
          "Network Security",
          "Virtual Reality",
          "Embedded Systems",
          "E-Commerce",
          "Supply Chain Management",
          "Business Intelligence",
          "Predictive Analytics",
          "Shopping",
          "Aerospace",
          "Air Transportation",
          "Data Center",
          "Semiconductor",
          "Translation Service",
          "Sensor",
          "Employee Benefits",
          "Health Insurance",
          "Email",
          "Security",
          "B2C",
          "Virtual Assistant",
          "Hospital",
          "Crowdsourcing",
          "Data Mining",
          "Generation Z",
          "Photography",
          "Sharing Economy",
          "Life Science",
          "Apps",
          "Drone Management",
          "Drones",
          "Internet of Things",
          "Intrusion Detection",
          "Energy",
          "Geospatial",
          "GPS",
          "Oil and Gas",
          "Real Time",
          "Semantic Search",
          "Advanced Materials",
          "B2B",
          "Employment",
          "Delivery Service",
          "Food Delivery",
          "Compliance",
          "Enterprise",
          "Marketing Automation",
          "Social Media Advertising",
          "EdTech",
          "Education",
          "Medical",
          "Data Center Automation",
          "Legal",
          "Professional Services",
          "Marine Transportation",
          "Shipping",
          "Logistics",
          "Market Research",
          "Consulting",
          "Manufacturing",
          "Brand Marketing",
          "Identity Management",
          "Mobile",
          "InsurTech",
          "Industrial Manufacturing",
          "Personal Health",
          "3D Technology",
          "Sales Automation",
          "Innovation Management",
          "Real Estate",
          "Farming",
          "Information Services",
          "Telecommunications",
          "Facial Recognition",
          "Media and Entertainment",
          "Privacy",
          "Messaging",
          "Search Engine",
          "Delivery",
          "Insurance",
          "Industrial",
          "Renewable Energy",
          "News",
          "Social Entrepreneurship",
          "3D Printing",
          "Mapping Services",
          "Dental",
          "Neuroscience",
          "Management Information Systems",
          "Skill Assessment",
          "Career Planning",
          "Higher Education",
          "Marketplace",
          "Commercial Insurance",
          "Risk Management",
          "Marine Technology",
          "Corporate Training",
          "Audio",
          "TV Production",
          "PaaS",
          "Life Insurance",
          "Sales",
          "Fleet Management",
          "Accounting",
          "Document Management",
          "Document Preparation",
          "Data Integration",
          "Fast-Moving Consumer Goods",
          "Food and Beverage",
          "Hospitality",
          "Restaurants",
          "Retail",
          "Cloud Management",
          "IT Management",
          "Biofuel",
          "Video Editing",
          "Therapeutics",
          "Machinery Manufacturing",
          "Biometrics",
          "Outsourcing",
          "Information and Communications Technology (ICT)",
          "Industrial Automation",
          "Task Management",
          "E-Commerce Platforms",
          "Operating Systems",
          "Cloud Infrastructure",
          "Test and Measurement",
          "Gaming",
          "Printing",
          "Infrastructure",
          "Consumer Goods",
          "Navigation",
          "Building Material",
          "Online Portals",
          "Rental Property",
          "Payments",
          "CleanTech",
          "GreenTech",
          "Communication Hardware",
          "Social Media",
          "Collaboration",
          "Photo Editing",
          "Fitness",
          "Electronic Health Record (EHR)",
          "Building Maintenance",
          "Property Management",
          "IT Infrastructure",
          "Psychology",
          "Social CRM",
          "Social Media Management",
          "Mobile Apps",
          "Motion Capture",
          "Video Games",
          "Optical Communication",
          "Text Analytics",
          "Auto Insurance",
          "Commercial",
          "Contact Management",
          "Developer Platform",
          "Energy Efficiency",
          "Energy Management",
          "Power Grid",
          "Environmental Engineering",
          "Public Relations",
          "Business Development",
          "Electronics",
          "Banking",
          "Cryptocurrency",
          "Affiliate Marketing",
          "Personalization",
          "Knowledge Management",
          "Assistive Technology",
          "Baseball",
          "Web Apps",
          "UX Design",
          "Web Design",
          "Bioinformatics",
          "Content Marketing",
          "Communities",
          "Lifestyle",
          "Professional Networking",
          "Parking",
          "Embedded Software",
          "Project Management",
          "Email Marketing",
          "Enterprise Applications",
          "Enterprise Resource Planning (ERP)",
          "Impact Investing",
          "Database",
          "EBooks",
          "Publishing",
          "Price Comparison",
          "Industrial Engineering",
          "iOS",
          "Local",
          "Virtual Workforce",
          "Language Learning",
          "Horticulture",
          "Cloud Storage",
          "Jewelry",
          "Satellite Communication",
          "Advertising",
          "Lead Generation",
          "Swimming",
          "Leisure",
          "Tourism",
          "Travel",
          "Music",
          "Podcast",
          "Video Streaming",
          "Wearables",
          "Loyalty Programs",
          "Blockchain",
          "Wireless",
          "Sustainability",
          "Home Health Care",
          "Serious Games",
          "Leasing",
          "Warehousing"
         ],
         "xaxis": "x",
         "y": [
          106,
          64,
          63,
          57,
          41,
          39,
          30,
          30,
          29,
          27,
          24,
          23,
          20,
          19,
          18,
          17,
          15,
          14,
          13,
          13,
          12,
          12,
          12,
          11,
          11,
          11,
          11,
          11,
          11,
          11,
          11,
          10,
          10,
          10,
          10,
          10,
          10,
          9,
          9,
          9,
          9,
          9,
          9,
          9,
          9,
          8,
          8,
          8,
          8,
          8,
          8,
          8,
          7,
          7,
          7,
          7,
          7,
          7,
          7,
          6,
          6,
          6,
          6,
          6,
          6,
          6,
          6,
          6,
          6,
          6,
          5,
          5,
          5,
          5,
          5,
          5,
          5,
          5,
          5,
          5,
          5,
          5,
          5,
          5,
          5,
          5,
          4,
          4,
          4,
          4,
          4,
          4,
          4,
          4,
          4,
          4,
          4,
          4,
          4,
          4,
          4,
          4,
          4,
          4,
          4,
          4,
          4,
          4,
          3,
          3,
          3,
          3,
          3,
          3,
          3,
          3,
          3,
          3,
          3,
          3,
          3,
          3,
          3,
          3,
          3,
          3,
          3,
          3,
          3,
          3,
          2,
          2,
          2,
          2,
          2,
          2,
          2,
          2,
          2,
          2,
          2,
          2,
          2,
          2,
          2,
          2,
          2,
          2,
          2,
          2,
          2,
          2,
          2,
          2,
          2,
          2,
          2,
          2,
          2,
          2,
          2,
          2,
          2,
          2,
          2,
          2,
          2,
          2,
          2,
          2,
          2,
          2,
          2,
          2,
          1,
          1,
          1,
          1,
          1,
          1,
          1,
          1,
          1,
          1,
          1,
          1,
          1,
          1,
          1,
          1,
          1,
          1,
          1,
          1,
          1,
          1,
          1,
          1,
          1,
          1,
          1,
          1,
          1,
          1,
          1,
          1,
          1,
          1,
          1,
          1,
          1,
          1,
          1,
          1,
          1,
          1,
          1,
          1,
          1,
          1,
          1,
          1,
          1,
          1,
          1,
          1,
          1,
          1,
          1,
          1,
          1,
          1,
          1,
          1,
          1,
          1,
          1,
          1,
          1,
          1,
          1,
          1,
          1,
          1,
          1,
          1,
          1,
          1,
          1,
          1,
          1,
          1,
          1,
          1,
          1,
          1,
          1,
          1,
          1,
          1,
          1,
          1,
          1,
          1,
          1,
          1,
          1,
          1,
          1,
          1,
          1,
          1,
          1,
          1,
          1,
          1,
          1,
          1,
          1,
          1,
          1,
          1,
          1,
          1,
          1
         ],
         "yaxis": "y"
        },
        {
         "name": "Total in US",
         "type": "bar",
         "x": [
          "Automotive",
          "Autonomous Vehicles",
          "Robotics",
          "Transportation",
          "Customer Service",
          "SaaS",
          "Analytics",
          "Business Information Systems",
          "Enterprise Software",
          "Productivity Tools",
          "Biotechnology",
          "Pharmaceutical",
          "Cyber Security",
          "Developer APIs",
          "Call Center",
          "Natural Language Processing",
          "Speech Recognition",
          "Augmented Reality",
          "Consumer Electronics",
          "Human Computer Interaction",
          "Computer",
          "Hardware",
          "Construction",
          "Data Visualization",
          "Information Technology",
          "Health Care",
          "Health Diagnostics",
          "Medical Device",
          "Legal Tech",
          "FinTech",
          "Fraud Detection",
          "Cloud Computing",
          "Marketing",
          "Retail Technology",
          "Intelligent Systems",
          "Cloud Data Services",
          "CRM",
          "Procurement",
          "Genetics",
          "mHealth",
          "Wellness",
          "Cloud Security",
          "Network Security",
          "Embedded Systems",
          "E-Commerce",
          "Supply Chain Management",
          "Computer Vision",
          "Shopping",
          "Human Resources",
          "Data Center",
          "Semiconductor",
          "Translation Service",
          "Sensor",
          "Employee Benefits",
          "Finance",
          "Health Insurance",
          "Security",
          "Hospital",
          "Content",
          "Crowdsourcing",
          "Data Mining",
          "Generation Z",
          "Photography",
          "Sharing Economy",
          "Big Data",
          "Intrusion Detection",
          "B2B",
          "Employment",
          "Delivery Service",
          "Food Delivery",
          "Enterprise",
          "Marketing Automation",
          "Social Media Advertising",
          "Life Science",
          "Medical",
          "Education",
          "Data Center Automation",
          "Legal",
          "Professional Services",
          "Marine Transportation",
          "Shipping",
          "Logistics",
          "Apps",
          "Brand Marketing",
          "InsurTech",
          "Predictive Analytics",
          "Sales Automation",
          "Internet",
          "Innovation Management",
          "Real Estate",
          "Information Services",
          "Recruiting",
          "Messaging",
          "Aerospace",
          "Geospatial",
          "Virtual Assistant",
          "Search Engine",
          "Delivery",
          "Real Time",
          "Insurance",
          "Agriculture",
          "Industrial",
          "Renewable Energy",
          "3D Printing",
          "3D Technology",
          "Manufacturing",
          "Neuroscience",
          "Commercial Insurance",
          "Risk Management",
          "Internet of Things",
          "Marine Technology",
          "Corporate Training",
          "Virtual Reality",
          "Business Intelligence",
          "PaaS",
          "Life Insurance",
          "Sales",
          "Accounting",
          "Document Management",
          "Document Preparation",
          "Cloud Management",
          "IT Management",
          "Video",
          "Video Editing",
          "Industrial Automation",
          "E-Commerce Platforms",
          "Operating Systems",
          "Software Engineering",
          "Test and Measurement",
          "Gaming",
          "Data Integration",
          "Infrastructure",
          "Email",
          "Digital Marketing",
          "Restaurants",
          "Mobile",
          "Consumer Goods",
          "Therapeutics",
          "Drones",
          "Navigation",
          "Payments",
          "Financial Services",
          "Communication Hardware",
          "Collaboration",
          "Biometrics",
          "Identity Management",
          "Retail",
          "Image Recognition",
          "Cloud Infrastructure",
          "Energy",
          "Fitness",
          "Electronic Health Record (EHR)",
          "Psychology",
          "Auto Insurance",
          "B2C",
          "Commercial",
          "Contact Management",
          "Developer Platform",
          "Environmental Engineering",
          "Developer Tools",
          "Sports",
          "Business Development",
          "Banking",
          "Cryptocurrency",
          "Semantic Search",
          "Personal Health",
          "Baseball",
          "UX Design",
          "Web Design",
          "Content Marketing",
          "Communities",
          "Fashion",
          "Lifestyle",
          "Professional Networking",
          "Fleet Management",
          "Parking",
          "Impact Investing",
          "Industrial Manufacturing",
          "Digital Media",
          "EBooks",
          "Publishing",
          "Online Portals",
          "Market Research",
          "Price Comparison",
          "Social Media",
          "Industrial Engineering",
          "iOS",
          "Local",
          "Virtual Workforce",
          "Cloud Storage",
          "Swimming",
          "Wearables",
          "Language Learning",
          "Text Analytics",
          "Power Grid",
          "Blockchain",
          "Telecommunications",
          "Wireless",
          "Enterprise Applications",
          "Lead Generation",
          "Home Health Care",
          "Consulting",
          "Marketplace",
          "Leasing",
          "EdTech"
         ],
         "xaxis": "x2",
         "y": [
          49,
          36,
          34,
          30,
          19,
          17,
          17,
          15,
          12,
          11,
          11,
          11,
          10,
          10,
          9,
          8,
          8,
          8,
          7,
          7,
          7,
          7,
          6,
          6,
          6,
          6,
          6,
          6,
          6,
          6,
          5,
          5,
          5,
          5,
          5,
          5,
          5,
          5,
          5,
          5,
          5,
          5,
          4,
          4,
          4,
          4,
          4,
          4,
          4,
          4,
          4,
          4,
          4,
          4,
          4,
          4,
          4,
          4,
          4,
          4,
          4,
          3,
          3,
          3,
          3,
          3,
          3,
          3,
          3,
          3,
          3,
          3,
          3,
          3,
          3,
          3,
          2,
          2,
          2,
          2,
          2,
          2,
          2,
          2,
          2,
          2,
          2,
          2,
          2,
          2,
          2,
          2,
          2,
          2,
          2,
          2,
          2,
          2,
          2,
          2,
          2,
          2,
          2,
          2,
          2,
          2,
          2,
          2,
          2,
          2,
          2,
          2,
          2,
          1,
          1,
          1,
          1,
          1,
          1,
          1,
          1,
          1,
          1,
          1,
          1,
          1,
          1,
          1,
          1,
          1,
          1,
          1,
          1,
          1,
          1,
          1,
          1,
          1,
          1,
          1,
          1,
          1,
          1,
          1,
          1,
          1,
          1,
          1,
          1,
          1,
          1,
          1,
          1,
          1,
          1,
          1,
          1,
          1,
          1,
          1,
          1,
          1,
          1,
          1,
          1,
          1,
          1,
          1,
          1,
          1,
          1,
          1,
          1,
          1,
          1,
          1,
          1,
          1,
          1,
          1,
          1,
          1,
          1,
          1,
          1,
          1,
          1,
          1,
          1,
          1,
          1,
          1,
          1,
          1,
          1,
          1,
          1,
          1,
          1,
          1,
          1,
          1,
          1,
          1,
          1
         ],
         "yaxis": "y2"
        },
        {
         "name": "Total in China",
         "type": "bar",
         "x": [
          "Autonomous Vehicles",
          "Computer",
          "Automotive",
          "Biopharma",
          "Medical Device",
          "Pharmaceutical",
          "Computer Vision",
          "Health Care",
          "Robotics",
          "Fashion",
          "Image Recognition",
          "Big Data",
          "Natural Language Processing",
          "Speech Recognition",
          "Customer Service",
          "Information Technology",
          "Predictive Analytics",
          "Analytics",
          "Consulting",
          "Manufacturing",
          "Energy",
          "Internet",
          "Apps",
          "Finance",
          "Video",
          "Biotechnology",
          "Therapeutics",
          "3D Technology",
          "Machinery Manufacturing",
          "Semiconductor",
          "Biometrics",
          "Enterprise",
          "Industrial Automation",
          "Information Services",
          "Internet of Things",
          "Sensor",
          "Industrial",
          "Logistics"
         ],
         "xaxis": "x3",
         "y": [
          10,
          5,
          4,
          3,
          3,
          3,
          3,
          2,
          2,
          2,
          2,
          1,
          1,
          1,
          1,
          1,
          1,
          1,
          1,
          1,
          1,
          1,
          1,
          1,
          1,
          1,
          1,
          1,
          1,
          1,
          1,
          1,
          1,
          1,
          1,
          1,
          1,
          1
         ],
         "yaxis": "y3"
        }
       ],
       "layout": {
        "annotations": [
         {
          "font": {
           "size": 16
          },
          "showarrow": false,
          "text": "Total, Total in US, Total in China",
          "x": 0.5,
          "xanchor": "center",
          "xref": "paper",
          "y": 1,
          "yanchor": "bottom",
          "yref": "paper"
         }
        ],
        "template": {
         "data": {
          "bar": [
           {
            "error_x": {
             "color": "#f2f5fa"
            },
            "error_y": {
             "color": "#f2f5fa"
            },
            "marker": {
             "line": {
              "color": "rgb(17,17,17)",
              "width": 0.5
             },
             "pattern": {
              "fillmode": "overlay",
              "size": 10,
              "solidity": 0.2
             }
            },
            "type": "bar"
           }
          ],
          "barpolar": [
           {
            "marker": {
             "line": {
              "color": "rgb(17,17,17)",
              "width": 0.5
             },
             "pattern": {
              "fillmode": "overlay",
              "size": 10,
              "solidity": 0.2
             }
            },
            "type": "barpolar"
           }
          ],
          "carpet": [
           {
            "aaxis": {
             "endlinecolor": "#A2B1C6",
             "gridcolor": "#506784",
             "linecolor": "#506784",
             "minorgridcolor": "#506784",
             "startlinecolor": "#A2B1C6"
            },
            "baxis": {
             "endlinecolor": "#A2B1C6",
             "gridcolor": "#506784",
             "linecolor": "#506784",
             "minorgridcolor": "#506784",
             "startlinecolor": "#A2B1C6"
            },
            "type": "carpet"
           }
          ],
          "choropleth": [
           {
            "colorbar": {
             "outlinewidth": 0,
             "ticks": ""
            },
            "type": "choropleth"
           }
          ],
          "contour": [
           {
            "colorbar": {
             "outlinewidth": 0,
             "ticks": ""
            },
            "colorscale": [
             [
              0,
              "#0d0887"
             ],
             [
              0.1111111111111111,
              "#46039f"
             ],
             [
              0.2222222222222222,
              "#7201a8"
             ],
             [
              0.3333333333333333,
              "#9c179e"
             ],
             [
              0.4444444444444444,
              "#bd3786"
             ],
             [
              0.5555555555555556,
              "#d8576b"
             ],
             [
              0.6666666666666666,
              "#ed7953"
             ],
             [
              0.7777777777777778,
              "#fb9f3a"
             ],
             [
              0.8888888888888888,
              "#fdca26"
             ],
             [
              1,
              "#f0f921"
             ]
            ],
            "type": "contour"
           }
          ],
          "contourcarpet": [
           {
            "colorbar": {
             "outlinewidth": 0,
             "ticks": ""
            },
            "type": "contourcarpet"
           }
          ],
          "heatmap": [
           {
            "colorbar": {
             "outlinewidth": 0,
             "ticks": ""
            },
            "colorscale": [
             [
              0,
              "#0d0887"
             ],
             [
              0.1111111111111111,
              "#46039f"
             ],
             [
              0.2222222222222222,
              "#7201a8"
             ],
             [
              0.3333333333333333,
              "#9c179e"
             ],
             [
              0.4444444444444444,
              "#bd3786"
             ],
             [
              0.5555555555555556,
              "#d8576b"
             ],
             [
              0.6666666666666666,
              "#ed7953"
             ],
             [
              0.7777777777777778,
              "#fb9f3a"
             ],
             [
              0.8888888888888888,
              "#fdca26"
             ],
             [
              1,
              "#f0f921"
             ]
            ],
            "type": "heatmap"
           }
          ],
          "heatmapgl": [
           {
            "colorbar": {
             "outlinewidth": 0,
             "ticks": ""
            },
            "colorscale": [
             [
              0,
              "#0d0887"
             ],
             [
              0.1111111111111111,
              "#46039f"
             ],
             [
              0.2222222222222222,
              "#7201a8"
             ],
             [
              0.3333333333333333,
              "#9c179e"
             ],
             [
              0.4444444444444444,
              "#bd3786"
             ],
             [
              0.5555555555555556,
              "#d8576b"
             ],
             [
              0.6666666666666666,
              "#ed7953"
             ],
             [
              0.7777777777777778,
              "#fb9f3a"
             ],
             [
              0.8888888888888888,
              "#fdca26"
             ],
             [
              1,
              "#f0f921"
             ]
            ],
            "type": "heatmapgl"
           }
          ],
          "histogram": [
           {
            "marker": {
             "pattern": {
              "fillmode": "overlay",
              "size": 10,
              "solidity": 0.2
             }
            },
            "type": "histogram"
           }
          ],
          "histogram2d": [
           {
            "colorbar": {
             "outlinewidth": 0,
             "ticks": ""
            },
            "colorscale": [
             [
              0,
              "#0d0887"
             ],
             [
              0.1111111111111111,
              "#46039f"
             ],
             [
              0.2222222222222222,
              "#7201a8"
             ],
             [
              0.3333333333333333,
              "#9c179e"
             ],
             [
              0.4444444444444444,
              "#bd3786"
             ],
             [
              0.5555555555555556,
              "#d8576b"
             ],
             [
              0.6666666666666666,
              "#ed7953"
             ],
             [
              0.7777777777777778,
              "#fb9f3a"
             ],
             [
              0.8888888888888888,
              "#fdca26"
             ],
             [
              1,
              "#f0f921"
             ]
            ],
            "type": "histogram2d"
           }
          ],
          "histogram2dcontour": [
           {
            "colorbar": {
             "outlinewidth": 0,
             "ticks": ""
            },
            "colorscale": [
             [
              0,
              "#0d0887"
             ],
             [
              0.1111111111111111,
              "#46039f"
             ],
             [
              0.2222222222222222,
              "#7201a8"
             ],
             [
              0.3333333333333333,
              "#9c179e"
             ],
             [
              0.4444444444444444,
              "#bd3786"
             ],
             [
              0.5555555555555556,
              "#d8576b"
             ],
             [
              0.6666666666666666,
              "#ed7953"
             ],
             [
              0.7777777777777778,
              "#fb9f3a"
             ],
             [
              0.8888888888888888,
              "#fdca26"
             ],
             [
              1,
              "#f0f921"
             ]
            ],
            "type": "histogram2dcontour"
           }
          ],
          "mesh3d": [
           {
            "colorbar": {
             "outlinewidth": 0,
             "ticks": ""
            },
            "type": "mesh3d"
           }
          ],
          "parcoords": [
           {
            "line": {
             "colorbar": {
              "outlinewidth": 0,
              "ticks": ""
             }
            },
            "type": "parcoords"
           }
          ],
          "pie": [
           {
            "automargin": true,
            "type": "pie"
           }
          ],
          "scatter": [
           {
            "marker": {
             "line": {
              "color": "#283442"
             }
            },
            "type": "scatter"
           }
          ],
          "scatter3d": [
           {
            "line": {
             "colorbar": {
              "outlinewidth": 0,
              "ticks": ""
             }
            },
            "marker": {
             "colorbar": {
              "outlinewidth": 0,
              "ticks": ""
             }
            },
            "type": "scatter3d"
           }
          ],
          "scattercarpet": [
           {
            "marker": {
             "colorbar": {
              "outlinewidth": 0,
              "ticks": ""
             }
            },
            "type": "scattercarpet"
           }
          ],
          "scattergeo": [
           {
            "marker": {
             "colorbar": {
              "outlinewidth": 0,
              "ticks": ""
             }
            },
            "type": "scattergeo"
           }
          ],
          "scattergl": [
           {
            "marker": {
             "line": {
              "color": "#283442"
             }
            },
            "type": "scattergl"
           }
          ],
          "scattermapbox": [
           {
            "marker": {
             "colorbar": {
              "outlinewidth": 0,
              "ticks": ""
             }
            },
            "type": "scattermapbox"
           }
          ],
          "scatterpolar": [
           {
            "marker": {
             "colorbar": {
              "outlinewidth": 0,
              "ticks": ""
             }
            },
            "type": "scatterpolar"
           }
          ],
          "scatterpolargl": [
           {
            "marker": {
             "colorbar": {
              "outlinewidth": 0,
              "ticks": ""
             }
            },
            "type": "scatterpolargl"
           }
          ],
          "scatterternary": [
           {
            "marker": {
             "colorbar": {
              "outlinewidth": 0,
              "ticks": ""
             }
            },
            "type": "scatterternary"
           }
          ],
          "surface": [
           {
            "colorbar": {
             "outlinewidth": 0,
             "ticks": ""
            },
            "colorscale": [
             [
              0,
              "#0d0887"
             ],
             [
              0.1111111111111111,
              "#46039f"
             ],
             [
              0.2222222222222222,
              "#7201a8"
             ],
             [
              0.3333333333333333,
              "#9c179e"
             ],
             [
              0.4444444444444444,
              "#bd3786"
             ],
             [
              0.5555555555555556,
              "#d8576b"
             ],
             [
              0.6666666666666666,
              "#ed7953"
             ],
             [
              0.7777777777777778,
              "#fb9f3a"
             ],
             [
              0.8888888888888888,
              "#fdca26"
             ],
             [
              1,
              "#f0f921"
             ]
            ],
            "type": "surface"
           }
          ],
          "table": [
           {
            "cells": {
             "fill": {
              "color": "#506784"
             },
             "line": {
              "color": "rgb(17,17,17)"
             }
            },
            "header": {
             "fill": {
              "color": "#2a3f5f"
             },
             "line": {
              "color": "rgb(17,17,17)"
             }
            },
            "type": "table"
           }
          ]
         },
         "layout": {
          "annotationdefaults": {
           "arrowcolor": "#f2f5fa",
           "arrowhead": 0,
           "arrowwidth": 1
          },
          "autotypenumbers": "strict",
          "coloraxis": {
           "colorbar": {
            "outlinewidth": 0,
            "ticks": ""
           }
          },
          "colorscale": {
           "diverging": [
            [
             0,
             "#8e0152"
            ],
            [
             0.1,
             "#c51b7d"
            ],
            [
             0.2,
             "#de77ae"
            ],
            [
             0.3,
             "#f1b6da"
            ],
            [
             0.4,
             "#fde0ef"
            ],
            [
             0.5,
             "#f7f7f7"
            ],
            [
             0.6,
             "#e6f5d0"
            ],
            [
             0.7,
             "#b8e186"
            ],
            [
             0.8,
             "#7fbc41"
            ],
            [
             0.9,
             "#4d9221"
            ],
            [
             1,
             "#276419"
            ]
           ],
           "sequential": [
            [
             0,
             "#0d0887"
            ],
            [
             0.1111111111111111,
             "#46039f"
            ],
            [
             0.2222222222222222,
             "#7201a8"
            ],
            [
             0.3333333333333333,
             "#9c179e"
            ],
            [
             0.4444444444444444,
             "#bd3786"
            ],
            [
             0.5555555555555556,
             "#d8576b"
            ],
            [
             0.6666666666666666,
             "#ed7953"
            ],
            [
             0.7777777777777778,
             "#fb9f3a"
            ],
            [
             0.8888888888888888,
             "#fdca26"
            ],
            [
             1,
             "#f0f921"
            ]
           ],
           "sequentialminus": [
            [
             0,
             "#0d0887"
            ],
            [
             0.1111111111111111,
             "#46039f"
            ],
            [
             0.2222222222222222,
             "#7201a8"
            ],
            [
             0.3333333333333333,
             "#9c179e"
            ],
            [
             0.4444444444444444,
             "#bd3786"
            ],
            [
             0.5555555555555556,
             "#d8576b"
            ],
            [
             0.6666666666666666,
             "#ed7953"
            ],
            [
             0.7777777777777778,
             "#fb9f3a"
            ],
            [
             0.8888888888888888,
             "#fdca26"
            ],
            [
             1,
             "#f0f921"
            ]
           ]
          },
          "colorway": [
           "#636efa",
           "#EF553B",
           "#00cc96",
           "#ab63fa",
           "#FFA15A",
           "#19d3f3",
           "#FF6692",
           "#B6E880",
           "#FF97FF",
           "#FECB52"
          ],
          "font": {
           "color": "#f2f5fa"
          },
          "geo": {
           "bgcolor": "rgb(17,17,17)",
           "lakecolor": "rgb(17,17,17)",
           "landcolor": "rgb(17,17,17)",
           "showlakes": true,
           "showland": true,
           "subunitcolor": "#506784"
          },
          "hoverlabel": {
           "align": "left"
          },
          "hovermode": "closest",
          "mapbox": {
           "style": "dark"
          },
          "paper_bgcolor": "rgb(17,17,17)",
          "plot_bgcolor": "rgb(17,17,17)",
          "polar": {
           "angularaxis": {
            "gridcolor": "#506784",
            "linecolor": "#506784",
            "ticks": ""
           },
           "bgcolor": "rgb(17,17,17)",
           "radialaxis": {
            "gridcolor": "#506784",
            "linecolor": "#506784",
            "ticks": ""
           }
          },
          "scene": {
           "xaxis": {
            "backgroundcolor": "rgb(17,17,17)",
            "gridcolor": "#506784",
            "gridwidth": 2,
            "linecolor": "#506784",
            "showbackground": true,
            "ticks": "",
            "zerolinecolor": "#C8D4E3"
           },
           "yaxis": {
            "backgroundcolor": "rgb(17,17,17)",
            "gridcolor": "#506784",
            "gridwidth": 2,
            "linecolor": "#506784",
            "showbackground": true,
            "ticks": "",
            "zerolinecolor": "#C8D4E3"
           },
           "zaxis": {
            "backgroundcolor": "rgb(17,17,17)",
            "gridcolor": "#506784",
            "gridwidth": 2,
            "linecolor": "#506784",
            "showbackground": true,
            "ticks": "",
            "zerolinecolor": "#C8D4E3"
           }
          },
          "shapedefaults": {
           "line": {
            "color": "#f2f5fa"
           }
          },
          "sliderdefaults": {
           "bgcolor": "#C8D4E3",
           "bordercolor": "rgb(17,17,17)",
           "borderwidth": 1,
           "tickwidth": 0
          },
          "ternary": {
           "aaxis": {
            "gridcolor": "#506784",
            "linecolor": "#506784",
            "ticks": ""
           },
           "baxis": {
            "gridcolor": "#506784",
            "linecolor": "#506784",
            "ticks": ""
           },
           "bgcolor": "rgb(17,17,17)",
           "caxis": {
            "gridcolor": "#506784",
            "linecolor": "#506784",
            "ticks": ""
           }
          },
          "title": {
           "x": 0.05
          },
          "updatemenudefaults": {
           "bgcolor": "#506784",
           "borderwidth": 0
          },
          "xaxis": {
           "automargin": true,
           "gridcolor": "#283442",
           "linecolor": "#506784",
           "ticks": "",
           "title": {
            "standoff": 15
           },
           "zerolinecolor": "#283442",
           "zerolinewidth": 2
          },
          "yaxis": {
           "automargin": true,
           "gridcolor": "#283442",
           "linecolor": "#506784",
           "ticks": "",
           "title": {
            "standoff": 15
           },
           "zerolinecolor": "#283442",
           "zerolinewidth": 2
          }
         }
        },
        "xaxis": {
         "anchor": "y",
         "domain": [
          0,
          1
         ],
         "tickangle": 45,
         "title": {
          "text": "Industries"
         }
        },
        "xaxis2": {
         "anchor": "y2",
         "domain": [
          0,
          1
         ],
         "tickangle": 45,
         "title": {
          "text": "Industries"
         }
        },
        "xaxis3": {
         "anchor": "y3",
         "domain": [
          0,
          1
         ],
         "tickangle": 45,
         "title": {
          "text": "Industries"
         }
        },
        "yaxis": {
         "anchor": "x",
         "domain": [
          0.7777777777777778,
          1
         ]
        },
        "yaxis2": {
         "anchor": "x2",
         "domain": [
          0.3888888888888889,
          0.6111111111111112
         ]
        },
        "yaxis3": {
         "anchor": "x3",
         "domain": [
          0,
          0.22222222222222224
         ]
        }
       }
      },
      "text/html": [
       "<div>                            <div id=\"360486b7-7c1a-4feb-84b4-8d8b1759a2a8\" class=\"plotly-graph-div\" style=\"height:525px; width:100%;\"></div>            <script type=\"text/javascript\">                require([\"plotly\"], function(Plotly) {                    window.PLOTLYENV=window.PLOTLYENV || {};                                    if (document.getElementById(\"360486b7-7c1a-4feb-84b4-8d8b1759a2a8\")) {                    Plotly.newPlot(                        \"360486b7-7c1a-4feb-84b4-8d8b1759a2a8\",                        [{\"name\":\"Total\",\"x\":[\"Automotive\",\"Autonomous Vehicles\",\"Robotics\",\"Transportation\",\"Computer\",\"Customer Service\",\"SaaS\",\"Analytics\",\"Business Information Systems\",\"Enterprise Software\",\"Productivity Tools\",\"Electric Vehicle\",\"Information Technology\",\"Internet\",\"Consumer Electronics\",\"Biotechnology\",\"Pharmaceutical\",\"Biopharma\",\"Medical Device\",\"Cyber Security\",\"Developer APIs\",\"Computer Vision\",\"Health Care\",\"Call Center\",\"Natural Language Processing\",\"Speech Recognition\",\"Digital Marketing\",\"Lead Management\",\"Augmented Reality\",\"Human Computer Interaction\",\"Hardware\",\"Construction\",\"Data Visualization\",\"Health Diagnostics\",\"Developer Tools\",\"Software Engineering\",\"Legal Tech\",\"Fashion\",\"Image Recognition\",\"FinTech\",\"Fraud Detection\",\"Big Data\",\"Broadcasting\",\"Content\",\"Digital Media\",\"Sports\",\"Video\",\"Cloud Computing\",\"Marketing\",\"Human Resources\",\"Recruiting\",\"Retail Technology\",\"Finance\",\"Financial Services\",\"Agriculture\",\"AgTech\",\"Animal Feed\",\"Intelligent Systems\",\"Cloud Data Services\",\"CRM\",\"Procurement\",\"E-Learning\",\"Training\",\"Genetics\",\"mHealth\",\"Wellness\",\"Cloud Security\",\"Network Security\",\"Virtual Reality\",\"Embedded Systems\",\"E-Commerce\",\"Supply Chain Management\",\"Business Intelligence\",\"Predictive Analytics\",\"Shopping\",\"Aerospace\",\"Air Transportation\",\"Data Center\",\"Semiconductor\",\"Translation Service\",\"Sensor\",\"Employee Benefits\",\"Health Insurance\",\"Email\",\"Security\",\"B2C\",\"Virtual Assistant\",\"Hospital\",\"Crowdsourcing\",\"Data Mining\",\"Generation Z\",\"Photography\",\"Sharing Economy\",\"Life Science\",\"Apps\",\"Drone Management\",\"Drones\",\"Internet of Things\",\"Intrusion Detection\",\"Energy\",\"Geospatial\",\"GPS\",\"Oil and Gas\",\"Real Time\",\"Semantic Search\",\"Advanced Materials\",\"B2B\",\"Employment\",\"Delivery Service\",\"Food Delivery\",\"Compliance\",\"Enterprise\",\"Marketing Automation\",\"Social Media Advertising\",\"EdTech\",\"Education\",\"Medical\",\"Data Center Automation\",\"Legal\",\"Professional Services\",\"Marine Transportation\",\"Shipping\",\"Logistics\",\"Market Research\",\"Consulting\",\"Manufacturing\",\"Brand Marketing\",\"Identity Management\",\"Mobile\",\"InsurTech\",\"Industrial Manufacturing\",\"Personal Health\",\"3D Technology\",\"Sales Automation\",\"Innovation Management\",\"Real Estate\",\"Farming\",\"Information Services\",\"Telecommunications\",\"Facial Recognition\",\"Media and Entertainment\",\"Privacy\",\"Messaging\",\"Search Engine\",\"Delivery\",\"Insurance\",\"Industrial\",\"Renewable Energy\",\"News\",\"Social Entrepreneurship\",\"3D Printing\",\"Mapping Services\",\"Dental\",\"Neuroscience\",\"Management Information Systems\",\"Skill Assessment\",\"Career Planning\",\"Higher Education\",\"Marketplace\",\"Commercial Insurance\",\"Risk Management\",\"Marine Technology\",\"Corporate Training\",\"Audio\",\"TV Production\",\"PaaS\",\"Life Insurance\",\"Sales\",\"Fleet Management\",\"Accounting\",\"Document Management\",\"Document Preparation\",\"Data Integration\",\"Fast-Moving Consumer Goods\",\"Food and Beverage\",\"Hospitality\",\"Restaurants\",\"Retail\",\"Cloud Management\",\"IT Management\",\"Biofuel\",\"Video Editing\",\"Therapeutics\",\"Machinery Manufacturing\",\"Biometrics\",\"Outsourcing\",\"Information and Communications Technology (ICT)\",\"Industrial Automation\",\"Task Management\",\"E-Commerce Platforms\",\"Operating Systems\",\"Cloud Infrastructure\",\"Test and Measurement\",\"Gaming\",\"Printing\",\"Infrastructure\",\"Consumer Goods\",\"Navigation\",\"Building Material\",\"Online Portals\",\"Rental Property\",\"Payments\",\"CleanTech\",\"GreenTech\",\"Communication Hardware\",\"Social Media\",\"Collaboration\",\"Photo Editing\",\"Fitness\",\"Electronic Health Record (EHR)\",\"Building Maintenance\",\"Property Management\",\"IT Infrastructure\",\"Psychology\",\"Social CRM\",\"Social Media Management\",\"Mobile Apps\",\"Motion Capture\",\"Video Games\",\"Optical Communication\",\"Text Analytics\",\"Auto Insurance\",\"Commercial\",\"Contact Management\",\"Developer Platform\",\"Energy Efficiency\",\"Energy Management\",\"Power Grid\",\"Environmental Engineering\",\"Public Relations\",\"Business Development\",\"Electronics\",\"Banking\",\"Cryptocurrency\",\"Affiliate Marketing\",\"Personalization\",\"Knowledge Management\",\"Assistive Technology\",\"Baseball\",\"Web Apps\",\"UX Design\",\"Web Design\",\"Bioinformatics\",\"Content Marketing\",\"Communities\",\"Lifestyle\",\"Professional Networking\",\"Parking\",\"Embedded Software\",\"Project Management\",\"Email Marketing\",\"Enterprise Applications\",\"Enterprise Resource Planning (ERP)\",\"Impact Investing\",\"Database\",\"EBooks\",\"Publishing\",\"Price Comparison\",\"Industrial Engineering\",\"iOS\",\"Local\",\"Virtual Workforce\",\"Language Learning\",\"Horticulture\",\"Cloud Storage\",\"Jewelry\",\"Satellite Communication\",\"Advertising\",\"Lead Generation\",\"Swimming\",\"Leisure\",\"Tourism\",\"Travel\",\"Music\",\"Podcast\",\"Video Streaming\",\"Wearables\",\"Loyalty Programs\",\"Blockchain\",\"Wireless\",\"Sustainability\",\"Home Health Care\",\"Serious Games\",\"Leasing\",\"Warehousing\"],\"y\":[106,64,63,57,41,39,30,30,29,27,24,23,20,19,18,17,15,14,13,13,12,12,12,11,11,11,11,11,11,11,11,10,10,10,10,10,10,9,9,9,9,9,9,9,9,8,8,8,8,8,8,8,7,7,7,7,7,7,7,6,6,6,6,6,6,6,6,6,6,6,5,5,5,5,5,5,5,5,5,5,5,5,5,5,5,5,4,4,4,4,4,4,4,4,4,4,4,4,4,4,4,4,4,4,4,4,4,4,3,3,3,3,3,3,3,3,3,3,3,3,3,3,3,3,3,3,3,3,3,3,2,2,2,2,2,2,2,2,2,2,2,2,2,2,2,2,2,2,2,2,2,2,2,2,2,2,2,2,2,2,2,2,2,2,2,2,2,2,2,2,2,2,2,2,1,1,1,1,1,1,1,1,1,1,1,1,1,1,1,1,1,1,1,1,1,1,1,1,1,1,1,1,1,1,1,1,1,1,1,1,1,1,1,1,1,1,1,1,1,1,1,1,1,1,1,1,1,1,1,1,1,1,1,1,1,1,1,1,1,1,1,1,1,1,1,1,1,1,1,1,1,1,1,1,1,1,1,1,1,1,1,1,1,1,1,1,1,1,1,1,1,1,1,1,1,1,1,1,1,1,1,1,1,1,1],\"type\":\"bar\",\"xaxis\":\"x\",\"yaxis\":\"y\"},{\"name\":\"Total in US\",\"x\":[\"Automotive\",\"Autonomous Vehicles\",\"Robotics\",\"Transportation\",\"Customer Service\",\"SaaS\",\"Analytics\",\"Business Information Systems\",\"Enterprise Software\",\"Productivity Tools\",\"Biotechnology\",\"Pharmaceutical\",\"Cyber Security\",\"Developer APIs\",\"Call Center\",\"Natural Language Processing\",\"Speech Recognition\",\"Augmented Reality\",\"Consumer Electronics\",\"Human Computer Interaction\",\"Computer\",\"Hardware\",\"Construction\",\"Data Visualization\",\"Information Technology\",\"Health Care\",\"Health Diagnostics\",\"Medical Device\",\"Legal Tech\",\"FinTech\",\"Fraud Detection\",\"Cloud Computing\",\"Marketing\",\"Retail Technology\",\"Intelligent Systems\",\"Cloud Data Services\",\"CRM\",\"Procurement\",\"Genetics\",\"mHealth\",\"Wellness\",\"Cloud Security\",\"Network Security\",\"Embedded Systems\",\"E-Commerce\",\"Supply Chain Management\",\"Computer Vision\",\"Shopping\",\"Human Resources\",\"Data Center\",\"Semiconductor\",\"Translation Service\",\"Sensor\",\"Employee Benefits\",\"Finance\",\"Health Insurance\",\"Security\",\"Hospital\",\"Content\",\"Crowdsourcing\",\"Data Mining\",\"Generation Z\",\"Photography\",\"Sharing Economy\",\"Big Data\",\"Intrusion Detection\",\"B2B\",\"Employment\",\"Delivery Service\",\"Food Delivery\",\"Enterprise\",\"Marketing Automation\",\"Social Media Advertising\",\"Life Science\",\"Medical\",\"Education\",\"Data Center Automation\",\"Legal\",\"Professional Services\",\"Marine Transportation\",\"Shipping\",\"Logistics\",\"Apps\",\"Brand Marketing\",\"InsurTech\",\"Predictive Analytics\",\"Sales Automation\",\"Internet\",\"Innovation Management\",\"Real Estate\",\"Information Services\",\"Recruiting\",\"Messaging\",\"Aerospace\",\"Geospatial\",\"Virtual Assistant\",\"Search Engine\",\"Delivery\",\"Real Time\",\"Insurance\",\"Agriculture\",\"Industrial\",\"Renewable Energy\",\"3D Printing\",\"3D Technology\",\"Manufacturing\",\"Neuroscience\",\"Commercial Insurance\",\"Risk Management\",\"Internet of Things\",\"Marine Technology\",\"Corporate Training\",\"Virtual Reality\",\"Business Intelligence\",\"PaaS\",\"Life Insurance\",\"Sales\",\"Accounting\",\"Document Management\",\"Document Preparation\",\"Cloud Management\",\"IT Management\",\"Video\",\"Video Editing\",\"Industrial Automation\",\"E-Commerce Platforms\",\"Operating Systems\",\"Software Engineering\",\"Test and Measurement\",\"Gaming\",\"Data Integration\",\"Infrastructure\",\"Email\",\"Digital Marketing\",\"Restaurants\",\"Mobile\",\"Consumer Goods\",\"Therapeutics\",\"Drones\",\"Navigation\",\"Payments\",\"Financial Services\",\"Communication Hardware\",\"Collaboration\",\"Biometrics\",\"Identity Management\",\"Retail\",\"Image Recognition\",\"Cloud Infrastructure\",\"Energy\",\"Fitness\",\"Electronic Health Record (EHR)\",\"Psychology\",\"Auto Insurance\",\"B2C\",\"Commercial\",\"Contact Management\",\"Developer Platform\",\"Environmental Engineering\",\"Developer Tools\",\"Sports\",\"Business Development\",\"Banking\",\"Cryptocurrency\",\"Semantic Search\",\"Personal Health\",\"Baseball\",\"UX Design\",\"Web Design\",\"Content Marketing\",\"Communities\",\"Fashion\",\"Lifestyle\",\"Professional Networking\",\"Fleet Management\",\"Parking\",\"Impact Investing\",\"Industrial Manufacturing\",\"Digital Media\",\"EBooks\",\"Publishing\",\"Online Portals\",\"Market Research\",\"Price Comparison\",\"Social Media\",\"Industrial Engineering\",\"iOS\",\"Local\",\"Virtual Workforce\",\"Cloud Storage\",\"Swimming\",\"Wearables\",\"Language Learning\",\"Text Analytics\",\"Power Grid\",\"Blockchain\",\"Telecommunications\",\"Wireless\",\"Enterprise Applications\",\"Lead Generation\",\"Home Health Care\",\"Consulting\",\"Marketplace\",\"Leasing\",\"EdTech\"],\"y\":[49,36,34,30,19,17,17,15,12,11,11,11,10,10,9,8,8,8,7,7,7,7,6,6,6,6,6,6,6,6,5,5,5,5,5,5,5,5,5,5,5,5,4,4,4,4,4,4,4,4,4,4,4,4,4,4,4,4,4,4,4,3,3,3,3,3,3,3,3,3,3,3,3,3,3,3,2,2,2,2,2,2,2,2,2,2,2,2,2,2,2,2,2,2,2,2,2,2,2,2,2,2,2,2,2,2,2,2,2,2,2,2,2,1,1,1,1,1,1,1,1,1,1,1,1,1,1,1,1,1,1,1,1,1,1,1,1,1,1,1,1,1,1,1,1,1,1,1,1,1,1,1,1,1,1,1,1,1,1,1,1,1,1,1,1,1,1,1,1,1,1,1,1,1,1,1,1,1,1,1,1,1,1,1,1,1,1,1,1,1,1,1,1,1,1,1,1,1,1,1,1,1,1,1,1],\"type\":\"bar\",\"xaxis\":\"x2\",\"yaxis\":\"y2\"},{\"name\":\"Total in China\",\"x\":[\"Autonomous Vehicles\",\"Computer\",\"Automotive\",\"Biopharma\",\"Medical Device\",\"Pharmaceutical\",\"Computer Vision\",\"Health Care\",\"Robotics\",\"Fashion\",\"Image Recognition\",\"Big Data\",\"Natural Language Processing\",\"Speech Recognition\",\"Customer Service\",\"Information Technology\",\"Predictive Analytics\",\"Analytics\",\"Consulting\",\"Manufacturing\",\"Energy\",\"Internet\",\"Apps\",\"Finance\",\"Video\",\"Biotechnology\",\"Therapeutics\",\"3D Technology\",\"Machinery Manufacturing\",\"Semiconductor\",\"Biometrics\",\"Enterprise\",\"Industrial Automation\",\"Information Services\",\"Internet of Things\",\"Sensor\",\"Industrial\",\"Logistics\"],\"y\":[10,5,4,3,3,3,3,2,2,2,2,1,1,1,1,1,1,1,1,1,1,1,1,1,1,1,1,1,1,1,1,1,1,1,1,1,1,1],\"type\":\"bar\",\"xaxis\":\"x3\",\"yaxis\":\"y3\"}],                        {\"template\":{\"data\":{\"barpolar\":[{\"marker\":{\"line\":{\"color\":\"rgb(17,17,17)\",\"width\":0.5},\"pattern\":{\"fillmode\":\"overlay\",\"size\":10,\"solidity\":0.2}},\"type\":\"barpolar\"}],\"bar\":[{\"error_x\":{\"color\":\"#f2f5fa\"},\"error_y\":{\"color\":\"#f2f5fa\"},\"marker\":{\"line\":{\"color\":\"rgb(17,17,17)\",\"width\":0.5},\"pattern\":{\"fillmode\":\"overlay\",\"size\":10,\"solidity\":0.2}},\"type\":\"bar\"}],\"carpet\":[{\"aaxis\":{\"endlinecolor\":\"#A2B1C6\",\"gridcolor\":\"#506784\",\"linecolor\":\"#506784\",\"minorgridcolor\":\"#506784\",\"startlinecolor\":\"#A2B1C6\"},\"baxis\":{\"endlinecolor\":\"#A2B1C6\",\"gridcolor\":\"#506784\",\"linecolor\":\"#506784\",\"minorgridcolor\":\"#506784\",\"startlinecolor\":\"#A2B1C6\"},\"type\":\"carpet\"}],\"choropleth\":[{\"colorbar\":{\"outlinewidth\":0,\"ticks\":\"\"},\"type\":\"choropleth\"}],\"contourcarpet\":[{\"colorbar\":{\"outlinewidth\":0,\"ticks\":\"\"},\"type\":\"contourcarpet\"}],\"contour\":[{\"colorbar\":{\"outlinewidth\":0,\"ticks\":\"\"},\"colorscale\":[[0.0,\"#0d0887\"],[0.1111111111111111,\"#46039f\"],[0.2222222222222222,\"#7201a8\"],[0.3333333333333333,\"#9c179e\"],[0.4444444444444444,\"#bd3786\"],[0.5555555555555556,\"#d8576b\"],[0.6666666666666666,\"#ed7953\"],[0.7777777777777778,\"#fb9f3a\"],[0.8888888888888888,\"#fdca26\"],[1.0,\"#f0f921\"]],\"type\":\"contour\"}],\"heatmapgl\":[{\"colorbar\":{\"outlinewidth\":0,\"ticks\":\"\"},\"colorscale\":[[0.0,\"#0d0887\"],[0.1111111111111111,\"#46039f\"],[0.2222222222222222,\"#7201a8\"],[0.3333333333333333,\"#9c179e\"],[0.4444444444444444,\"#bd3786\"],[0.5555555555555556,\"#d8576b\"],[0.6666666666666666,\"#ed7953\"],[0.7777777777777778,\"#fb9f3a\"],[0.8888888888888888,\"#fdca26\"],[1.0,\"#f0f921\"]],\"type\":\"heatmapgl\"}],\"heatmap\":[{\"colorbar\":{\"outlinewidth\":0,\"ticks\":\"\"},\"colorscale\":[[0.0,\"#0d0887\"],[0.1111111111111111,\"#46039f\"],[0.2222222222222222,\"#7201a8\"],[0.3333333333333333,\"#9c179e\"],[0.4444444444444444,\"#bd3786\"],[0.5555555555555556,\"#d8576b\"],[0.6666666666666666,\"#ed7953\"],[0.7777777777777778,\"#fb9f3a\"],[0.8888888888888888,\"#fdca26\"],[1.0,\"#f0f921\"]],\"type\":\"heatmap\"}],\"histogram2dcontour\":[{\"colorbar\":{\"outlinewidth\":0,\"ticks\":\"\"},\"colorscale\":[[0.0,\"#0d0887\"],[0.1111111111111111,\"#46039f\"],[0.2222222222222222,\"#7201a8\"],[0.3333333333333333,\"#9c179e\"],[0.4444444444444444,\"#bd3786\"],[0.5555555555555556,\"#d8576b\"],[0.6666666666666666,\"#ed7953\"],[0.7777777777777778,\"#fb9f3a\"],[0.8888888888888888,\"#fdca26\"],[1.0,\"#f0f921\"]],\"type\":\"histogram2dcontour\"}],\"histogram2d\":[{\"colorbar\":{\"outlinewidth\":0,\"ticks\":\"\"},\"colorscale\":[[0.0,\"#0d0887\"],[0.1111111111111111,\"#46039f\"],[0.2222222222222222,\"#7201a8\"],[0.3333333333333333,\"#9c179e\"],[0.4444444444444444,\"#bd3786\"],[0.5555555555555556,\"#d8576b\"],[0.6666666666666666,\"#ed7953\"],[0.7777777777777778,\"#fb9f3a\"],[0.8888888888888888,\"#fdca26\"],[1.0,\"#f0f921\"]],\"type\":\"histogram2d\"}],\"histogram\":[{\"marker\":{\"pattern\":{\"fillmode\":\"overlay\",\"size\":10,\"solidity\":0.2}},\"type\":\"histogram\"}],\"mesh3d\":[{\"colorbar\":{\"outlinewidth\":0,\"ticks\":\"\"},\"type\":\"mesh3d\"}],\"parcoords\":[{\"line\":{\"colorbar\":{\"outlinewidth\":0,\"ticks\":\"\"}},\"type\":\"parcoords\"}],\"pie\":[{\"automargin\":true,\"type\":\"pie\"}],\"scatter3d\":[{\"line\":{\"colorbar\":{\"outlinewidth\":0,\"ticks\":\"\"}},\"marker\":{\"colorbar\":{\"outlinewidth\":0,\"ticks\":\"\"}},\"type\":\"scatter3d\"}],\"scattercarpet\":[{\"marker\":{\"colorbar\":{\"outlinewidth\":0,\"ticks\":\"\"}},\"type\":\"scattercarpet\"}],\"scattergeo\":[{\"marker\":{\"colorbar\":{\"outlinewidth\":0,\"ticks\":\"\"}},\"type\":\"scattergeo\"}],\"scattergl\":[{\"marker\":{\"line\":{\"color\":\"#283442\"}},\"type\":\"scattergl\"}],\"scattermapbox\":[{\"marker\":{\"colorbar\":{\"outlinewidth\":0,\"ticks\":\"\"}},\"type\":\"scattermapbox\"}],\"scatterpolargl\":[{\"marker\":{\"colorbar\":{\"outlinewidth\":0,\"ticks\":\"\"}},\"type\":\"scatterpolargl\"}],\"scatterpolar\":[{\"marker\":{\"colorbar\":{\"outlinewidth\":0,\"ticks\":\"\"}},\"type\":\"scatterpolar\"}],\"scatter\":[{\"marker\":{\"line\":{\"color\":\"#283442\"}},\"type\":\"scatter\"}],\"scatterternary\":[{\"marker\":{\"colorbar\":{\"outlinewidth\":0,\"ticks\":\"\"}},\"type\":\"scatterternary\"}],\"surface\":[{\"colorbar\":{\"outlinewidth\":0,\"ticks\":\"\"},\"colorscale\":[[0.0,\"#0d0887\"],[0.1111111111111111,\"#46039f\"],[0.2222222222222222,\"#7201a8\"],[0.3333333333333333,\"#9c179e\"],[0.4444444444444444,\"#bd3786\"],[0.5555555555555556,\"#d8576b\"],[0.6666666666666666,\"#ed7953\"],[0.7777777777777778,\"#fb9f3a\"],[0.8888888888888888,\"#fdca26\"],[1.0,\"#f0f921\"]],\"type\":\"surface\"}],\"table\":[{\"cells\":{\"fill\":{\"color\":\"#506784\"},\"line\":{\"color\":\"rgb(17,17,17)\"}},\"header\":{\"fill\":{\"color\":\"#2a3f5f\"},\"line\":{\"color\":\"rgb(17,17,17)\"}},\"type\":\"table\"}]},\"layout\":{\"annotationdefaults\":{\"arrowcolor\":\"#f2f5fa\",\"arrowhead\":0,\"arrowwidth\":1},\"autotypenumbers\":\"strict\",\"coloraxis\":{\"colorbar\":{\"outlinewidth\":0,\"ticks\":\"\"}},\"colorscale\":{\"diverging\":[[0,\"#8e0152\"],[0.1,\"#c51b7d\"],[0.2,\"#de77ae\"],[0.3,\"#f1b6da\"],[0.4,\"#fde0ef\"],[0.5,\"#f7f7f7\"],[0.6,\"#e6f5d0\"],[0.7,\"#b8e186\"],[0.8,\"#7fbc41\"],[0.9,\"#4d9221\"],[1,\"#276419\"]],\"sequential\":[[0.0,\"#0d0887\"],[0.1111111111111111,\"#46039f\"],[0.2222222222222222,\"#7201a8\"],[0.3333333333333333,\"#9c179e\"],[0.4444444444444444,\"#bd3786\"],[0.5555555555555556,\"#d8576b\"],[0.6666666666666666,\"#ed7953\"],[0.7777777777777778,\"#fb9f3a\"],[0.8888888888888888,\"#fdca26\"],[1.0,\"#f0f921\"]],\"sequentialminus\":[[0.0,\"#0d0887\"],[0.1111111111111111,\"#46039f\"],[0.2222222222222222,\"#7201a8\"],[0.3333333333333333,\"#9c179e\"],[0.4444444444444444,\"#bd3786\"],[0.5555555555555556,\"#d8576b\"],[0.6666666666666666,\"#ed7953\"],[0.7777777777777778,\"#fb9f3a\"],[0.8888888888888888,\"#fdca26\"],[1.0,\"#f0f921\"]]},\"colorway\":[\"#636efa\",\"#EF553B\",\"#00cc96\",\"#ab63fa\",\"#FFA15A\",\"#19d3f3\",\"#FF6692\",\"#B6E880\",\"#FF97FF\",\"#FECB52\"],\"font\":{\"color\":\"#f2f5fa\"},\"geo\":{\"bgcolor\":\"rgb(17,17,17)\",\"lakecolor\":\"rgb(17,17,17)\",\"landcolor\":\"rgb(17,17,17)\",\"showlakes\":true,\"showland\":true,\"subunitcolor\":\"#506784\"},\"hoverlabel\":{\"align\":\"left\"},\"hovermode\":\"closest\",\"mapbox\":{\"style\":\"dark\"},\"paper_bgcolor\":\"rgb(17,17,17)\",\"plot_bgcolor\":\"rgb(17,17,17)\",\"polar\":{\"angularaxis\":{\"gridcolor\":\"#506784\",\"linecolor\":\"#506784\",\"ticks\":\"\"},\"bgcolor\":\"rgb(17,17,17)\",\"radialaxis\":{\"gridcolor\":\"#506784\",\"linecolor\":\"#506784\",\"ticks\":\"\"}},\"scene\":{\"xaxis\":{\"backgroundcolor\":\"rgb(17,17,17)\",\"gridcolor\":\"#506784\",\"gridwidth\":2,\"linecolor\":\"#506784\",\"showbackground\":true,\"ticks\":\"\",\"zerolinecolor\":\"#C8D4E3\"},\"yaxis\":{\"backgroundcolor\":\"rgb(17,17,17)\",\"gridcolor\":\"#506784\",\"gridwidth\":2,\"linecolor\":\"#506784\",\"showbackground\":true,\"ticks\":\"\",\"zerolinecolor\":\"#C8D4E3\"},\"zaxis\":{\"backgroundcolor\":\"rgb(17,17,17)\",\"gridcolor\":\"#506784\",\"gridwidth\":2,\"linecolor\":\"#506784\",\"showbackground\":true,\"ticks\":\"\",\"zerolinecolor\":\"#C8D4E3\"}},\"shapedefaults\":{\"line\":{\"color\":\"#f2f5fa\"}},\"sliderdefaults\":{\"bgcolor\":\"#C8D4E3\",\"bordercolor\":\"rgb(17,17,17)\",\"borderwidth\":1,\"tickwidth\":0},\"ternary\":{\"aaxis\":{\"gridcolor\":\"#506784\",\"linecolor\":\"#506784\",\"ticks\":\"\"},\"baxis\":{\"gridcolor\":\"#506784\",\"linecolor\":\"#506784\",\"ticks\":\"\"},\"bgcolor\":\"rgb(17,17,17)\",\"caxis\":{\"gridcolor\":\"#506784\",\"linecolor\":\"#506784\",\"ticks\":\"\"}},\"title\":{\"x\":0.05},\"updatemenudefaults\":{\"bgcolor\":\"#506784\",\"borderwidth\":0},\"xaxis\":{\"automargin\":true,\"gridcolor\":\"#283442\",\"linecolor\":\"#506784\",\"ticks\":\"\",\"title\":{\"standoff\":15},\"zerolinecolor\":\"#283442\",\"zerolinewidth\":2},\"yaxis\":{\"automargin\":true,\"gridcolor\":\"#283442\",\"linecolor\":\"#506784\",\"ticks\":\"\",\"title\":{\"standoff\":15},\"zerolinecolor\":\"#283442\",\"zerolinewidth\":2}}},\"xaxis\":{\"anchor\":\"y\",\"domain\":[0.0,1.0],\"title\":{\"text\":\"Industries\"},\"tickangle\":45},\"yaxis\":{\"anchor\":\"x\",\"domain\":[0.7777777777777778,1.0]},\"xaxis2\":{\"anchor\":\"y2\",\"domain\":[0.0,1.0],\"title\":{\"text\":\"Industries\"},\"tickangle\":45},\"yaxis2\":{\"anchor\":\"x2\",\"domain\":[0.3888888888888889,0.6111111111111112]},\"xaxis3\":{\"anchor\":\"y3\",\"domain\":[0.0,1.0],\"title\":{\"text\":\"Industries\"},\"tickangle\":45},\"yaxis3\":{\"anchor\":\"x3\",\"domain\":[0.0,0.22222222222222224]},\"annotations\":[{\"font\":{\"size\":16},\"showarrow\":false,\"text\":\"Total, Total in US, Total in China\",\"x\":0.5,\"xanchor\":\"center\",\"xref\":\"paper\",\"y\":1.0,\"yanchor\":\"bottom\",\"yref\":\"paper\"}]},                        {\"responsive\": true}                    ).then(function(){\n",
       "                            \n",
       "var gd = document.getElementById('360486b7-7c1a-4feb-84b4-8d8b1759a2a8');\n",
       "var x = new MutationObserver(function (mutations, observer) {{\n",
       "        var display = window.getComputedStyle(gd).display;\n",
       "        if (!display || display === 'none') {{\n",
       "            console.log([gd, 'removed!']);\n",
       "            Plotly.purge(gd);\n",
       "            observer.disconnect();\n",
       "        }}\n",
       "}});\n",
       "\n",
       "// Listen for the removal of the full notebook cells\n",
       "var notebookContainer = gd.closest('#notebook-container');\n",
       "if (notebookContainer) {{\n",
       "    x.observe(notebookContainer, {childList: true});\n",
       "}}\n",
       "\n",
       "// Listen for the clearing of the current output cell\n",
       "var outputEl = gd.closest('.output');\n",
       "if (outputEl) {{\n",
       "    x.observe(outputEl, {childList: true});\n",
       "}}\n",
       "\n",
       "                        })                };                });            </script>        </div>"
      ]
     },
     "metadata": {},
     "output_type": "display_data"
    }
   ],
   "source": [
    "import plotly.express as px\n",
    "import plotly.io as pio\n",
    "from plotly.subplots import make_subplots\n",
    "import plotly.graph_objects as go\n",
    "\n",
    "industry_counts, industry_total = industry_Calcs(df) \n",
    "industry_counts_USA, industry_total_USA = industry_Calcs(df, \"United States\")\n",
    "industry_counts_China, industry_total_China = industry_Calcs(df, \"China\")\n",
    "\n",
    "fig = make_subplots(rows=3, cols=1, subplot_titles= [\"Total, Total in US, Total in China\"])\n",
    "fig.add_trace(go.Bar(x=list(industry_counts.keys()), y=sorted(list(industry_counts.values()), reverse=True), name=\"Total\"), row=1, col=1)\n",
    "fig.add_trace(go.Bar(x=list(industry_counts_USA.keys()), y=sorted(list(industry_counts_USA.values()), reverse=True), name=\"Total in US\"), row=2, col=1)\n",
    "fig.add_trace(go.Bar(x=list(industry_counts_China.keys()), y=sorted(list(industry_counts_China.values()), reverse=True), name=\"Total in China\"), row=3, col=1)\n",
    "\n",
    "\n",
    "# use plotly to create a bar chart of the industry counts sorted by count in darkmode\n",
    "fig.update_layout(template=\"plotly_dark\")\n",
    "# make the x axis labels rotated a bit\n",
    "fig.update_xaxes(title_text=\"Industries\", tickangle=45)\n",
    "fig.show()\n",
    "# download the html of the plot\n",
    "pio.write_html(fig, file=\"Charts/industry_counts_x3.html\", auto_open=True)\n",
    "\n",
    "# create one figure that has three subplots on for each country\n"
   ]
  },
  {
   "cell_type": "code",
   "execution_count": 33,
   "metadata": {},
   "outputs": [],
   "source": [
    "!mkdir Charts"
   ]
  },
  {
   "cell_type": "code",
   "execution_count": 35,
   "metadata": {},
   "outputs": [
    {
     "data": {
      "application/vnd.plotly.v1+json": {
       "config": {
        "plotlyServerURL": "https://plot.ly"
       },
       "data": [
        {
         "name": "Total",
         "type": "bar",
         "x": [
          "Automotive",
          "Autonomous Vehicles",
          "Robotics",
          "Transportation",
          "Computer",
          "Customer Service",
          "SaaS",
          "Analytics",
          "Business Information Systems",
          "Enterprise Software",
          "Productivity Tools",
          "Electric Vehicle",
          "Information Technology",
          "Internet",
          "Consumer Electronics",
          "Biotechnology",
          "Pharmaceutical",
          "Biopharma",
          "Medical Device",
          "Cyber Security",
          "Developer APIs",
          "Computer Vision",
          "Health Care",
          "Call Center",
          "Natural Language Processing",
          "Speech Recognition",
          "Digital Marketing",
          "Lead Management",
          "Augmented Reality",
          "Human Computer Interaction",
          "Hardware",
          "Construction",
          "Data Visualization",
          "Health Diagnostics",
          "Developer Tools",
          "Software Engineering",
          "Legal Tech",
          "Fashion",
          "Image Recognition",
          "FinTech",
          "Fraud Detection",
          "Big Data",
          "Broadcasting",
          "Content",
          "Digital Media",
          "Sports",
          "Video",
          "Cloud Computing",
          "Marketing",
          "Human Resources",
          "Recruiting",
          "Retail Technology",
          "Finance",
          "Financial Services",
          "Agriculture",
          "AgTech",
          "Animal Feed",
          "Intelligent Systems",
          "Cloud Data Services",
          "CRM",
          "Procurement",
          "E-Learning",
          "Training",
          "Genetics",
          "mHealth",
          "Wellness",
          "Cloud Security",
          "Network Security",
          "Virtual Reality",
          "Embedded Systems",
          "E-Commerce",
          "Supply Chain Management",
          "Business Intelligence",
          "Predictive Analytics",
          "Shopping",
          "Aerospace",
          "Air Transportation",
          "Data Center",
          "Semiconductor",
          "Translation Service",
          "Sensor",
          "Employee Benefits",
          "Health Insurance",
          "Email",
          "Security",
          "B2C",
          "Virtual Assistant",
          "Hospital",
          "Crowdsourcing",
          "Data Mining",
          "Generation Z",
          "Photography",
          "Sharing Economy",
          "Life Science",
          "Apps",
          "Drone Management",
          "Drones",
          "Internet of Things",
          "Intrusion Detection",
          "Energy",
          "Geospatial",
          "GPS",
          "Oil and Gas",
          "Real Time",
          "Semantic Search",
          "Advanced Materials",
          "B2B",
          "Employment",
          "Delivery Service",
          "Food Delivery",
          "Compliance",
          "Enterprise",
          "Marketing Automation",
          "Social Media Advertising",
          "EdTech",
          "Education",
          "Medical",
          "Data Center Automation",
          "Legal",
          "Professional Services",
          "Marine Transportation",
          "Shipping",
          "Logistics",
          "Market Research",
          "Consulting",
          "Manufacturing",
          "Brand Marketing",
          "Identity Management",
          "Mobile",
          "InsurTech",
          "Industrial Manufacturing",
          "Personal Health",
          "3D Technology",
          "Sales Automation",
          "Innovation Management",
          "Real Estate",
          "Farming",
          "Information Services",
          "Telecommunications",
          "Facial Recognition",
          "Media and Entertainment",
          "Privacy",
          "Messaging",
          "Search Engine",
          "Delivery",
          "Insurance",
          "Industrial",
          "Renewable Energy",
          "News",
          "Social Entrepreneurship",
          "3D Printing",
          "Mapping Services",
          "Dental",
          "Neuroscience",
          "Management Information Systems",
          "Skill Assessment",
          "Career Planning",
          "Higher Education",
          "Marketplace",
          "Commercial Insurance",
          "Risk Management",
          "Marine Technology",
          "Corporate Training",
          "Audio",
          "TV Production",
          "PaaS",
          "Life Insurance",
          "Sales",
          "Fleet Management",
          "Accounting",
          "Document Management",
          "Document Preparation",
          "Data Integration",
          "Fast-Moving Consumer Goods",
          "Food and Beverage",
          "Hospitality",
          "Restaurants",
          "Retail",
          "Cloud Management",
          "IT Management",
          "Biofuel",
          "Video Editing",
          "Therapeutics",
          "Machinery Manufacturing",
          "Biometrics",
          "Outsourcing",
          "Information and Communications Technology (ICT)",
          "Industrial Automation",
          "Task Management",
          "E-Commerce Platforms",
          "Operating Systems",
          "Cloud Infrastructure",
          "Test and Measurement",
          "Gaming",
          "Printing",
          "Infrastructure",
          "Consumer Goods",
          "Navigation",
          "Building Material",
          "Online Portals",
          "Rental Property",
          "Payments",
          "CleanTech",
          "GreenTech",
          "Communication Hardware",
          "Social Media",
          "Collaboration",
          "Photo Editing",
          "Fitness",
          "Electronic Health Record (EHR)",
          "Building Maintenance",
          "Property Management",
          "IT Infrastructure",
          "Psychology",
          "Social CRM",
          "Social Media Management",
          "Mobile Apps",
          "Motion Capture",
          "Video Games",
          "Optical Communication",
          "Text Analytics",
          "Auto Insurance",
          "Commercial",
          "Contact Management",
          "Developer Platform",
          "Energy Efficiency",
          "Energy Management",
          "Power Grid",
          "Environmental Engineering",
          "Public Relations",
          "Business Development",
          "Electronics",
          "Banking",
          "Cryptocurrency",
          "Affiliate Marketing",
          "Personalization",
          "Knowledge Management",
          "Assistive Technology",
          "Baseball",
          "Web Apps",
          "UX Design",
          "Web Design",
          "Bioinformatics",
          "Content Marketing",
          "Communities",
          "Lifestyle",
          "Professional Networking",
          "Parking",
          "Embedded Software",
          "Project Management",
          "Email Marketing",
          "Enterprise Applications",
          "Enterprise Resource Planning (ERP)",
          "Impact Investing",
          "Database",
          "EBooks",
          "Publishing",
          "Price Comparison",
          "Industrial Engineering",
          "iOS",
          "Local",
          "Virtual Workforce",
          "Language Learning",
          "Horticulture",
          "Cloud Storage",
          "Jewelry",
          "Satellite Communication",
          "Advertising",
          "Lead Generation",
          "Swimming",
          "Leisure",
          "Tourism",
          "Travel",
          "Music",
          "Podcast",
          "Video Streaming",
          "Wearables",
          "Loyalty Programs",
          "Blockchain",
          "Wireless",
          "Sustainability",
          "Home Health Care",
          "Serious Games",
          "Leasing",
          "Warehousing"
         ],
         "xaxis": "x",
         "y": [
          2419442061,
          2300989157,
          1758926502,
          1619613094.6,
          1489789800.59,
          1444000000,
          1269640804.2900002,
          1059187212,
          678927545,
          660844862.6,
          659616600,
          654900000,
          577374532,
          570909681.5,
          560354952,
          550075011.1,
          541904668,
          482202020.9,
          473068801.1,
          455761857,
          398353297.1,
          365452244.1,
          363187849,
          328157107,
          327303091,
          284700995,
          250250000,
          230186566,
          225000000,
          217277451,
          216180500,
          212375000,
          208399237,
          207378870,
          204219292,
          201627011.1,
          201341960,
          191560000,
          190840000,
          190575000,
          190042498,
          185100000,
          182596100,
          177500000,
          176534000,
          174714143,
          171643500,
          165187911.5,
          164894999,
          162850326,
          162705998,
          160066997,
          151090000,
          150264668,
          150000000,
          149459610,
          148000000,
          147685000,
          144896100,
          144717104,
          139037011.1,
          138305000,
          137842729,
          134380840,
          127700000,
          126884968,
          126696100,
          121000000,
          120569610,
          118442000,
          117022000,
          115254365,
          114500000,
          114362668,
          113464610,
          110331100,
          109610000,
          109089237,
          109085000,
          108650000,
          107104037,
          106300000,
          105000000,
          102946500,
          100000000,
          97945000,
          95737849,
          95668840,
          95037011.1,
          91707910,
          90840000,
          90144000,
          86855265,
          85723968,
          83100000,
          83014484,
          80000000,
          80000000,
          79380000,
          76251376.4,
          75000000,
          73825000,
          73000000,
          72569380,
          70725000,
          70000000,
          66000000,
          62779997,
          61150000,
          57180000,
          56000000,
          56000000,
          55643610,
          55625000,
          55000000,
          54040851,
          53500000,
          52532030,
          51800000,
          51781497,
          51481497,
          50000000,
          50000000,
          50000000,
          49880000,
          48681480,
          47200000,
          46876989,
          44000000,
          43605265,
          43420000,
          43200000,
          42847103,
          42240000,
          42000000,
          40900000,
          40821500,
          40239000,
          40000000,
          39500000,
          38881150.09,
          38500000,
          37411200,
          37360000,
          35452000,
          35396100,
          34960000,
          34000000,
          34000000,
          32664199.999999996,
          32600000,
          32500000,
          32405000,
          31000000,
          29750326,
          27660851,
          27585000,
          27387376.4,
          27000000,
          25885000,
          25500000,
          25200000,
          25000000,
          25000000,
          24000000,
          24000000,
          24000000,
          23687104,
          23000000,
          22230000,
          22000000,
          22000000,
          21850000,
          21600000,
          21600000,
          21100000,
          20840000,
          20824668,
          20680000,
          20160000,
          20035000,
          20000000,
          20000000,
          20000000,
          19059373.4,
          18000000,
          18000000,
          17000000,
          16390000,
          16000000,
          16000000,
          15760000,
          15600000,
          15394000,
          14400000,
          14400000,
          12500000,
          12380000,
          11960000,
          11790000,
          11700000,
          11500000,
          11150000,
          10700000,
          10480000,
          10480000,
          9994995,
          9990000,
          9720000,
          9600000,
          8992000,
          7000000,
          6630000,
          6620000,
          6500000,
          6500000,
          6000000,
          6000000,
          6000000,
          6000000,
          6000000,
          6000000,
          6000000,
          5835998,
          5250000,
          5000000,
          5000000,
          5000000,
          4800000,
          4670000,
          4670000,
          4589376.4,
          4300000,
          4000000,
          4000000,
          4000000,
          3930000,
          3930000,
          3780000.0000000005,
          3750000,
          3500000,
          3500000,
          3120000,
          3000000,
          3000000,
          3000000,
          3000000,
          3000000,
          3000000,
          2700000,
          2700000,
          2700000,
          2620000,
          2500000,
          2500000,
          2000000,
          2000000,
          2000000,
          1781497,
          1693138,
          1693138,
          1693138,
          1580000,
          1500000,
          1500000,
          1378000,
          1353577,
          1350000,
          1250000,
          1200000,
          1100000,
          1080000,
          1080000,
          1080000,
          1080000,
          1000000,
          1000000,
          1000000,
          1000000,
          885000,
          270000,
          250000,
          200000,
          196500,
          100000
         ],
         "yaxis": "y"
        },
        {
         "name": "Total in US",
         "type": "bar",
         "x": [
          "Automotive",
          "Autonomous Vehicles",
          "Robotics",
          "Transportation",
          "Customer Service",
          "SaaS",
          "Analytics",
          "Business Information Systems",
          "Enterprise Software",
          "Productivity Tools",
          "Biotechnology",
          "Pharmaceutical",
          "Cyber Security",
          "Developer APIs",
          "Call Center",
          "Natural Language Processing",
          "Speech Recognition",
          "Augmented Reality",
          "Consumer Electronics",
          "Human Computer Interaction",
          "Computer",
          "Hardware",
          "Construction",
          "Data Visualization",
          "Information Technology",
          "Health Care",
          "Health Diagnostics",
          "Medical Device",
          "Legal Tech",
          "FinTech",
          "Fraud Detection",
          "Cloud Computing",
          "Marketing",
          "Retail Technology",
          "Intelligent Systems",
          "Cloud Data Services",
          "CRM",
          "Procurement",
          "Genetics",
          "mHealth",
          "Wellness",
          "Cloud Security",
          "Network Security",
          "Embedded Systems",
          "E-Commerce",
          "Supply Chain Management",
          "Computer Vision",
          "Shopping",
          "Human Resources",
          "Data Center",
          "Semiconductor",
          "Translation Service",
          "Sensor",
          "Employee Benefits",
          "Finance",
          "Health Insurance",
          "Security",
          "Hospital",
          "Content",
          "Crowdsourcing",
          "Data Mining",
          "Generation Z",
          "Photography",
          "Sharing Economy",
          "Big Data",
          "Intrusion Detection",
          "B2B",
          "Employment",
          "Delivery Service",
          "Food Delivery",
          "Enterprise",
          "Marketing Automation",
          "Social Media Advertising",
          "Life Science",
          "Medical",
          "Education",
          "Data Center Automation",
          "Legal",
          "Professional Services",
          "Marine Transportation",
          "Shipping",
          "Logistics",
          "Apps",
          "Brand Marketing",
          "InsurTech",
          "Predictive Analytics",
          "Sales Automation",
          "Internet",
          "Innovation Management",
          "Real Estate",
          "Information Services",
          "Recruiting",
          "Messaging",
          "Aerospace",
          "Geospatial",
          "Virtual Assistant",
          "Search Engine",
          "Delivery",
          "Real Time",
          "Insurance",
          "Agriculture",
          "Industrial",
          "Renewable Energy",
          "3D Printing",
          "3D Technology",
          "Manufacturing",
          "Neuroscience",
          "Commercial Insurance",
          "Risk Management",
          "Internet of Things",
          "Marine Technology",
          "Corporate Training",
          "Virtual Reality",
          "Business Intelligence",
          "PaaS",
          "Life Insurance",
          "Sales",
          "Accounting",
          "Document Management",
          "Document Preparation",
          "Cloud Management",
          "IT Management",
          "Video",
          "Video Editing",
          "Industrial Automation",
          "E-Commerce Platforms",
          "Operating Systems",
          "Software Engineering",
          "Test and Measurement",
          "Gaming",
          "Data Integration",
          "Infrastructure",
          "Email",
          "Digital Marketing",
          "Restaurants",
          "Mobile",
          "Consumer Goods",
          "Therapeutics",
          "Drones",
          "Navigation",
          "Payments",
          "Financial Services",
          "Communication Hardware",
          "Collaboration",
          "Biometrics",
          "Identity Management",
          "Retail",
          "Image Recognition",
          "Cloud Infrastructure",
          "Energy",
          "Fitness",
          "Electronic Health Record (EHR)",
          "Psychology",
          "Auto Insurance",
          "B2C",
          "Commercial",
          "Contact Management",
          "Developer Platform",
          "Environmental Engineering",
          "Developer Tools",
          "Sports",
          "Business Development",
          "Banking",
          "Cryptocurrency",
          "Semantic Search",
          "Personal Health",
          "Baseball",
          "UX Design",
          "Web Design",
          "Content Marketing",
          "Communities",
          "Fashion",
          "Lifestyle",
          "Professional Networking",
          "Fleet Management",
          "Parking",
          "Impact Investing",
          "Industrial Manufacturing",
          "Digital Media",
          "EBooks",
          "Publishing",
          "Online Portals",
          "Market Research",
          "Price Comparison",
          "Social Media",
          "Industrial Engineering",
          "iOS",
          "Local",
          "Virtual Workforce",
          "Cloud Storage",
          "Swimming",
          "Wearables",
          "Language Learning",
          "Text Analytics",
          "Power Grid",
          "Blockchain",
          "Telecommunications",
          "Wireless",
          "Enterprise Applications",
          "Lead Generation",
          "Home Health Care",
          "Consulting",
          "Marketplace",
          "Leasing",
          "EdTech"
         ],
         "xaxis": "x2",
         "y": [
          1836460676,
          1541000000,
          1483000000,
          1427000000,
          1123355674,
          882433354,
          675983902,
          635683202,
          539900000,
          535403545,
          465561003,
          435200000,
          422761857,
          357974668,
          260410000,
          225000000,
          207680851,
          196653826,
          188444532,
          188262000,
          185100000,
          164602030,
          163694995,
          163500000,
          163240000,
          162653826,
          159600000,
          157300000,
          157250000,
          154455000,
          149400000,
          146035000,
          145000000,
          140575000,
          139300000,
          134995706,
          133600000,
          133399237,
          132699968,
          125000000,
          125000000,
          124157107,
          119000000,
          118500000,
          113224668,
          112884968,
          111000000,
          110194030,
          107100000,
          97699237,
          93800000,
          89200000,
          87800000,
          84150000,
          79999968,
          75000000,
          73000000,
          70725000,
          70570000,
          70000000,
          67525000,
          65000000,
          62035000,
          61150000,
          58449997,
          56210000,
          56000000,
          55000000,
          55000000,
          55000000,
          53500000,
          53500000,
          52532030,
          51781497,
          50000000,
          50000000,
          50000000,
          50000000,
          50000000,
          50000000,
          48350000,
          46175000,
          46000000,
          45000000,
          44000000,
          43240000,
          42000000,
          40200000,
          40000000,
          39812000,
          39500000,
          38500000,
          37360000,
          37060851,
          36150000,
          36000000,
          34904037,
          34000000,
          33814999,
          33637127,
          33068989,
          32650000,
          32398488,
          31000000,
          29500000,
          29450000,
          28753826,
          27660851,
          27000000,
          25500000,
          25200000,
          25000000,
          25000000,
          24000000,
          24000000,
          24000000,
          23000000,
          23000000,
          20824668,
          20821003,
          20749997,
          20140000,
          20035000,
          20000000,
          20000000,
          19000000,
          18200000,
          18000000,
          17825000,
          17000000,
          17000000,
          16000000,
          16000000,
          14400000,
          14400000,
          14362668,
          13450000,
          12500000,
          12000000,
          11500000,
          11500000,
          11150000,
          11150000,
          11150000,
          10900000,
          10700000,
          9994995,
          9800000,
          9600000,
          9200000,
          7532030,
          7100000,
          7035000,
          6000000,
          5250000,
          5000000,
          5000000,
          5000000,
          5000000,
          4800000,
          4600000,
          4300000,
          4200000,
          4000000,
          4000000,
          3800000,
          3750000,
          3500000,
          3500000,
          3000000,
          3000000,
          3000000,
          3000000,
          3000000,
          3000000,
          3000000,
          2500000,
          2405000,
          2000000,
          2000000,
          2000000,
          1950000,
          1900000,
          1781497,
          1781497,
          1749997,
          1693138,
          1693138,
          1693138,
          1500000,
          1353577,
          1250000,
          1100000,
          1000000,
          1000000,
          1000000,
          885000,
          885000,
          500000,
          500000,
          250000,
          225000,
          200000,
          150000,
          100000
         ],
         "yaxis": "y2"
        },
        {
         "name": "Total in China",
         "type": "bar",
         "x": [
          "Autonomous Vehicles",
          "Computer",
          "Automotive",
          "Biopharma",
          "Medical Device",
          "Pharmaceutical",
          "Computer Vision",
          "Health Care",
          "Robotics",
          "Fashion",
          "Image Recognition",
          "Big Data",
          "Natural Language Processing",
          "Speech Recognition",
          "Customer Service",
          "Information Technology",
          "Predictive Analytics",
          "Analytics",
          "Consulting",
          "Manufacturing",
          "Energy",
          "Internet",
          "Apps",
          "Finance",
          "Video",
          "Biotechnology",
          "Therapeutics",
          "3D Technology",
          "Machinery Manufacturing",
          "Semiconductor",
          "Biometrics",
          "Enterprise",
          "Industrial Automation",
          "Information Services",
          "Internet of Things",
          "Sensor",
          "Industrial",
          "Logistics"
         ],
         "xaxis": "x3",
         "y": [
          604049300,
          411619720,
          400000000,
          276000000,
          255568800,
          252707210,
          159645180,
          158961810,
          156505960,
          150000000,
          150000000,
          100000000,
          100000000,
          100000000,
          100000000,
          100000000,
          48657909.99999999,
          47088300,
          31392199.999999996,
          31392199.999999996,
          31392199.999999996,
          17265710,
          15696099.999999998,
          15696099.999999998,
          15696099.999999998,
          15696099.999999998,
          15696099.999999998,
          15696099.999999998,
          15696099.999999998,
          15696099.999999998,
          15696099.999999998,
          15696099.999999998,
          10000000,
          10000000,
          1569610,
          1569610,
          1569610,
          1569610
         ],
         "yaxis": "y3"
        }
       ],
       "layout": {
        "annotations": [
         {
          "font": {
           "size": 16
          },
          "showarrow": false,
          "text": "Total, Total in US, Total in China",
          "x": 0.5,
          "xanchor": "center",
          "xref": "paper",
          "y": 1,
          "yanchor": "bottom",
          "yref": "paper"
         }
        ],
        "template": {
         "data": {
          "bar": [
           {
            "error_x": {
             "color": "#f2f5fa"
            },
            "error_y": {
             "color": "#f2f5fa"
            },
            "marker": {
             "line": {
              "color": "rgb(17,17,17)",
              "width": 0.5
             },
             "pattern": {
              "fillmode": "overlay",
              "size": 10,
              "solidity": 0.2
             }
            },
            "type": "bar"
           }
          ],
          "barpolar": [
           {
            "marker": {
             "line": {
              "color": "rgb(17,17,17)",
              "width": 0.5
             },
             "pattern": {
              "fillmode": "overlay",
              "size": 10,
              "solidity": 0.2
             }
            },
            "type": "barpolar"
           }
          ],
          "carpet": [
           {
            "aaxis": {
             "endlinecolor": "#A2B1C6",
             "gridcolor": "#506784",
             "linecolor": "#506784",
             "minorgridcolor": "#506784",
             "startlinecolor": "#A2B1C6"
            },
            "baxis": {
             "endlinecolor": "#A2B1C6",
             "gridcolor": "#506784",
             "linecolor": "#506784",
             "minorgridcolor": "#506784",
             "startlinecolor": "#A2B1C6"
            },
            "type": "carpet"
           }
          ],
          "choropleth": [
           {
            "colorbar": {
             "outlinewidth": 0,
             "ticks": ""
            },
            "type": "choropleth"
           }
          ],
          "contour": [
           {
            "colorbar": {
             "outlinewidth": 0,
             "ticks": ""
            },
            "colorscale": [
             [
              0,
              "#0d0887"
             ],
             [
              0.1111111111111111,
              "#46039f"
             ],
             [
              0.2222222222222222,
              "#7201a8"
             ],
             [
              0.3333333333333333,
              "#9c179e"
             ],
             [
              0.4444444444444444,
              "#bd3786"
             ],
             [
              0.5555555555555556,
              "#d8576b"
             ],
             [
              0.6666666666666666,
              "#ed7953"
             ],
             [
              0.7777777777777778,
              "#fb9f3a"
             ],
             [
              0.8888888888888888,
              "#fdca26"
             ],
             [
              1,
              "#f0f921"
             ]
            ],
            "type": "contour"
           }
          ],
          "contourcarpet": [
           {
            "colorbar": {
             "outlinewidth": 0,
             "ticks": ""
            },
            "type": "contourcarpet"
           }
          ],
          "heatmap": [
           {
            "colorbar": {
             "outlinewidth": 0,
             "ticks": ""
            },
            "colorscale": [
             [
              0,
              "#0d0887"
             ],
             [
              0.1111111111111111,
              "#46039f"
             ],
             [
              0.2222222222222222,
              "#7201a8"
             ],
             [
              0.3333333333333333,
              "#9c179e"
             ],
             [
              0.4444444444444444,
              "#bd3786"
             ],
             [
              0.5555555555555556,
              "#d8576b"
             ],
             [
              0.6666666666666666,
              "#ed7953"
             ],
             [
              0.7777777777777778,
              "#fb9f3a"
             ],
             [
              0.8888888888888888,
              "#fdca26"
             ],
             [
              1,
              "#f0f921"
             ]
            ],
            "type": "heatmap"
           }
          ],
          "heatmapgl": [
           {
            "colorbar": {
             "outlinewidth": 0,
             "ticks": ""
            },
            "colorscale": [
             [
              0,
              "#0d0887"
             ],
             [
              0.1111111111111111,
              "#46039f"
             ],
             [
              0.2222222222222222,
              "#7201a8"
             ],
             [
              0.3333333333333333,
              "#9c179e"
             ],
             [
              0.4444444444444444,
              "#bd3786"
             ],
             [
              0.5555555555555556,
              "#d8576b"
             ],
             [
              0.6666666666666666,
              "#ed7953"
             ],
             [
              0.7777777777777778,
              "#fb9f3a"
             ],
             [
              0.8888888888888888,
              "#fdca26"
             ],
             [
              1,
              "#f0f921"
             ]
            ],
            "type": "heatmapgl"
           }
          ],
          "histogram": [
           {
            "marker": {
             "pattern": {
              "fillmode": "overlay",
              "size": 10,
              "solidity": 0.2
             }
            },
            "type": "histogram"
           }
          ],
          "histogram2d": [
           {
            "colorbar": {
             "outlinewidth": 0,
             "ticks": ""
            },
            "colorscale": [
             [
              0,
              "#0d0887"
             ],
             [
              0.1111111111111111,
              "#46039f"
             ],
             [
              0.2222222222222222,
              "#7201a8"
             ],
             [
              0.3333333333333333,
              "#9c179e"
             ],
             [
              0.4444444444444444,
              "#bd3786"
             ],
             [
              0.5555555555555556,
              "#d8576b"
             ],
             [
              0.6666666666666666,
              "#ed7953"
             ],
             [
              0.7777777777777778,
              "#fb9f3a"
             ],
             [
              0.8888888888888888,
              "#fdca26"
             ],
             [
              1,
              "#f0f921"
             ]
            ],
            "type": "histogram2d"
           }
          ],
          "histogram2dcontour": [
           {
            "colorbar": {
             "outlinewidth": 0,
             "ticks": ""
            },
            "colorscale": [
             [
              0,
              "#0d0887"
             ],
             [
              0.1111111111111111,
              "#46039f"
             ],
             [
              0.2222222222222222,
              "#7201a8"
             ],
             [
              0.3333333333333333,
              "#9c179e"
             ],
             [
              0.4444444444444444,
              "#bd3786"
             ],
             [
              0.5555555555555556,
              "#d8576b"
             ],
             [
              0.6666666666666666,
              "#ed7953"
             ],
             [
              0.7777777777777778,
              "#fb9f3a"
             ],
             [
              0.8888888888888888,
              "#fdca26"
             ],
             [
              1,
              "#f0f921"
             ]
            ],
            "type": "histogram2dcontour"
           }
          ],
          "mesh3d": [
           {
            "colorbar": {
             "outlinewidth": 0,
             "ticks": ""
            },
            "type": "mesh3d"
           }
          ],
          "parcoords": [
           {
            "line": {
             "colorbar": {
              "outlinewidth": 0,
              "ticks": ""
             }
            },
            "type": "parcoords"
           }
          ],
          "pie": [
           {
            "automargin": true,
            "type": "pie"
           }
          ],
          "scatter": [
           {
            "marker": {
             "line": {
              "color": "#283442"
             }
            },
            "type": "scatter"
           }
          ],
          "scatter3d": [
           {
            "line": {
             "colorbar": {
              "outlinewidth": 0,
              "ticks": ""
             }
            },
            "marker": {
             "colorbar": {
              "outlinewidth": 0,
              "ticks": ""
             }
            },
            "type": "scatter3d"
           }
          ],
          "scattercarpet": [
           {
            "marker": {
             "colorbar": {
              "outlinewidth": 0,
              "ticks": ""
             }
            },
            "type": "scattercarpet"
           }
          ],
          "scattergeo": [
           {
            "marker": {
             "colorbar": {
              "outlinewidth": 0,
              "ticks": ""
             }
            },
            "type": "scattergeo"
           }
          ],
          "scattergl": [
           {
            "marker": {
             "line": {
              "color": "#283442"
             }
            },
            "type": "scattergl"
           }
          ],
          "scattermapbox": [
           {
            "marker": {
             "colorbar": {
              "outlinewidth": 0,
              "ticks": ""
             }
            },
            "type": "scattermapbox"
           }
          ],
          "scatterpolar": [
           {
            "marker": {
             "colorbar": {
              "outlinewidth": 0,
              "ticks": ""
             }
            },
            "type": "scatterpolar"
           }
          ],
          "scatterpolargl": [
           {
            "marker": {
             "colorbar": {
              "outlinewidth": 0,
              "ticks": ""
             }
            },
            "type": "scatterpolargl"
           }
          ],
          "scatterternary": [
           {
            "marker": {
             "colorbar": {
              "outlinewidth": 0,
              "ticks": ""
             }
            },
            "type": "scatterternary"
           }
          ],
          "surface": [
           {
            "colorbar": {
             "outlinewidth": 0,
             "ticks": ""
            },
            "colorscale": [
             [
              0,
              "#0d0887"
             ],
             [
              0.1111111111111111,
              "#46039f"
             ],
             [
              0.2222222222222222,
              "#7201a8"
             ],
             [
              0.3333333333333333,
              "#9c179e"
             ],
             [
              0.4444444444444444,
              "#bd3786"
             ],
             [
              0.5555555555555556,
              "#d8576b"
             ],
             [
              0.6666666666666666,
              "#ed7953"
             ],
             [
              0.7777777777777778,
              "#fb9f3a"
             ],
             [
              0.8888888888888888,
              "#fdca26"
             ],
             [
              1,
              "#f0f921"
             ]
            ],
            "type": "surface"
           }
          ],
          "table": [
           {
            "cells": {
             "fill": {
              "color": "#506784"
             },
             "line": {
              "color": "rgb(17,17,17)"
             }
            },
            "header": {
             "fill": {
              "color": "#2a3f5f"
             },
             "line": {
              "color": "rgb(17,17,17)"
             }
            },
            "type": "table"
           }
          ]
         },
         "layout": {
          "annotationdefaults": {
           "arrowcolor": "#f2f5fa",
           "arrowhead": 0,
           "arrowwidth": 1
          },
          "autotypenumbers": "strict",
          "coloraxis": {
           "colorbar": {
            "outlinewidth": 0,
            "ticks": ""
           }
          },
          "colorscale": {
           "diverging": [
            [
             0,
             "#8e0152"
            ],
            [
             0.1,
             "#c51b7d"
            ],
            [
             0.2,
             "#de77ae"
            ],
            [
             0.3,
             "#f1b6da"
            ],
            [
             0.4,
             "#fde0ef"
            ],
            [
             0.5,
             "#f7f7f7"
            ],
            [
             0.6,
             "#e6f5d0"
            ],
            [
             0.7,
             "#b8e186"
            ],
            [
             0.8,
             "#7fbc41"
            ],
            [
             0.9,
             "#4d9221"
            ],
            [
             1,
             "#276419"
            ]
           ],
           "sequential": [
            [
             0,
             "#0d0887"
            ],
            [
             0.1111111111111111,
             "#46039f"
            ],
            [
             0.2222222222222222,
             "#7201a8"
            ],
            [
             0.3333333333333333,
             "#9c179e"
            ],
            [
             0.4444444444444444,
             "#bd3786"
            ],
            [
             0.5555555555555556,
             "#d8576b"
            ],
            [
             0.6666666666666666,
             "#ed7953"
            ],
            [
             0.7777777777777778,
             "#fb9f3a"
            ],
            [
             0.8888888888888888,
             "#fdca26"
            ],
            [
             1,
             "#f0f921"
            ]
           ],
           "sequentialminus": [
            [
             0,
             "#0d0887"
            ],
            [
             0.1111111111111111,
             "#46039f"
            ],
            [
             0.2222222222222222,
             "#7201a8"
            ],
            [
             0.3333333333333333,
             "#9c179e"
            ],
            [
             0.4444444444444444,
             "#bd3786"
            ],
            [
             0.5555555555555556,
             "#d8576b"
            ],
            [
             0.6666666666666666,
             "#ed7953"
            ],
            [
             0.7777777777777778,
             "#fb9f3a"
            ],
            [
             0.8888888888888888,
             "#fdca26"
            ],
            [
             1,
             "#f0f921"
            ]
           ]
          },
          "colorway": [
           "#636efa",
           "#EF553B",
           "#00cc96",
           "#ab63fa",
           "#FFA15A",
           "#19d3f3",
           "#FF6692",
           "#B6E880",
           "#FF97FF",
           "#FECB52"
          ],
          "font": {
           "color": "#f2f5fa"
          },
          "geo": {
           "bgcolor": "rgb(17,17,17)",
           "lakecolor": "rgb(17,17,17)",
           "landcolor": "rgb(17,17,17)",
           "showlakes": true,
           "showland": true,
           "subunitcolor": "#506784"
          },
          "hoverlabel": {
           "align": "left"
          },
          "hovermode": "closest",
          "mapbox": {
           "style": "dark"
          },
          "paper_bgcolor": "rgb(17,17,17)",
          "plot_bgcolor": "rgb(17,17,17)",
          "polar": {
           "angularaxis": {
            "gridcolor": "#506784",
            "linecolor": "#506784",
            "ticks": ""
           },
           "bgcolor": "rgb(17,17,17)",
           "radialaxis": {
            "gridcolor": "#506784",
            "linecolor": "#506784",
            "ticks": ""
           }
          },
          "scene": {
           "xaxis": {
            "backgroundcolor": "rgb(17,17,17)",
            "gridcolor": "#506784",
            "gridwidth": 2,
            "linecolor": "#506784",
            "showbackground": true,
            "ticks": "",
            "zerolinecolor": "#C8D4E3"
           },
           "yaxis": {
            "backgroundcolor": "rgb(17,17,17)",
            "gridcolor": "#506784",
            "gridwidth": 2,
            "linecolor": "#506784",
            "showbackground": true,
            "ticks": "",
            "zerolinecolor": "#C8D4E3"
           },
           "zaxis": {
            "backgroundcolor": "rgb(17,17,17)",
            "gridcolor": "#506784",
            "gridwidth": 2,
            "linecolor": "#506784",
            "showbackground": true,
            "ticks": "",
            "zerolinecolor": "#C8D4E3"
           }
          },
          "shapedefaults": {
           "line": {
            "color": "#f2f5fa"
           }
          },
          "sliderdefaults": {
           "bgcolor": "#C8D4E3",
           "bordercolor": "rgb(17,17,17)",
           "borderwidth": 1,
           "tickwidth": 0
          },
          "ternary": {
           "aaxis": {
            "gridcolor": "#506784",
            "linecolor": "#506784",
            "ticks": ""
           },
           "baxis": {
            "gridcolor": "#506784",
            "linecolor": "#506784",
            "ticks": ""
           },
           "bgcolor": "rgb(17,17,17)",
           "caxis": {
            "gridcolor": "#506784",
            "linecolor": "#506784",
            "ticks": ""
           }
          },
          "title": {
           "x": 0.05
          },
          "updatemenudefaults": {
           "bgcolor": "#506784",
           "borderwidth": 0
          },
          "xaxis": {
           "automargin": true,
           "gridcolor": "#283442",
           "linecolor": "#506784",
           "ticks": "",
           "title": {
            "standoff": 15
           },
           "zerolinecolor": "#283442",
           "zerolinewidth": 2
          },
          "yaxis": {
           "automargin": true,
           "gridcolor": "#283442",
           "linecolor": "#506784",
           "ticks": "",
           "title": {
            "standoff": 15
           },
           "zerolinecolor": "#283442",
           "zerolinewidth": 2
          }
         }
        },
        "xaxis": {
         "anchor": "y",
         "domain": [
          0,
          1
         ],
         "tickangle": 45,
         "title": {
          "text": "Industries"
         }
        },
        "xaxis2": {
         "anchor": "y2",
         "domain": [
          0,
          1
         ],
         "tickangle": 45,
         "title": {
          "text": "Industries"
         }
        },
        "xaxis3": {
         "anchor": "y3",
         "domain": [
          0,
          1
         ],
         "tickangle": 45,
         "title": {
          "text": "Industries"
         }
        },
        "yaxis": {
         "anchor": "x",
         "domain": [
          0.7777777777777778,
          1
         ]
        },
        "yaxis2": {
         "anchor": "x2",
         "domain": [
          0.3888888888888889,
          0.6111111111111112
         ]
        },
        "yaxis3": {
         "anchor": "x3",
         "domain": [
          0,
          0.22222222222222224
         ]
        }
       }
      },
      "text/html": [
       "<div>                            <div id=\"a985ee0b-d1dd-48ed-a1ad-6f61e1895129\" class=\"plotly-graph-div\" style=\"height:525px; width:100%;\"></div>            <script type=\"text/javascript\">                require([\"plotly\"], function(Plotly) {                    window.PLOTLYENV=window.PLOTLYENV || {};                                    if (document.getElementById(\"a985ee0b-d1dd-48ed-a1ad-6f61e1895129\")) {                    Plotly.newPlot(                        \"a985ee0b-d1dd-48ed-a1ad-6f61e1895129\",                        [{\"name\":\"Total\",\"x\":[\"Automotive\",\"Autonomous Vehicles\",\"Robotics\",\"Transportation\",\"Computer\",\"Customer Service\",\"SaaS\",\"Analytics\",\"Business Information Systems\",\"Enterprise Software\",\"Productivity Tools\",\"Electric Vehicle\",\"Information Technology\",\"Internet\",\"Consumer Electronics\",\"Biotechnology\",\"Pharmaceutical\",\"Biopharma\",\"Medical Device\",\"Cyber Security\",\"Developer APIs\",\"Computer Vision\",\"Health Care\",\"Call Center\",\"Natural Language Processing\",\"Speech Recognition\",\"Digital Marketing\",\"Lead Management\",\"Augmented Reality\",\"Human Computer Interaction\",\"Hardware\",\"Construction\",\"Data Visualization\",\"Health Diagnostics\",\"Developer Tools\",\"Software Engineering\",\"Legal Tech\",\"Fashion\",\"Image Recognition\",\"FinTech\",\"Fraud Detection\",\"Big Data\",\"Broadcasting\",\"Content\",\"Digital Media\",\"Sports\",\"Video\",\"Cloud Computing\",\"Marketing\",\"Human Resources\",\"Recruiting\",\"Retail Technology\",\"Finance\",\"Financial Services\",\"Agriculture\",\"AgTech\",\"Animal Feed\",\"Intelligent Systems\",\"Cloud Data Services\",\"CRM\",\"Procurement\",\"E-Learning\",\"Training\",\"Genetics\",\"mHealth\",\"Wellness\",\"Cloud Security\",\"Network Security\",\"Virtual Reality\",\"Embedded Systems\",\"E-Commerce\",\"Supply Chain Management\",\"Business Intelligence\",\"Predictive Analytics\",\"Shopping\",\"Aerospace\",\"Air Transportation\",\"Data Center\",\"Semiconductor\",\"Translation Service\",\"Sensor\",\"Employee Benefits\",\"Health Insurance\",\"Email\",\"Security\",\"B2C\",\"Virtual Assistant\",\"Hospital\",\"Crowdsourcing\",\"Data Mining\",\"Generation Z\",\"Photography\",\"Sharing Economy\",\"Life Science\",\"Apps\",\"Drone Management\",\"Drones\",\"Internet of Things\",\"Intrusion Detection\",\"Energy\",\"Geospatial\",\"GPS\",\"Oil and Gas\",\"Real Time\",\"Semantic Search\",\"Advanced Materials\",\"B2B\",\"Employment\",\"Delivery Service\",\"Food Delivery\",\"Compliance\",\"Enterprise\",\"Marketing Automation\",\"Social Media Advertising\",\"EdTech\",\"Education\",\"Medical\",\"Data Center Automation\",\"Legal\",\"Professional Services\",\"Marine Transportation\",\"Shipping\",\"Logistics\",\"Market Research\",\"Consulting\",\"Manufacturing\",\"Brand Marketing\",\"Identity Management\",\"Mobile\",\"InsurTech\",\"Industrial Manufacturing\",\"Personal Health\",\"3D Technology\",\"Sales Automation\",\"Innovation Management\",\"Real Estate\",\"Farming\",\"Information Services\",\"Telecommunications\",\"Facial Recognition\",\"Media and Entertainment\",\"Privacy\",\"Messaging\",\"Search Engine\",\"Delivery\",\"Insurance\",\"Industrial\",\"Renewable Energy\",\"News\",\"Social Entrepreneurship\",\"3D Printing\",\"Mapping Services\",\"Dental\",\"Neuroscience\",\"Management Information Systems\",\"Skill Assessment\",\"Career Planning\",\"Higher Education\",\"Marketplace\",\"Commercial Insurance\",\"Risk Management\",\"Marine Technology\",\"Corporate Training\",\"Audio\",\"TV Production\",\"PaaS\",\"Life Insurance\",\"Sales\",\"Fleet Management\",\"Accounting\",\"Document Management\",\"Document Preparation\",\"Data Integration\",\"Fast-Moving Consumer Goods\",\"Food and Beverage\",\"Hospitality\",\"Restaurants\",\"Retail\",\"Cloud Management\",\"IT Management\",\"Biofuel\",\"Video Editing\",\"Therapeutics\",\"Machinery Manufacturing\",\"Biometrics\",\"Outsourcing\",\"Information and Communications Technology (ICT)\",\"Industrial Automation\",\"Task Management\",\"E-Commerce Platforms\",\"Operating Systems\",\"Cloud Infrastructure\",\"Test and Measurement\",\"Gaming\",\"Printing\",\"Infrastructure\",\"Consumer Goods\",\"Navigation\",\"Building Material\",\"Online Portals\",\"Rental Property\",\"Payments\",\"CleanTech\",\"GreenTech\",\"Communication Hardware\",\"Social Media\",\"Collaboration\",\"Photo Editing\",\"Fitness\",\"Electronic Health Record (EHR)\",\"Building Maintenance\",\"Property Management\",\"IT Infrastructure\",\"Psychology\",\"Social CRM\",\"Social Media Management\",\"Mobile Apps\",\"Motion Capture\",\"Video Games\",\"Optical Communication\",\"Text Analytics\",\"Auto Insurance\",\"Commercial\",\"Contact Management\",\"Developer Platform\",\"Energy Efficiency\",\"Energy Management\",\"Power Grid\",\"Environmental Engineering\",\"Public Relations\",\"Business Development\",\"Electronics\",\"Banking\",\"Cryptocurrency\",\"Affiliate Marketing\",\"Personalization\",\"Knowledge Management\",\"Assistive Technology\",\"Baseball\",\"Web Apps\",\"UX Design\",\"Web Design\",\"Bioinformatics\",\"Content Marketing\",\"Communities\",\"Lifestyle\",\"Professional Networking\",\"Parking\",\"Embedded Software\",\"Project Management\",\"Email Marketing\",\"Enterprise Applications\",\"Enterprise Resource Planning (ERP)\",\"Impact Investing\",\"Database\",\"EBooks\",\"Publishing\",\"Price Comparison\",\"Industrial Engineering\",\"iOS\",\"Local\",\"Virtual Workforce\",\"Language Learning\",\"Horticulture\",\"Cloud Storage\",\"Jewelry\",\"Satellite Communication\",\"Advertising\",\"Lead Generation\",\"Swimming\",\"Leisure\",\"Tourism\",\"Travel\",\"Music\",\"Podcast\",\"Video Streaming\",\"Wearables\",\"Loyalty Programs\",\"Blockchain\",\"Wireless\",\"Sustainability\",\"Home Health Care\",\"Serious Games\",\"Leasing\",\"Warehousing\"],\"y\":[2419442061.0,2300989157.0,1758926502.0,1619613094.6,1489789800.59,1444000000.0,1269640804.2900002,1059187212.0,678927545.0,660844862.6,659616600.0,654900000.0,577374532.0,570909681.5,560354952.0,550075011.1,541904668.0,482202020.9,473068801.1,455761857.0,398353297.1,365452244.1,363187849.0,328157107.0,327303091.0,284700995.0,250250000.0,230186566.0,225000000.0,217277451.0,216180500.0,212375000.0,208399237.0,207378870.0,204219292.0,201627011.1,201341960.0,191560000.0,190840000.0,190575000.0,190042498.0,185100000.0,182596100.0,177500000.0,176534000.0,174714143.0,171643500.0,165187911.5,164894999.0,162850326.0,162705998.0,160066997.0,151090000.0,150264668.0,150000000.0,149459610.0,148000000.0,147685000.0,144896100.0,144717104.0,139037011.1,138305000.0,137842729.0,134380840.0,127700000.0,126884968.0,126696100.0,121000000.0,120569610.0,118442000.0,117022000.0,115254365.0,114500000.0,114362668.0,113464610.0,110331100.0,109610000.0,109089237.0,109085000.0,108650000.0,107104037.0,106300000.0,105000000.0,102946500.0,100000000.0,97945000.0,95737849.0,95668840.0,95037011.1,91707910.0,90840000.0,90144000.0,86855265.0,85723968.0,83100000.0,83014484.0,80000000.0,80000000.0,79380000.0,76251376.4,75000000.0,73825000.0,73000000.0,72569380.0,70725000.0,70000000.0,66000000.0,62779997.0,61150000.0,57180000.0,56000000.0,56000000.0,55643610.0,55625000.0,55000000.0,54040851.0,53500000.0,52532030.0,51800000.0,51781497.0,51481497.0,50000000.0,50000000.0,50000000.0,49880000.0,48681480.0,47200000.0,46876989.0,44000000.0,43605265.0,43420000.0,43200000.0,42847103.0,42240000.0,42000000.0,40900000.0,40821500.0,40239000.0,40000000.0,39500000.0,38881150.09,38500000.0,37411200.0,37360000.0,35452000.0,35396100.0,34960000.0,34000000.0,34000000.0,32664199.999999996,32600000.0,32500000.0,32405000.0,31000000.0,29750326.0,27660851.0,27585000.0,27387376.4,27000000.0,25885000.0,25500000.0,25200000.0,25000000.0,25000000.0,24000000.0,24000000.0,24000000.0,23687104.0,23000000.0,22230000.0,22000000.0,22000000.0,21850000.0,21600000.0,21600000.0,21100000.0,20840000.0,20824668.0,20680000.0,20160000.0,20035000.0,20000000.0,20000000.0,20000000.0,19059373.4,18000000.0,18000000.0,17000000.0,16390000.0,16000000.0,16000000.0,15760000.0,15600000.0,15394000.0,14400000.0,14400000.0,12500000.0,12380000.0,11960000.0,11790000.0,11700000.0,11500000.0,11150000.0,10700000.0,10480000.0,10480000.0,9994995.0,9990000.0,9720000.0,9600000.0,8992000.0,7000000.0,6630000.0,6620000.0,6500000.0,6500000.0,6000000.0,6000000.0,6000000.0,6000000.0,6000000.0,6000000.0,6000000.0,5835998.0,5250000.0,5000000.0,5000000.0,5000000.0,4800000.0,4670000.0,4670000.0,4589376.4,4300000.0,4000000.0,4000000.0,4000000.0,3930000.0,3930000.0,3780000.0000000005,3750000.0,3500000.0,3500000.0,3120000.0,3000000.0,3000000.0,3000000.0,3000000.0,3000000.0,3000000.0,2700000.0,2700000.0,2700000.0,2620000.0,2500000.0,2500000.0,2000000.0,2000000.0,2000000.0,1781497.0,1693138.0,1693138.0,1693138.0,1580000.0,1500000.0,1500000.0,1378000.0,1353577.0,1350000.0,1250000.0,1200000.0,1100000.0,1080000.0,1080000.0,1080000.0,1080000.0,1000000.0,1000000.0,1000000.0,1000000.0,885000.0,270000.0,250000.0,200000.0,196500.0,100000.0],\"type\":\"bar\",\"xaxis\":\"x\",\"yaxis\":\"y\"},{\"name\":\"Total in US\",\"x\":[\"Automotive\",\"Autonomous Vehicles\",\"Robotics\",\"Transportation\",\"Customer Service\",\"SaaS\",\"Analytics\",\"Business Information Systems\",\"Enterprise Software\",\"Productivity Tools\",\"Biotechnology\",\"Pharmaceutical\",\"Cyber Security\",\"Developer APIs\",\"Call Center\",\"Natural Language Processing\",\"Speech Recognition\",\"Augmented Reality\",\"Consumer Electronics\",\"Human Computer Interaction\",\"Computer\",\"Hardware\",\"Construction\",\"Data Visualization\",\"Information Technology\",\"Health Care\",\"Health Diagnostics\",\"Medical Device\",\"Legal Tech\",\"FinTech\",\"Fraud Detection\",\"Cloud Computing\",\"Marketing\",\"Retail Technology\",\"Intelligent Systems\",\"Cloud Data Services\",\"CRM\",\"Procurement\",\"Genetics\",\"mHealth\",\"Wellness\",\"Cloud Security\",\"Network Security\",\"Embedded Systems\",\"E-Commerce\",\"Supply Chain Management\",\"Computer Vision\",\"Shopping\",\"Human Resources\",\"Data Center\",\"Semiconductor\",\"Translation Service\",\"Sensor\",\"Employee Benefits\",\"Finance\",\"Health Insurance\",\"Security\",\"Hospital\",\"Content\",\"Crowdsourcing\",\"Data Mining\",\"Generation Z\",\"Photography\",\"Sharing Economy\",\"Big Data\",\"Intrusion Detection\",\"B2B\",\"Employment\",\"Delivery Service\",\"Food Delivery\",\"Enterprise\",\"Marketing Automation\",\"Social Media Advertising\",\"Life Science\",\"Medical\",\"Education\",\"Data Center Automation\",\"Legal\",\"Professional Services\",\"Marine Transportation\",\"Shipping\",\"Logistics\",\"Apps\",\"Brand Marketing\",\"InsurTech\",\"Predictive Analytics\",\"Sales Automation\",\"Internet\",\"Innovation Management\",\"Real Estate\",\"Information Services\",\"Recruiting\",\"Messaging\",\"Aerospace\",\"Geospatial\",\"Virtual Assistant\",\"Search Engine\",\"Delivery\",\"Real Time\",\"Insurance\",\"Agriculture\",\"Industrial\",\"Renewable Energy\",\"3D Printing\",\"3D Technology\",\"Manufacturing\",\"Neuroscience\",\"Commercial Insurance\",\"Risk Management\",\"Internet of Things\",\"Marine Technology\",\"Corporate Training\",\"Virtual Reality\",\"Business Intelligence\",\"PaaS\",\"Life Insurance\",\"Sales\",\"Accounting\",\"Document Management\",\"Document Preparation\",\"Cloud Management\",\"IT Management\",\"Video\",\"Video Editing\",\"Industrial Automation\",\"E-Commerce Platforms\",\"Operating Systems\",\"Software Engineering\",\"Test and Measurement\",\"Gaming\",\"Data Integration\",\"Infrastructure\",\"Email\",\"Digital Marketing\",\"Restaurants\",\"Mobile\",\"Consumer Goods\",\"Therapeutics\",\"Drones\",\"Navigation\",\"Payments\",\"Financial Services\",\"Communication Hardware\",\"Collaboration\",\"Biometrics\",\"Identity Management\",\"Retail\",\"Image Recognition\",\"Cloud Infrastructure\",\"Energy\",\"Fitness\",\"Electronic Health Record (EHR)\",\"Psychology\",\"Auto Insurance\",\"B2C\",\"Commercial\",\"Contact Management\",\"Developer Platform\",\"Environmental Engineering\",\"Developer Tools\",\"Sports\",\"Business Development\",\"Banking\",\"Cryptocurrency\",\"Semantic Search\",\"Personal Health\",\"Baseball\",\"UX Design\",\"Web Design\",\"Content Marketing\",\"Communities\",\"Fashion\",\"Lifestyle\",\"Professional Networking\",\"Fleet Management\",\"Parking\",\"Impact Investing\",\"Industrial Manufacturing\",\"Digital Media\",\"EBooks\",\"Publishing\",\"Online Portals\",\"Market Research\",\"Price Comparison\",\"Social Media\",\"Industrial Engineering\",\"iOS\",\"Local\",\"Virtual Workforce\",\"Cloud Storage\",\"Swimming\",\"Wearables\",\"Language Learning\",\"Text Analytics\",\"Power Grid\",\"Blockchain\",\"Telecommunications\",\"Wireless\",\"Enterprise Applications\",\"Lead Generation\",\"Home Health Care\",\"Consulting\",\"Marketplace\",\"Leasing\",\"EdTech\"],\"y\":[1836460676.0,1541000000.0,1483000000.0,1427000000.0,1123355674.0,882433354.0,675983902.0,635683202.0,539900000.0,535403545.0,465561003.0,435200000.0,422761857.0,357974668.0,260410000.0,225000000.0,207680851.0,196653826.0,188444532.0,188262000.0,185100000.0,164602030.0,163694995.0,163500000.0,163240000.0,162653826.0,159600000.0,157300000.0,157250000.0,154455000.0,149400000.0,146035000.0,145000000.0,140575000.0,139300000.0,134995706.0,133600000.0,133399237.0,132699968.0,125000000.0,125000000.0,124157107.0,119000000.0,118500000.0,113224668.0,112884968.0,111000000.0,110194030.0,107100000.0,97699237.0,93800000.0,89200000.0,87800000.0,84150000.0,79999968.0,75000000.0,73000000.0,70725000.0,70570000.0,70000000.0,67525000.0,65000000.0,62035000.0,61150000.0,58449997.0,56210000.0,56000000.0,55000000.0,55000000.0,55000000.0,53500000.0,53500000.0,52532030.0,51781497.0,50000000.0,50000000.0,50000000.0,50000000.0,50000000.0,50000000.0,48350000.0,46175000.0,46000000.0,45000000.0,44000000.0,43240000.0,42000000.0,40200000.0,40000000.0,39812000.0,39500000.0,38500000.0,37360000.0,37060851.0,36150000.0,36000000.0,34904037.0,34000000.0,33814999.0,33637127.0,33068989.0,32650000.0,32398488.0,31000000.0,29500000.0,29450000.0,28753826.0,27660851.0,27000000.0,25500000.0,25200000.0,25000000.0,25000000.0,24000000.0,24000000.0,24000000.0,23000000.0,23000000.0,20824668.0,20821003.0,20749997.0,20140000.0,20035000.0,20000000.0,20000000.0,19000000.0,18200000.0,18000000.0,17825000.0,17000000.0,17000000.0,16000000.0,16000000.0,14400000.0,14400000.0,14362668.0,13450000.0,12500000.0,12000000.0,11500000.0,11500000.0,11150000.0,11150000.0,11150000.0,10900000.0,10700000.0,9994995.0,9800000.0,9600000.0,9200000.0,7532030.0,7100000.0,7035000.0,6000000.0,5250000.0,5000000.0,5000000.0,5000000.0,5000000.0,4800000.0,4600000.0,4300000.0,4200000.0,4000000.0,4000000.0,3800000.0,3750000.0,3500000.0,3500000.0,3000000.0,3000000.0,3000000.0,3000000.0,3000000.0,3000000.0,3000000.0,2500000.0,2405000.0,2000000.0,2000000.0,2000000.0,1950000.0,1900000.0,1781497.0,1781497.0,1749997.0,1693138.0,1693138.0,1693138.0,1500000.0,1353577.0,1250000.0,1100000.0,1000000.0,1000000.0,1000000.0,885000.0,885000.0,500000.0,500000.0,250000.0,225000.0,200000.0,150000.0,100000.0],\"type\":\"bar\",\"xaxis\":\"x2\",\"yaxis\":\"y2\"},{\"name\":\"Total in China\",\"x\":[\"Autonomous Vehicles\",\"Computer\",\"Automotive\",\"Biopharma\",\"Medical Device\",\"Pharmaceutical\",\"Computer Vision\",\"Health Care\",\"Robotics\",\"Fashion\",\"Image Recognition\",\"Big Data\",\"Natural Language Processing\",\"Speech Recognition\",\"Customer Service\",\"Information Technology\",\"Predictive Analytics\",\"Analytics\",\"Consulting\",\"Manufacturing\",\"Energy\",\"Internet\",\"Apps\",\"Finance\",\"Video\",\"Biotechnology\",\"Therapeutics\",\"3D Technology\",\"Machinery Manufacturing\",\"Semiconductor\",\"Biometrics\",\"Enterprise\",\"Industrial Automation\",\"Information Services\",\"Internet of Things\",\"Sensor\",\"Industrial\",\"Logistics\"],\"y\":[604049300.0,411619720.0,400000000.0,276000000.0,255568800.0,252707210.0,159645180.0,158961810.0,156505960.0,150000000.0,150000000.0,100000000.0,100000000.0,100000000.0,100000000.0,100000000.0,48657909.99999999,47088300.0,31392199.999999996,31392199.999999996,31392199.999999996,17265710.0,15696099.999999998,15696099.999999998,15696099.999999998,15696099.999999998,15696099.999999998,15696099.999999998,15696099.999999998,15696099.999999998,15696099.999999998,15696099.999999998,10000000.0,10000000.0,1569610.0,1569610.0,1569610.0,1569610.0],\"type\":\"bar\",\"xaxis\":\"x3\",\"yaxis\":\"y3\"}],                        {\"template\":{\"data\":{\"barpolar\":[{\"marker\":{\"line\":{\"color\":\"rgb(17,17,17)\",\"width\":0.5},\"pattern\":{\"fillmode\":\"overlay\",\"size\":10,\"solidity\":0.2}},\"type\":\"barpolar\"}],\"bar\":[{\"error_x\":{\"color\":\"#f2f5fa\"},\"error_y\":{\"color\":\"#f2f5fa\"},\"marker\":{\"line\":{\"color\":\"rgb(17,17,17)\",\"width\":0.5},\"pattern\":{\"fillmode\":\"overlay\",\"size\":10,\"solidity\":0.2}},\"type\":\"bar\"}],\"carpet\":[{\"aaxis\":{\"endlinecolor\":\"#A2B1C6\",\"gridcolor\":\"#506784\",\"linecolor\":\"#506784\",\"minorgridcolor\":\"#506784\",\"startlinecolor\":\"#A2B1C6\"},\"baxis\":{\"endlinecolor\":\"#A2B1C6\",\"gridcolor\":\"#506784\",\"linecolor\":\"#506784\",\"minorgridcolor\":\"#506784\",\"startlinecolor\":\"#A2B1C6\"},\"type\":\"carpet\"}],\"choropleth\":[{\"colorbar\":{\"outlinewidth\":0,\"ticks\":\"\"},\"type\":\"choropleth\"}],\"contourcarpet\":[{\"colorbar\":{\"outlinewidth\":0,\"ticks\":\"\"},\"type\":\"contourcarpet\"}],\"contour\":[{\"colorbar\":{\"outlinewidth\":0,\"ticks\":\"\"},\"colorscale\":[[0.0,\"#0d0887\"],[0.1111111111111111,\"#46039f\"],[0.2222222222222222,\"#7201a8\"],[0.3333333333333333,\"#9c179e\"],[0.4444444444444444,\"#bd3786\"],[0.5555555555555556,\"#d8576b\"],[0.6666666666666666,\"#ed7953\"],[0.7777777777777778,\"#fb9f3a\"],[0.8888888888888888,\"#fdca26\"],[1.0,\"#f0f921\"]],\"type\":\"contour\"}],\"heatmapgl\":[{\"colorbar\":{\"outlinewidth\":0,\"ticks\":\"\"},\"colorscale\":[[0.0,\"#0d0887\"],[0.1111111111111111,\"#46039f\"],[0.2222222222222222,\"#7201a8\"],[0.3333333333333333,\"#9c179e\"],[0.4444444444444444,\"#bd3786\"],[0.5555555555555556,\"#d8576b\"],[0.6666666666666666,\"#ed7953\"],[0.7777777777777778,\"#fb9f3a\"],[0.8888888888888888,\"#fdca26\"],[1.0,\"#f0f921\"]],\"type\":\"heatmapgl\"}],\"heatmap\":[{\"colorbar\":{\"outlinewidth\":0,\"ticks\":\"\"},\"colorscale\":[[0.0,\"#0d0887\"],[0.1111111111111111,\"#46039f\"],[0.2222222222222222,\"#7201a8\"],[0.3333333333333333,\"#9c179e\"],[0.4444444444444444,\"#bd3786\"],[0.5555555555555556,\"#d8576b\"],[0.6666666666666666,\"#ed7953\"],[0.7777777777777778,\"#fb9f3a\"],[0.8888888888888888,\"#fdca26\"],[1.0,\"#f0f921\"]],\"type\":\"heatmap\"}],\"histogram2dcontour\":[{\"colorbar\":{\"outlinewidth\":0,\"ticks\":\"\"},\"colorscale\":[[0.0,\"#0d0887\"],[0.1111111111111111,\"#46039f\"],[0.2222222222222222,\"#7201a8\"],[0.3333333333333333,\"#9c179e\"],[0.4444444444444444,\"#bd3786\"],[0.5555555555555556,\"#d8576b\"],[0.6666666666666666,\"#ed7953\"],[0.7777777777777778,\"#fb9f3a\"],[0.8888888888888888,\"#fdca26\"],[1.0,\"#f0f921\"]],\"type\":\"histogram2dcontour\"}],\"histogram2d\":[{\"colorbar\":{\"outlinewidth\":0,\"ticks\":\"\"},\"colorscale\":[[0.0,\"#0d0887\"],[0.1111111111111111,\"#46039f\"],[0.2222222222222222,\"#7201a8\"],[0.3333333333333333,\"#9c179e\"],[0.4444444444444444,\"#bd3786\"],[0.5555555555555556,\"#d8576b\"],[0.6666666666666666,\"#ed7953\"],[0.7777777777777778,\"#fb9f3a\"],[0.8888888888888888,\"#fdca26\"],[1.0,\"#f0f921\"]],\"type\":\"histogram2d\"}],\"histogram\":[{\"marker\":{\"pattern\":{\"fillmode\":\"overlay\",\"size\":10,\"solidity\":0.2}},\"type\":\"histogram\"}],\"mesh3d\":[{\"colorbar\":{\"outlinewidth\":0,\"ticks\":\"\"},\"type\":\"mesh3d\"}],\"parcoords\":[{\"line\":{\"colorbar\":{\"outlinewidth\":0,\"ticks\":\"\"}},\"type\":\"parcoords\"}],\"pie\":[{\"automargin\":true,\"type\":\"pie\"}],\"scatter3d\":[{\"line\":{\"colorbar\":{\"outlinewidth\":0,\"ticks\":\"\"}},\"marker\":{\"colorbar\":{\"outlinewidth\":0,\"ticks\":\"\"}},\"type\":\"scatter3d\"}],\"scattercarpet\":[{\"marker\":{\"colorbar\":{\"outlinewidth\":0,\"ticks\":\"\"}},\"type\":\"scattercarpet\"}],\"scattergeo\":[{\"marker\":{\"colorbar\":{\"outlinewidth\":0,\"ticks\":\"\"}},\"type\":\"scattergeo\"}],\"scattergl\":[{\"marker\":{\"line\":{\"color\":\"#283442\"}},\"type\":\"scattergl\"}],\"scattermapbox\":[{\"marker\":{\"colorbar\":{\"outlinewidth\":0,\"ticks\":\"\"}},\"type\":\"scattermapbox\"}],\"scatterpolargl\":[{\"marker\":{\"colorbar\":{\"outlinewidth\":0,\"ticks\":\"\"}},\"type\":\"scatterpolargl\"}],\"scatterpolar\":[{\"marker\":{\"colorbar\":{\"outlinewidth\":0,\"ticks\":\"\"}},\"type\":\"scatterpolar\"}],\"scatter\":[{\"marker\":{\"line\":{\"color\":\"#283442\"}},\"type\":\"scatter\"}],\"scatterternary\":[{\"marker\":{\"colorbar\":{\"outlinewidth\":0,\"ticks\":\"\"}},\"type\":\"scatterternary\"}],\"surface\":[{\"colorbar\":{\"outlinewidth\":0,\"ticks\":\"\"},\"colorscale\":[[0.0,\"#0d0887\"],[0.1111111111111111,\"#46039f\"],[0.2222222222222222,\"#7201a8\"],[0.3333333333333333,\"#9c179e\"],[0.4444444444444444,\"#bd3786\"],[0.5555555555555556,\"#d8576b\"],[0.6666666666666666,\"#ed7953\"],[0.7777777777777778,\"#fb9f3a\"],[0.8888888888888888,\"#fdca26\"],[1.0,\"#f0f921\"]],\"type\":\"surface\"}],\"table\":[{\"cells\":{\"fill\":{\"color\":\"#506784\"},\"line\":{\"color\":\"rgb(17,17,17)\"}},\"header\":{\"fill\":{\"color\":\"#2a3f5f\"},\"line\":{\"color\":\"rgb(17,17,17)\"}},\"type\":\"table\"}]},\"layout\":{\"annotationdefaults\":{\"arrowcolor\":\"#f2f5fa\",\"arrowhead\":0,\"arrowwidth\":1},\"autotypenumbers\":\"strict\",\"coloraxis\":{\"colorbar\":{\"outlinewidth\":0,\"ticks\":\"\"}},\"colorscale\":{\"diverging\":[[0,\"#8e0152\"],[0.1,\"#c51b7d\"],[0.2,\"#de77ae\"],[0.3,\"#f1b6da\"],[0.4,\"#fde0ef\"],[0.5,\"#f7f7f7\"],[0.6,\"#e6f5d0\"],[0.7,\"#b8e186\"],[0.8,\"#7fbc41\"],[0.9,\"#4d9221\"],[1,\"#276419\"]],\"sequential\":[[0.0,\"#0d0887\"],[0.1111111111111111,\"#46039f\"],[0.2222222222222222,\"#7201a8\"],[0.3333333333333333,\"#9c179e\"],[0.4444444444444444,\"#bd3786\"],[0.5555555555555556,\"#d8576b\"],[0.6666666666666666,\"#ed7953\"],[0.7777777777777778,\"#fb9f3a\"],[0.8888888888888888,\"#fdca26\"],[1.0,\"#f0f921\"]],\"sequentialminus\":[[0.0,\"#0d0887\"],[0.1111111111111111,\"#46039f\"],[0.2222222222222222,\"#7201a8\"],[0.3333333333333333,\"#9c179e\"],[0.4444444444444444,\"#bd3786\"],[0.5555555555555556,\"#d8576b\"],[0.6666666666666666,\"#ed7953\"],[0.7777777777777778,\"#fb9f3a\"],[0.8888888888888888,\"#fdca26\"],[1.0,\"#f0f921\"]]},\"colorway\":[\"#636efa\",\"#EF553B\",\"#00cc96\",\"#ab63fa\",\"#FFA15A\",\"#19d3f3\",\"#FF6692\",\"#B6E880\",\"#FF97FF\",\"#FECB52\"],\"font\":{\"color\":\"#f2f5fa\"},\"geo\":{\"bgcolor\":\"rgb(17,17,17)\",\"lakecolor\":\"rgb(17,17,17)\",\"landcolor\":\"rgb(17,17,17)\",\"showlakes\":true,\"showland\":true,\"subunitcolor\":\"#506784\"},\"hoverlabel\":{\"align\":\"left\"},\"hovermode\":\"closest\",\"mapbox\":{\"style\":\"dark\"},\"paper_bgcolor\":\"rgb(17,17,17)\",\"plot_bgcolor\":\"rgb(17,17,17)\",\"polar\":{\"angularaxis\":{\"gridcolor\":\"#506784\",\"linecolor\":\"#506784\",\"ticks\":\"\"},\"bgcolor\":\"rgb(17,17,17)\",\"radialaxis\":{\"gridcolor\":\"#506784\",\"linecolor\":\"#506784\",\"ticks\":\"\"}},\"scene\":{\"xaxis\":{\"backgroundcolor\":\"rgb(17,17,17)\",\"gridcolor\":\"#506784\",\"gridwidth\":2,\"linecolor\":\"#506784\",\"showbackground\":true,\"ticks\":\"\",\"zerolinecolor\":\"#C8D4E3\"},\"yaxis\":{\"backgroundcolor\":\"rgb(17,17,17)\",\"gridcolor\":\"#506784\",\"gridwidth\":2,\"linecolor\":\"#506784\",\"showbackground\":true,\"ticks\":\"\",\"zerolinecolor\":\"#C8D4E3\"},\"zaxis\":{\"backgroundcolor\":\"rgb(17,17,17)\",\"gridcolor\":\"#506784\",\"gridwidth\":2,\"linecolor\":\"#506784\",\"showbackground\":true,\"ticks\":\"\",\"zerolinecolor\":\"#C8D4E3\"}},\"shapedefaults\":{\"line\":{\"color\":\"#f2f5fa\"}},\"sliderdefaults\":{\"bgcolor\":\"#C8D4E3\",\"bordercolor\":\"rgb(17,17,17)\",\"borderwidth\":1,\"tickwidth\":0},\"ternary\":{\"aaxis\":{\"gridcolor\":\"#506784\",\"linecolor\":\"#506784\",\"ticks\":\"\"},\"baxis\":{\"gridcolor\":\"#506784\",\"linecolor\":\"#506784\",\"ticks\":\"\"},\"bgcolor\":\"rgb(17,17,17)\",\"caxis\":{\"gridcolor\":\"#506784\",\"linecolor\":\"#506784\",\"ticks\":\"\"}},\"title\":{\"x\":0.05},\"updatemenudefaults\":{\"bgcolor\":\"#506784\",\"borderwidth\":0},\"xaxis\":{\"automargin\":true,\"gridcolor\":\"#283442\",\"linecolor\":\"#506784\",\"ticks\":\"\",\"title\":{\"standoff\":15},\"zerolinecolor\":\"#283442\",\"zerolinewidth\":2},\"yaxis\":{\"automargin\":true,\"gridcolor\":\"#283442\",\"linecolor\":\"#506784\",\"ticks\":\"\",\"title\":{\"standoff\":15},\"zerolinecolor\":\"#283442\",\"zerolinewidth\":2}}},\"xaxis\":{\"anchor\":\"y\",\"domain\":[0.0,1.0],\"title\":{\"text\":\"Industries\"},\"tickangle\":45},\"yaxis\":{\"anchor\":\"x\",\"domain\":[0.7777777777777778,1.0]},\"xaxis2\":{\"anchor\":\"y2\",\"domain\":[0.0,1.0],\"title\":{\"text\":\"Industries\"},\"tickangle\":45},\"yaxis2\":{\"anchor\":\"x2\",\"domain\":[0.3888888888888889,0.6111111111111112]},\"xaxis3\":{\"anchor\":\"y3\",\"domain\":[0.0,1.0],\"title\":{\"text\":\"Industries\"},\"tickangle\":45},\"yaxis3\":{\"anchor\":\"x3\",\"domain\":[0.0,0.22222222222222224]},\"annotations\":[{\"font\":{\"size\":16},\"showarrow\":false,\"text\":\"Total, Total in US, Total in China\",\"x\":0.5,\"xanchor\":\"center\",\"xref\":\"paper\",\"y\":1.0,\"yanchor\":\"bottom\",\"yref\":\"paper\"}]},                        {\"responsive\": true}                    ).then(function(){\n",
       "                            \n",
       "var gd = document.getElementById('a985ee0b-d1dd-48ed-a1ad-6f61e1895129');\n",
       "var x = new MutationObserver(function (mutations, observer) {{\n",
       "        var display = window.getComputedStyle(gd).display;\n",
       "        if (!display || display === 'none') {{\n",
       "            console.log([gd, 'removed!']);\n",
       "            Plotly.purge(gd);\n",
       "            observer.disconnect();\n",
       "        }}\n",
       "}});\n",
       "\n",
       "// Listen for the removal of the full notebook cells\n",
       "var notebookContainer = gd.closest('#notebook-container');\n",
       "if (notebookContainer) {{\n",
       "    x.observe(notebookContainer, {childList: true});\n",
       "}}\n",
       "\n",
       "// Listen for the clearing of the current output cell\n",
       "var outputEl = gd.closest('.output');\n",
       "if (outputEl) {{\n",
       "    x.observe(outputEl, {childList: true});\n",
       "}}\n",
       "\n",
       "                        })                };                });            </script>        </div>"
      ]
     },
     "metadata": {},
     "output_type": "display_data"
    }
   ],
   "source": [
    "# make the same figure but with the total funds raised\n",
    "fig = make_subplots(rows=3, cols=1, subplot_titles= [\"Total, Total in US, Total in China\"])\n",
    "fig.add_trace(go.Bar(x=list(industry_total.keys()), y=sorted(list(industry_total.values()), reverse=True), name=\"Total\"), row=1, col=1)\n",
    "fig.add_trace(go.Bar(x=list(industry_total_USA.keys()), y=sorted(list(industry_total_USA.values()), reverse=True), name=\"Total in US\"), row=2, col=1)\n",
    "fig.add_trace(go.Bar(x=list(industry_total_China.keys()), y=sorted(list(industry_total_China.values()), reverse=True), name=\"Total in China\"), row=3, col=1)\n",
    "fig.update_layout(template=\"plotly_dark\")\n",
    "fig.update_xaxes(title_text=\"Industries\", tickangle=45)\n",
    "fig.show()\n",
    "\n",
    "# download the html of the plot\n",
    "pio.write_html(fig, file=\"Charts/industry_totals_x3.html\", auto_open=True)"
   ]
  },
  {
   "cell_type": "code",
   "execution_count": 8,
   "metadata": {},
   "outputs": [
    {
     "ename": "NameError",
     "evalue": "name 'px' is not defined",
     "output_type": "error",
     "traceback": [
      "\u001b[0;31m---------------------------------------------------------------------------\u001b[0m",
      "\u001b[0;31mNameError\u001b[0m                                 Traceback (most recent call last)",
      "Input \u001b[0;32mIn [8]\u001b[0m, in \u001b[0;36m<cell line: 2>\u001b[0;34m()\u001b[0m\n\u001b[1;32m      1\u001b[0m \u001b[38;5;66;03m# use plotly to create a bar chart of the industry totals sorted by total in darkmode\u001b[39;00m\n\u001b[0;32m----> 2\u001b[0m fig \u001b[38;5;241m=\u001b[39m \u001b[43mpx\u001b[49m\u001b[38;5;241m.\u001b[39mbar(x\u001b[38;5;241m=\u001b[39m\u001b[38;5;28mlist\u001b[39m(industry_total\u001b[38;5;241m.\u001b[39mkeys()), y\u001b[38;5;241m=\u001b[39m\u001b[38;5;28msorted\u001b[39m(\u001b[38;5;28mlist\u001b[39m(industry_total\u001b[38;5;241m.\u001b[39mvalues()), reverse\u001b[38;5;241m=\u001b[39m\u001b[38;5;28;01mTrue\u001b[39;00m), template\u001b[38;5;241m=\u001b[39m\u001b[38;5;124m\"\u001b[39m\u001b[38;5;124mplotly_dark\u001b[39m\u001b[38;5;124m\"\u001b[39m)\n\u001b[1;32m      3\u001b[0m fig\u001b[38;5;241m.\u001b[39mshow()\n\u001b[1;32m      4\u001b[0m \u001b[38;5;66;03m# download the html of the plot\u001b[39;00m\n",
      "\u001b[0;31mNameError\u001b[0m: name 'px' is not defined"
     ]
    }
   ],
   "source": [
    "# use plotly to create a bar chart of the industry totals sorted by total in darkmode\n",
    "fig = px.bar(x=list(industry_total.keys()), y=sorted(list(industry_total.values()), reverse=True), template=\"plotly_dark\")\n",
    "fig.show()\n",
    "# download the html of the plot\n",
    "pio.write_html(fig, file=\"Charts/industry_totals.html\", auto_open=True)"
   ]
  },
  {
   "cell_type": "code",
   "execution_count": 9,
   "metadata": {},
   "outputs": [
    {
     "ename": "NameError",
     "evalue": "name 'df' is not defined",
     "output_type": "error",
     "traceback": [
      "\u001b[0;31m---------------------------------------------------------------------------\u001b[0m",
      "\u001b[0;31mNameError\u001b[0m                                 Traceback (most recent call last)",
      "Input \u001b[0;32mIn [9]\u001b[0m, in \u001b[0;36m<cell line: 1>\u001b[0;34m()\u001b[0m\n\u001b[0;32m----> 1\u001b[0m df \u001b[38;5;241m=\u001b[39m assign_main_industry(\u001b[43mdf\u001b[49m, industry_total)\n",
      "\u001b[0;31mNameError\u001b[0m: name 'df' is not defined"
     ]
    }
   ],
   "source": [
    "df = assign_main_industry(df, industry_total)"
   ]
  },
  {
   "cell_type": "code",
   "execution_count": 10,
   "metadata": {},
   "outputs": [
    {
     "ename": "NameError",
     "evalue": "name 'px' is not defined",
     "output_type": "error",
     "traceback": [
      "\u001b[0;31m---------------------------------------------------------------------------\u001b[0m",
      "\u001b[0;31mNameError\u001b[0m                                 Traceback (most recent call last)",
      "Input \u001b[0;32mIn [10]\u001b[0m, in \u001b[0;36m<cell line: 3>\u001b[0;34m()\u001b[0m\n\u001b[1;32m      1\u001b[0m \u001b[38;5;66;03m# create a bubble plot with plotly of all Organizations and how much $ they've raised\u001b[39;00m\n\u001b[1;32m      2\u001b[0m \u001b[38;5;66;03m# x = Announced Date, y = Organization Location, size = Money Raised, hovertext = Organization Name\u001b[39;00m\n\u001b[0;32m----> 3\u001b[0m fig \u001b[38;5;241m=\u001b[39m \u001b[43mpx\u001b[49m\u001b[38;5;241m.\u001b[39mscatter(df, x\u001b[38;5;241m=\u001b[39m\u001b[38;5;124m\"\u001b[39m\u001b[38;5;124mAnnounced Date\u001b[39m\u001b[38;5;124m\"\u001b[39m, y\u001b[38;5;241m=\u001b[39m\u001b[38;5;124m\"\u001b[39m\u001b[38;5;124mMain Industry\u001b[39m\u001b[38;5;124m\"\u001b[39m, size\u001b[38;5;241m=\u001b[39m\u001b[38;5;124m\"\u001b[39m\u001b[38;5;124mMoney Raised\u001b[39m\u001b[38;5;124m\"\u001b[39m, \n\u001b[1;32m      4\u001b[0m         hover_name\u001b[38;5;241m=\u001b[39m\u001b[38;5;124m\"\u001b[39m\u001b[38;5;124mOrganization Name\u001b[39m\u001b[38;5;124m\"\u001b[39m, hover_data\u001b[38;5;241m=\u001b[39m[\u001b[38;5;124m\"\u001b[39m\u001b[38;5;124mOrganization Description\u001b[39m\u001b[38;5;124m\"\u001b[39m], color\u001b[38;5;241m=\u001b[39m\u001b[38;5;124m\"\u001b[39m\u001b[38;5;124mOrganization Country\u001b[39m\u001b[38;5;124m\"\u001b[39m, template\u001b[38;5;241m=\u001b[39m\u001b[38;5;124m\"\u001b[39m\u001b[38;5;124mplotly_dark\u001b[39m\u001b[38;5;124m\"\u001b[39m)\n\u001b[1;32m      5\u001b[0m fig\u001b[38;5;241m.\u001b[39mshow()\n",
      "\u001b[0;31mNameError\u001b[0m: name 'px' is not defined"
     ]
    }
   ],
   "source": [
    "# create a bubble plot with plotly of all Organizations and how much $ they've raised\n",
    "# x = Announced Date, y = Organization Location, size = Money Raised, hovertext = Organization Name\n",
    "fig = px.scatter(df, x=\"Announced Date\", y=\"Main Industry\", size=\"Money Raised\", \n",
    "        hover_name=\"Organization Name\", hover_data=[\"Organization Description\"], color=\"Organization Country\", template=\"plotly_dark\")\n",
    "fig.show()\n",
    "# download the html of the plot\n",
    "#pio.write_html(fig, file=\"Charts/plotly_bubble.html\", auto_open=True)"
   ]
  },
  {
   "cell_type": "code",
   "execution_count": 168,
   "metadata": {},
   "outputs": [
    {
     "data": {
      "application/vnd.plotly.v1+json": {
       "config": {
        "plotlyServerURL": "https://plot.ly"
       },
       "data": [
        {
         "customdata": [
          [
           "Cruise builds self-driving vehicles that safely connect people to places, things, and experiences they care about."
          ],
          [
           "Uniphore is a customer service platform that is powered by AI and automation technologies."
          ],
          [
           "Clari is a revenue operations company that provides end-to-end sales analytics and a forecasting platform."
          ],
          [
           "Metagenomi is using the power of metagenomics and machine learning to discover novel genome editing systems."
          ],
          [
           "ConcertAI is an AI-powered SaaS data company in healthcare that develops medical research tool in oncology."
          ],
          [
           "Salt Security provides an API protection platform designed to prevent attacks by leveraging machine learning and AI."
          ],
          [
           "Observe.AI is an Intelligent Workforce Platform that helps teams improve CX and agent performance."
          ],
          [
           "SparkCognition is an AI technology startup operating a machine learning software to analyze increasingly complex data stores."
          ],
          [
           "An Augmented Reality company focuses on bridging the gap between you and the world."
          ],
          [
           "Luminous Computing develops photonics chips to handle workloads required by the artificial intelligence industry."
          ],
          [
           "OpenSpace develops an AI-driven photo documentation tool that automatically creates navigable photo representations of job sites."
          ],
          [
           "Viz is a medical imaging company that helps optimize emergency treatment using deep learning technology."
          ],
          [
           "LinkSquares is a provider of AI-powered contract management tools for in-house legal teams."
          ],
          [
           "Snappt is an AI-enabled fraud detection platform that determines the authenticity of financial documents."
          ],
          [
           "Codeless AI Infrastructure For Marketing"
          ],
          [
           "Bear Robotics develops self-driving robots that use artificial intelligence to serve food in restaurants."
          ],
          [
           "Cresta leverages artificial intelligence to help sales and service agents improve the quality of their customer service."
          ],
          [
           "Icertis is an AI-powered contract management platform that ensures compliance and minimizes risk."
          ],
          [
           "Deepcell uses AI to isolate and capture cells based on morphological features for multiple research and translational applications."
          ],
          [
           "Well is a health technology company that provides access to trusted health partners."
          ],
          [
           "Balbix enables organizations to transform their cybersecurity posture and quantifiably reduce their breach risk."
          ],
          [
           "Sibros offers automotive cloud solutions including OTA software updates, data logging, fleet management, and vehicle analytics."
          ],
          [
           "RightHand Robotics provides end-to-end solutions that reduce the cost of e-commerce order-fulfillment of electronics, apparel, grocery."
          ],
          [
           "AiFi enables reliable, cost-effective, and contactless autonomous shopping with AI-powered computer vision technology."
          ],
          [
           "Built transforms excavators into fully autonomous trenching robots for the $1 trillion earthmoving industry."
          ],
          [
           "Humu is a human resource company that affects work through science and machine learning."
          ],
          [
           "Celestial AI develops data center and edge AI computing solutions."
          ],
          [
           "Lilt is a technology company that develops an artificial intelligence-powered enterprise language software."
          ],
          [
           "Syntiant is a deep learning tech company providing AI voice and sensor solutions."
          ],
          [
           "Nayya is benefits experience platform that guides employees to create better health and financial outcomes."
          ],
          [
           "Ambient.ai integrates computer vision intelligence and camera infrastructure to sensor and prevent security incidents."
          ],
          [
           "Qventus focuses on optimizing decisions in hospitals in real time to reduce costs, improve quality, and experience."
          ],
          [
           "AI based Diverse Photo Marketplace."
          ],
          [
           "Ceremorphic provides energy efficient AI supercomputing."
          ],
          [
           "MixMode is a purpose built platform to detect threats and anomalies across any data Stream with the worlds most powerful cyber AI."
          ],
          [
           "Clockwise is an intelligent calendar system that uses artificial intelligence to help people get a dedicated block of time to be productive."
          ],
          [
           "JOBOX.ai is a stealth mode AI startup disrupting the on-demand economy."
          ],
          [
           "Starship Technologies is a robotics company building fleets of self-driving delivery robots designed to deliver goods."
          ],
          [
           "Skan.ai uses cognitive technologies to map, model, and manage business processes by creating digital twins of human or digital interactions."
          ],
          [
           "The autonomous demand generation platform for B2B enterprises."
          ],
          [
           "Novi is a technology platform that uses AI to ingest proprietary chemical information from chemical manufacturers."
          ],
          [
           "Mendel.ai transforms unstructured EMR data and clinical literature into comprehensive and compliant analytics-ready data."
          ],
          [
           "Syllable uses AI to transform the way healthcare systems initiate and cultivate relationships with patients."
          ],
          [
           "SKAEL provides a hyper-automation platform used to help companies to automate and power digital employees."
          ],
          [
           "Time by Ping is an AI company that automates time and billing for professional services, starting with enterprise law firms."
          ],
          [
           "Nautilus Labs is a maritime technology company that reduces emissions while maximizing commercial returns."
          ],
          [
           "Optimal Dynamics is a software company that uses AI and machine learning that transform the logistics industry."
          ],
          [
           "Diligent Robotics develops AI-powered robot assistants to collaborate with and adapt to humans in everyday environments."
          ],
          [
           "SmartHop is a business-in-a-box platform that empowers small trucking companies and owner-operators to earn more while doing less."
          ],
          [
           "Eko develops AI-powered digital tools to detect and monitor heart and lung disease"
          ],
          [
           "BlueOcean is an always-on brand intelligence platform. Our data and insights will drive your actions and outcomes."
          ],
          [
           "Counterpart is an insurtech startup company that works in the management liability insurance market."
          ],
          [
           "Neo Cybernetica develops cybernetics technology to improve the capability of artificially intelligent systems."
          ],
          [
           "Helm.ai is a scalable artificial intelligence for autonomous vehicle."
          ],
          [
           "BoostUp helps companies achieve predictability and scaleable growth through accurate foresting."
          ],
          [
           "AssemblyAI is an AI company building a platform of APIs to transcribe and understand audio data."
          ],
          [
           "Robotics, Automation, Logistics"
          ],
          [
           "ContextLabs provides enterprise platform solutions that deliver trust and transparency for the digital and physical worlds."
          ],
          [
           "Alice Technologies develops construction-engineering software for general contractors, subcontractors, and real estate developers."
          ],
          [
           "Capacity is an AI-powered helpdesk that automates support for customers and employees."
          ],
          [
           "HireEZ offers AI powered recruitment software that allows intelligent sourcing, engagement, analysis, and integration on existing platforms."
          ],
          [
           "Augmented data management provider combines natural language processing and automated data prep for true, AI-driven self-service analytics."
          ],
          [
           "Mosaic.tech is a finance platform that provides predictive reporting capabilities to assist with financial strategy and planning."
          ],
          [
           "Black Crow AI develops a business analytics platform that delivers machine learning predictions."
          ],
          [
           "Quiq is a customer service messaging platform that allows brands to engage with customers easily, across digital messaging channels."
          ],
          [
           "Slingshot Aerospace offers innovative satellite, aerial, and drone signal processing AI and analytics capabilities."
          ],
          [
           "Truera provides AI quality management solutions that evaluate, optimize, and monitor machine learning models."
          ],
          [
           "Conversica creates intelligent virtual assistants to serve as virtual team members."
          ],
          [
           "Grata is a business-to-business search engine for finding and targeting private companies."
          ],
          [
           "Verusen is the global supply chain innovator focused on providing the simplest way to manage materials for global supply chains."
          ],
          [
           "Mathison the first all-inclusive platform for diversity hiring and retention."
          ],
          [
           "Wallaroo provides an enterprise AI platform that enables clients to deploy ML and analytics projects into production."
          ],
          [
           "Tint is an AI-empowered insurance platform that provides tools required to launch, manage, and optimize insurance programs."
          ],
          [
           "We build artificial intelligence processors, inspired by the brain. Our mission is to enable brain-scale intelligence."
          ],
          [
           "IUNU is an industrial computer vision company that connects plants, facilities, and people through a single interface."
          ],
          [
           "Restor3d offers surgeons with biomaterials, 3D printing technologies, and artificial intelligence to repair and rebuild the human body."
          ],
          [
           "Brain interfaces to bridge the gap between humans and technology."
          ],
          [
           "Alife develops artificial intelligence tools to assist physicians in increasing a patient's chances of pregnancy success."
          ],
          [
           "Antidote Health offers an AI-based health platform that helps people receive proper medical treatment."
          ],
          [
           "EvolutionIQ is an AI startup that offers claims guidance solutions for insurance companies and carriers."
          ],
          [
           "Eleos Health is a mental health startup focused on using voice analysis and NLP to improve treatment outcomes and workflow efficiency."
          ],
          [
           "Terradepth is a data-as-a-service company whose vision is to create a holistic map of Earth's ocean."
          ],
          [
           "Level AI is a platform for businesses to automate tedious workflows and transform customer experience."
          ],
          [
           "Disco develops an AI-driven partnership platform that makes recommendations to consumers across brands."
          ],
          [
           "Kintsugi detects signs of clinical depression and anxiety using machine learning and voice biomarkers."
          ],
          [
           "Bright Security is an AI -powered application security platform that integrates application security into SDLC."
          ],
          [
           "Talespin is a software company that develops and builds a virtual, augmented, and mixed reality platform for the future of employment."
          ],
          [
           "Proton.ai is an AI-powered sales platform for distributors to gain millions of revenue and reclaim market share."
          ],
          [
           "Deepnote is a collaborative data science notebook for teams that is shareable, Jupyter-compatible, and runs in the cloud."
          ],
          [
           "Codoxo uses AI technology to re-envision healthcare affordability and effectiveness."
          ],
          [
           "Advanced technology for faster medical records review, delivering increased productivity and a competitive edge."
          ],
          [
           "TWO is an Artificial Reality company building interactive and immersional AI experiences beyond text and voice."
          ],
          [
           "Draup is an AI tool that equips sales teams with account and stakeholder intelligence to enable microtargeting and account-based planning."
          ],
          [
           "Kumo.AI is an innovative SaaS AI platform for the modern data stack that allows businesses to make faster, simpler, and smarter predictions."
          ],
          [
           "Klarity uses Artificial Intelligence to automate Billing & RevRec contract review for SaaS and Software companies."
          ],
          [
           "Leading Robotic Data Automation Fabric™ (RDAF™) and AIOps Vendor. GigaOM AIOps Radar \"Leader\" and EMA \"Value Leader\""
          ],
          [
           "Record, transcribe and clip important moments to share with your team. Transform video meetings into your company's most valuable asset."
          ],
          [
           "The Routing Company provides turnkey fleet management solution for on-demand shared cars, shuttles and buses."
          ],
          [
           "PassiveLogic - the world's first fully autonomous buildings platform."
          ],
          [
           "StradVision is an innovator in vision processing technology for Autonomous Vehicles and advanced driver assistance."
          ],
          [
           "Activ Surgical is a digital surgery company focused on improving surgical efficiency, accuracy, patient outcomes, and accessibility."
          ],
          [
           "Pristine Surgical is develops a first-of-its-kind, single-use visualization platform for surgical, diagnostic rigid endoscopic procedures."
          ],
          [
           "Krista is an Intelligent Automation platform."
          ],
          [
           "Giving retailers the power of AI to boost their businesses with No-Code Decision Intelligence."
          ],
          [
           "Apkudo is a developer of a device-testing platform used to provide quantified user experience insights."
          ],
          [
           "SuperOps.ai is an early stage startup in the MSP space."
          ],
          [
           "Krista by Ant Brains is a conversational RPA platform that understands people."
          ],
          [
           "Devron is a developer of a data science and machine learning product platform enabling insight from distributed data sets."
          ],
          [
           "Synthetaic is a company that grows large and high-quality datasets sufficient for machine learning."
          ],
          [
           "Appvance.ai is the AI-driven test generation, which is revolutionizing how software testing is performed."
          ],
          [
           "HOS is an AI technology company that develops scalable technologies to achieve significant and constructive changes in the world."
          ],
          [
           "Vectice is the cloud-based platform that powers data and AI initiative."
          ],
          [
           "Inworld AI is an AI developer platform for immersive realities/metaverse spaces."
          ],
          [
           "The Connected Engineering Operations Platform"
          ],
          [
           "Datatron provides a single model governance (management) platform for all of your ML, AI, and Data Science models in production."
          ],
          [
           "InFeedo is a SaaS-based analytics company that develops an employee engagement platform for enterprises."
          ],
          [
           "NODAR develops a camera-based 3D vision system for autonomous vehicles."
          ],
          [
           "ZERØ is an AI-powered email management technology that automates time-consuming administrative tasks for lawyers."
          ],
          [
           "Next Generation Sales Intelligence"
          ],
          [
           "Devron is a developer of a data science and machine learning product platform enabling insight from distributed data sets."
          ],
          [
           "MoBagel, a US-based startup dedicated to no-code AI for teams that build AI solutions together"
          ],
          [
           "Agot.AI develops a restaurant management platform that enables cashier-less checkout and expeditor accuracy."
          ],
          [
           "Docyt is a real-time accounting automation platform."
          ],
          [
           "Dianthus is the world’s only AI-first E-commerce company – built from the ground up to help small to medium E-commerce brands."
          ],
          [
           "AI Proteins is a biotechnology company that focuses on designing and engineering of synthetic miniprotein therapeutics."
          ],
          [
           "Overwatch Imaging designs and manufactures imaging systems with custom onboard AI software for piloted aircraft and drones."
          ],
          [
           "Glean unlocks the powerful data detailed in vendor invoices/receipts to surface relevant spend insights and drive spend accountability"
          ],
          [
           "Securden is a Windows Privilege Management Software."
          ],
          [
           "Layr is an insurtech startup determined to help small businesses tackle commercial insurance on their terms."
          ],
          [
           "OmniML is a startup developing smaller and faster machine learning models."
          ],
          [
           "Fama is an AI-based solution that identifies problematic behavior across a workforce by analyzing publicly available online information."
          ],
          [
           "NanoNets provides machine learning APIs to help developers create machine learning models."
          ],
          [
           "Regenerative Bio is the world's first anti-aging biotechnology company driven by artificial intelligence and cloud supercomputing."
          ],
          [
           "Cyble is a SaaS-based Enterprise Platform."
          ],
          [
           "Overview provides real time fault detection that uses cameras and AI to monitor manufacturing equipment."
          ],
          [
           "StructionSite is a new category of construction software - Intelligent Project Tracking. Cameras and AI automate the tracking of work onsite"
          ],
          [
           "Ava develops a live captioning platform that uses AI to transcribe what people say."
          ],
          [
           "The company employs people with strong and deep knowledge in Information Technology."
          ],
          [
           "OnCorps is a provider of decision and behavioral science into machine learning nudges to help people make better decisions."
          ],
          [
           "Woebot Health offers digital therapeutics to make mental health radically accessible."
          ],
          [
           "Huma is a provider of business intelligence platform built to automate healthcare through human language."
          ],
          [
           "Intelligent automation for commercial construction"
          ],
          [
           "AuthID.ai is a global provider of biometric identity proofing and authentication solutions delivered by an easy to integrate IDaaS platform."
          ],
          [
           "Powered by AI, CMES Robotics enables 3D vision for factory robots."
          ],
          [
           "Apptronik builds and designs human-centered robotics systems."
          ],
          [
           "Viable is a platform that automates the qualitative analysis of customer feedback."
          ],
          [
           "Evidence-based developer hiring platform: High-growth teams find hidden gems with credentials-blind engineering scenarios"
          ],
          [
           "Intuitivo is a technology AI/Computer vision company."
          ],
          [
           "Kogniz offers leverages computer vision and artificial intelligence (AI) to create safer, smarter workspaces using predictive safety."
          ],
          [
           "Ex Parte provides companies with the data and insight to make smart and informed decisions."
          ],
          [
           "Rose leverages artificial intelligence to simplify the process for patients to seek and receive mental health care."
          ],
          [
           "Somatic makes bathroom cleaning robots for commercial spaces like office buildings."
          ],
          [
           "greymatter.io uses the service mesh ecosystem to create connected intelligence and intervention for next-gen modern infrastructure."
          ],
          [
           "Amperon is a provider of smart meters to deliver real-time energy data forecasts."
          ],
          [
           "Synchrono Group is a state-of-the-art, digital underwriting and professional services."
          ],
          [
           "Birdie helps companies drive business growth with real-time AI powered insights from millions of consumer data points."
          ],
          [
           "Altis is an AI personal trainer, which provides an unparalleled hyper-personalized fitness program."
          ],
          [
           "Bolster is a deep learning-powered fraud prevention platform protecting the world’s leading brands from counterfeit activity."
          ],
          [
           "Justpoint allows you to select your attorney based on predicted outcomes rather than flashy billboards."
          ],
          [
           "OccamzRazor combines machine learning and first-in-class biological techniques to improve outcomes in drug discovery and development."
          ],
          [
           "Marigold Health uses chat support groups to make substance use treatment more engaging and personalized for vulnerable populations."
          ],
          [
           "Relativity6 is The Industry Classification API."
          ],
          [
           "A SaaS solution powered by artificial intelligence and big data to automate underwriting and deliver of life insurance."
          ],
          [
           "Modern Intelligence is a technology company using proprietary advances in information and complexity theory to build one AI for defense."
          ],
          [
           "LexCheck uses computational linguistics technology to help improve the preparation of legal documents and other literature."
          ],
          [
           "Leverage delivers end-to-end supply chain management powered by artificial intelligence."
          ],
          [
           "Alaffia Health is a healthtech company that uses machine learning to identify and eliminate fraud, waste, and abuse in healthcare claims."
          ],
          [
           "Torc, a talent marketplace bringing a productive freelance developers to the enterprise through an AI, security, and culture-first platform"
          ],
          [
           "NLX transforms customer contact into personalized self-service experiences."
          ],
          [
           "Customer interactions with speed and empathy. Automate questions, build relationships and turn support into sales."
          ],
          [
           "DataShapes is an enterprise-grade real-time \"Show and Go\" intelligent SW company."
          ],
          [
           "DataMilk is an AI tool that autonomously optimizes E-Commerce websites to improve the customer experience and drive increased sales."
          ],
          [
           "Applica’s proprietary AI automates text-intensive work by extracting meaning from unstructured and semi-structured documents."
          ],
          [
           "Rolebot is an Intelligent Recruitment Engine that provides a list of recommended talent based on the selected profile."
          ],
          [
           "Treeswift utilizes robotic and machine learning technology to build forestry tools."
          ],
          [
           "Testsigma is a cloud-based continuous testing platform for Agile and DevOps teams."
          ],
          [
           "Upswing Health provides a new way to conveniently deliver orthopedic care."
          ],
          [
           "Enterpret allows the companies to analyze their customer's feedback and help them build new products."
          ],
          [
           "Pixm is a computer and network company that specializes in cybersecurity and endpoint security."
          ],
          [
           "Atom Limbs builds mind-controlled artificial limbs, to enable a better human body."
          ],
          [
           "Valyant AI develops customer service AI platform designed for the restaurant, retail, and service-based industries."
          ],
          [
           "Artificial intelligence for fighting global corruption"
          ],
          [
           "Blyp is an AI-driven data analytics platform for e-commerce companies."
          ],
          [
           "ConverSight.ai is a platform that uncovers actionable business insights for enterprises through natural language conversation."
          ],
          [
           "Increasing Productivity and Safety in Construction Site using IoT and AI"
          ],
          [
           "juli helps you manage your chronic condition using artificial intelligence."
          ],
          [
           "Mustard is an elite-level motion analysis app for broad athletics coaching."
          ],
          [
           "Chattr is a retail chatbot platform reinventing the way candidates and employers create meaningful connections at scale."
          ],
          [
           "nVenue’s unmatched technology leverages the power of machine learning and artificial intelligence."
          ],
          [
           "WEVO is a customer experience company that offers a solution for pinpointing WHY visitors are not engaging."
          ],
          [
           "Taking frontline productivity to a new level"
          ],
          [
           "Harnessing deep learning and lab automation to accelerate drug discovery in targeted protein degradation."
          ],
          [
           "Pen Testing as A Service (PTaaS) | World's first full stack PTaaS powered by Certified Hackers and AI"
          ],
          [
           "Vyrill’s AI platform offers user generated video - discovery, intelligence, licensing, and content marketing tools for social commerce."
          ],
          [
           "ApertureData manages images and videos with a database purpose-built for data science and machine learning."
          ],
          [
           "Fashmates is an AI-powered styling platform that powers outfit-based shopping recommendations for online fashion brands."
          ],
          [
           "Sheeva.AI is a connected vehicle platform that provides location-based mobility urban driving solutions through automation."
          ],
          [
           "Exercise Intelligence company - Focusing on optimizing training, recovery, and performance for athletes and coaches at all levels."
          ],
          [
           "Pillar is an interview intelligence platform that coaches and guides teams to hire faster, better, and more equitably."
          ],
          [
           "Qualifi is a software company enabling on-demand phone interviews with AI, machine learning, and automation."
          ],
          [
           "PhishFirewall is an AI-driven SaaS platform that helps companies in solving their phishing problem."
          ],
          [
           "Lucy is an AI personal assistant for businesses."
          ],
          [
           "Spyn improves health and fitness through computer vision and artificial intelligence."
          ],
          [
           "Southie Autonomy develops a robot software that enables any industrial robot to be re-purposed and re-deployed by any person."
          ],
          [
           "Pickle helps sales teams effortlessly grow revenue by capturing, finding & sharing key sales moments in Zoom meetings."
          ],
          [
           "APATICS is a healthcare data intelligence company that reduces risk and optimizes healthcare financial and clinical network performance."
          ],
          [
           "Scribble Data is an ML engineering company. Its primary offering is a ML Feature Store for mid-market enterprise data teams."
          ],
          [
           "ConnectM brings remote efficiency, insight, and control to the operations of mechanical equipment using a powerful sensor and AI platform."
          ],
          [
           "LOVO is a voice conversion through cloning using machine learning and AI algorithms."
          ],
          [
           "Veeve is a computer vision startup that provides in-store cashier-less checkout solution."
          ],
          [
           "Easiest way to find loads for owner-operators"
          ],
          [
           "PublishDrive is the most intelligent self-publishing platform for business-driven indie authors and publishers."
          ],
          [
           "Vision Surgery AI is a Technology and software"
          ],
          [
           "Peoplelogic is an end-to-end people intelligence platform for empowering leaders to improve performance, productivity, and accountability."
          ],
          [
           "GroupSolver is the next generation online survey platform that incorporates AI, analytics automation and crowd intelligence."
          ],
          [
           "TrenderTag is a digital social media assistant that automates search, filter, and engagement activities on social media and websites."
          ],
          [
           "In a new world, where empathy is vital, Keybe offers you the simplest way to merge your omnichannel strategies"
          ],
          [
           "ProAxion develops a predictive software tool to define the industrial IoT by preventing the unexpected failure of mission-critical machines."
          ],
          [
           "Automate document processing"
          ],
          [
           "Techforce is an E-workforce company helping customers across the world to augment their human workforce with unlimited elastic AI workforce."
          ],
          [
           "CommSafe AI creates safe environments for employees by mitigating conflict, harassment, and violence in the workplace."
          ],
          [
           "Kira Learning, is an AI-powered K-12 education publisher built for 21st century learners."
          ],
          [
           "Ferret helps businesses and professionals to check and monitor the backgrounds and reputations of all of their connections."
          ],
          [
           "ResoluteAI makes information retrieval seamless, helping you to innovate smarter."
          ],
          [
           "Subterra AI is a computer software company that specializes in the fields of sewer inspection, 3dmapping, and sewer."
          ],
          [
           "Advocat is an AI-guided legal document drafting platform for attorneys."
          ],
          [
           "CamerEye provides swimming pool safety with the fastest AI pool distress detection to help save lives."
          ],
          [
           "Multiscale Technologies is a knowledge fusion platform that connects simulations and materials domain expertise."
          ],
          [
           "Deep Learning AI platform enabling enterprises to automatically capture value lost when transacting with customers, suppliers and partners."
          ],
          [
           "Respira Labs is building an AI-powered sensor platform to track, predict, and prevent chronic lung disease."
          ],
          [
           "Linguix is an AI-based writing assistant that eliminates spelling issues in English texts anywhere on the web."
          ],
          [
           "Noteworthy provides vehicle-mounted computer vision technology that identifies visual defects in grid assets like utility poles"
          ],
          [
           "Home Lending Pal is a marketplace that focuses on mortgage equality by using AI and blockchain to de-identify HMDA data early in the process"
          ],
          [
           "Noteworthy provides vehicle-mounted computer vision technology that identifies visual defects in grid assets like utility poles"
          ],
          [
           "Mobile X Global delivers personalized services and individualized plans for wireless customers."
          ],
          [
           "Boost your Sales team with AI-powered Quality Assurance"
          ],
          [
           "Ai-driven real time data platform which helps make critical business decisions."
          ],
          [
           "Call Simulator is an AI-powered, emergency call training software that helps trainees hone their active listening skills."
          ],
          [
           "Botcopy is an enterprise web messaging SaaS solution blending backend AI cloud services with modular frontend components."
          ],
          [
           "Symphony42 is the world's first AI lead generation platform. Multiple Conversational AI Platforms are used instead of live human agents."
          ],
          [
           "Fyrii builds an AI based platform to enable individual experts to brand and monetize their individual innovative potential"
          ],
          [
           "DataGenie is a RoboAnalyst that autonomously generates important stories from vast data, enabling faster & bolder decisions for businesses"
          ],
          [
           "Build reliance to (the negative effects of) addictive technologies, Saas, B2B"
          ],
          [
           "Spiky.ai uses video sentiment analytics to improve engagement."
          ],
          [
           "Tanaflow is the technology company that builds the economic infrastructure to unburden healthcare."
          ],
          [
           "Cameralyze is no-code AI design tool for developers to business people, prototype and launch vision-based applications and workflows!"
          ],
          [
           "The anywhere ultrasound, is a new generation AI-based, mobile ultrasound solution for remote medical imaging"
          ],
          [
           "DataPrime provides Data Science, Consulting, Recruiting, Machine Learning, and Artificial Intelligence products."
          ],
          [
           "The #1 Fintech & AI-Driven Platform For Mentorship & Managed Micro-Advances For Creators"
          ],
          [
           "Vector ML Analytics is a web-based treasury and credit risk management platform built for banks and lending institutions."
          ],
          [
           "CellStrat is an online platform intended to let software developers learn, develop and launch AI."
          ],
          [
           "AI Powered manufacturing safety platform to detect safety incidents and near-misses in real-time"
          ],
          [
           "Solace Vision is a no-code metaverse automation tool that gives you the power to turn a few words into vast virtual worlds."
          ],
          [
           "Sift transforms healthcare payments with AI-based workflow integrations that optimize revenue cycle operations and maximize payments."
          ],
          [
           "Kodezi is Grammarly for programmers to improve coding skills instantaneously using AI."
          ],
          [
           "socially assistive platform changing life for those with physical challenges and their caregivers."
          ],
          [
           "socially assistive platform changing life for those with physical challenges and their caregivers."
          ],
          [
           "Vector ML Analytics is a web-based treasury and credit risk management platform built for banks and lending institutions."
          ],
          [
           "Fostering a healthy online community, one post at a time!"
          ],
          [
           "Solace Vision is a no-code metaverse automation tool that gives you the power to turn a few words into vast virtual worlds."
          ]
         ],
         "hovertemplate": "<b>%{hovertext}</b><br><br>Organization Country=United States<br>Announced Date=%{x}<br>Main Industry=%{y}<br>Money Raised=%{marker.size}<br>Organization Description=%{customdata[0]}<extra></extra>",
         "hovertext": [
          "Cruise",
          "Uniphore",
          "Clari",
          "Metagenomi",
          "ConcertAI",
          "Salt Security",
          "Observe.AI",
          "SparkCognition",
          "Rokid",
          "Luminous Computing",
          "OpenSpace",
          "Viz",
          "LinkSquares",
          "Snappt",
          "Pixis",
          "Bear Robotics",
          "Cresta",
          "Icertis",
          "Deepcell",
          "Well",
          "Balbix",
          "Sibros",
          "RightHand Robotics",
          "AiFi",
          "Built Robotics",
          "Humu",
          "Celestial AI",
          "Lilt",
          "Syntiant",
          "Nayya",
          "Ambient.ai",
          "Qventus",
          "Scopio",
          "Ceremorphic",
          "MixMode",
          "Clockwise",
          "JOBOX.ai",
          "Starship Technologies",
          "skan.ai",
          "Metadata",
          "Novi Connect",
          "Mendel.ai",
          "Syllable",
          "SKAEL",
          "Time by Ping",
          "Nautilus Labs",
          "Optimal Dynamics",
          "Diligent Robotics",
          "SmartHop",
          "Eko",
          "BlueOcean",
          "Counterpart",
          "Neo Cybernetica",
          "Helm.ai",
          "BoostUp.ai",
          "AssemblyAI",
          "RIOS",
          "ContextLabs",
          "ALICE Technologies",
          "Capacity",
          "HireEZ",
          "Promethium",
          "Mosaic.tech",
          "Black Crow AI",
          "Quiq",
          "Slingshot Aerospace",
          "TruEra",
          "Conversica",
          "Grata",
          "Verusen",
          "Mathison",
          "Wallaroo",
          "Tint.ai",
          "Rain Neuromorphics",
          "IUNU",
          "Restor3d",
          "Metabrain",
          "Alife",
          "Antidote Health",
          "EvolutionIQ",
          "Eleos Health",
          "Terradepth",
          "Level AI",
          "Disco",
          "Kintsugi",
          "Bright Security",
          "Talespin",
          "Proton.ai",
          "Deepnote",
          "Codoxo",
          "DigitalOwl INST",
          "TWO",
          "Draup",
          "Kumo.AI",
          "Klarity",
          "CloudFabrix Software",
          "Grain",
          "The Routing Company",
          "PassiveLogic",
          "StradVision",
          "Activ Surgical",
          "Pristine Surgical",
          "Krista Software",
          "Cerebra",
          "Apkudo",
          "SuperOps.ai",
          "Krista by Ant Brains",
          "Devron",
          "Synthetaic",
          "Appvance.ai",
          "hOS",
          "Vectice",
          "Inworld AI",
          "Faros AI",
          "Datatron",
          "inFeedo",
          "NODAR",
          "ZERØ",
          "Amplemarket",
          "Devron",
          "MoBagel",
          "Agot.AI",
          "Docyt",
          "Dianthus",
          "AI Proteins",
          "Overwatch Imaging",
          "Glean AI",
          "Securden",
          "Layr",
          "OmniML",
          "Fama",
          "NanoNets",
          "Regenerative Bio",
          "Cyble",
          "Overview",
          "StructionSite",
          "Ava",
          "DeepTek",
          "OnCorps",
          "Woebot Health",
          "Huma.ai",
          "Rugged Robotics",
          "authID.ai",
          "CMES Robotics",
          "Apptronik",
          "Viable",
          "Woven",
          "Intuitivo",
          "Kogniz",
          "Ex Parte",
          "Rose",
          "Somatic",
          "greymatter.io",
          "Amperon",
          "Synchrono Group",
          "Birdie",
          "Altis",
          "Bolster Inc.",
          "Justpoint",
          "OccamzRazor",
          "Marigold Health",
          "Relativity6",
          "Pendella",
          "Modern Intelligence",
          "LexCheck",
          "Leverage",
          "Alaffia Health",
          "Torc",
          "NLX",
          "Zowie",
          "DataShapes, Inc.",
          "DataMilk",
          "Applica",
          "Rolebot",
          "Treeswift",
          "Testsigma",
          "Upswing Health",
          "Enterpret",
          "Pixm",
          "Atom Limbs",
          "Valyant AI",
          "Deep Discovery",
          "Blyp",
          "ConverSight.ai",
          "Kwant.ai",
          "juli",
          "Mustard",
          "Chattr",
          "nVenue",
          "WEVO",
          "Retrocausal",
          "Celeris Therapeutics",
          "BreachLock Inc.",
          "Vyrill",
          "ApertureData",
          "Fashmates",
          "Sheeva.AI",
          "SVEXA",
          "Pillar",
          "Qualifi",
          "PhishFirewall",
          "Lucy",
          "Spyn",
          "Southie Autonomy",
          "Pickle",
          "APATICS",
          "Scribble Data",
          "ConnectM Technology Solutions",
          "LOVO",
          "Veeve",
          "Cargofy",
          "PublishDrive",
          "Vision Surgery AI Inc.",
          "Peoplelogic",
          "GroupSolver",
          "TrenderTag",
          "Keybe",
          "ProAxion",
          "Base64.ai",
          "Techforce",
          "CommSafe AI",
          "Kira Learning",
          "Ferret",
          "ResoluteAI",
          "Subterra AI",
          "Advocat AI",
          "CamerEye",
          "Multiscale Technologies",
          "DSilo",
          "Respira Labs",
          "Linguix",
          "Noteworthy AI",
          "Home Lending Pal",
          "Noteworthy AI",
          "Mobile X Global",
          "Imot.io",
          "GoalProfit",
          "Call Simulator",
          "Botcopy",
          "Symphony42",
          "Fyrii",
          "DataGenie",
          "Hour25 AI",
          "Spiky.ai",
          "Tanaflow",
          "Cameralyze",
          "PONS",
          "DataPrime",
          "Bump by Ownors AI",
          "Vector ML Analytics",
          "CellStrat",
          "Be Global Safety",
          "Solace Vision",
          "Sift Healthcare",
          "Kodezi",
          "Parrots",
          "Parrots",
          "Vector ML Analytics",
          "MindStand Technologies",
          "Solace Vision"
         ],
         "legendgroup": "United States",
         "marker": {
          "color": "#636efa",
          "size": [
           1350000000,
           400000000,
           225000000,
           175000000,
           150000000,
           140000000,
           125000000,
           123000000,
           110000000,
           105000000,
           102000000,
           100000000,
           100000000,
           100000000,
           100000000,
           81000000,
           80000000,
           79999968,
           73000000,
           71899237,
           70000000,
           70000000,
           66000000,
           65000000,
           64000000,
           60000000,
           56000000,
           55000000,
           55000000,
           55000000,
           52000000,
           50000000,
           50000000,
           50000000,
           45000000,
           45000000,
           42000000,
           42000000,
           40000000,
           40000000,
           40000000,
           40000000,
           40000000,
           38000000,
           36500000,
           34000000,
           33000000,
           30000000,
           30000000,
           30000000,
           30000000,
           30000000,
           30000000,
           30000000,
           28500000,
           28000000,
           28000000,
           28000000,
           27660851,
           27000000,
           26000000,
           26000000,
           25000000,
           25000000,
           25000000,
           25000000,
           25000000,
           25000000,
           25000000,
           25000000,
           25000000,
           25000000,
           25000000,
           25000000,
           24000000,
           23000000,
           22653826,
           22000000,
           22000000,
           21000000,
           20000000,
           20000000,
           20000000,
           20000000,
           20000000,
           20000000,
           20000000,
           20000000,
           20000000,
           20000000,
           20000000,
           20000000,
           19760000,
           18500000,
           18000000,
           17000000,
           16000000,
           15000000,
           15000000,
           15000000,
           15000000,
           15000000,
           15000000,
           15000000,
           14400000,
           14000000,
           14000000,
           13814999,
           13000000,
           13000000,
           12800000,
           12600000,
           12500000,
           12250000,
           12100000,
           12000000,
           12000000,
           12000000,
           12000000,
           12000000,
           12000000,
           12000000,
           11500000,
           11500000,
           11321003,
           11150000,
           10800000,
           10400000,
           10000000,
           10000000,
           10000000,
           10000000,
           10000000,
           10000000,
           10000000,
           10000000,
           9994995,
           10010000,
           9600000,
           9500000,
           9500000,
           9400000,
           9200000,
           8100000,
           8004037,
           8001857,
           8000000,
           7800000,
           7532030,
           7500000,
           7500000,
           7157107,
           7100000,
           7035000,
           7000000,
           7000000,
           7000000,
           7000000,
           6900000,
           6100000,
           6000000,
           5250000,
           5200000,
           5000000,
           5000000,
           5000000,
           5000000,
           5000000,
           5000000,
           5000000,
           5000000,
           5000000,
           5000000,
           4835706,
           4800000,
           4600000,
           4312668,
           4300000,
           4300000,
           4044532,
           4000000,
           4000000,
           4000000,
           4000000,
           3900000,
           3800000,
           3750000,
           3700000,
           3500000,
           3500000,
           3450000,
           3240000,
           3000000,
           3000000,
           3000000,
           3000000,
           3000000,
           2800000,
           2725000,
           2500000,
           2500000,
           2500000,
           2499997,
           2405000,
           2400000,
           2300000,
           2200000,
           2093989,
           2000000,
           2000000,
           2000000,
           2000000,
           2000000,
           1900000,
           1781497,
           1749997,
           1700000,
           1693138,
           1500000,
           1500000,
           1500000,
           1500000,
           1398488,
           1353577,
           1350000,
           1324668,
           1100000,
           1050000,
           1050000,
           1000000,
           1000000,
           1000000,
           1000000,
           950000,
           885000,
           700000,
           655000,
           575000,
           500000,
           500000,
           450000,
           450000,
           425000,
           400000,
           350000,
           300000,
           250000,
           225000,
           150000,
           150000,
           140000,
           120000,
           120000,
           112000,
           100000,
           100000,
           50000,
           50000,
           35000,
           30000
          ],
          "sizemode": "area",
          "sizeref": 3375000,
          "symbol": "circle"
         },
         "mode": "markers",
         "name": "United States",
         "orientation": "v",
         "showlegend": true,
         "type": "scatter",
         "x": [
          "2022-03-18T00:00:00",
          "2022-02-16T00:00:00",
          "2022-01-19T00:00:00",
          "2022-01-25T00:00:00",
          "2022-03-29T00:00:00",
          "2022-02-10T00:00:00",
          "2022-04-12T00:00:00",
          "2022-01-25T00:00:00",
          "2022-03-20T00:00:00",
          "2022-03-03T00:00:00",
          "2022-03-02T00:00:00",
          "2022-04-07T00:00:00",
          "2022-04-04T00:00:00",
          "2022-03-15T00:00:00",
          "2022-01-19T00:00:00",
          "2022-03-15T00:00:00",
          "2022-03-17T00:00:00",
          "2022-02-04T00:00:00",
          "2022-03-17T00:00:00",
          "2022-04-08T00:00:00",
          "2022-03-01T00:00:00",
          "2022-01-25T00:00:00",
          "2022-02-23T00:00:00",
          "2022-03-11T00:00:00",
          "2022-04-07T00:00:00",
          "2022-01-25T00:00:00",
          "2022-02-04T00:00:00",
          "2022-04-07T00:00:00",
          "2022-03-28T00:00:00",
          "2022-03-01T00:00:00",
          "2022-01-19T00:00:00",
          "2022-02-28T00:00:00",
          "2022-02-10T00:00:00",
          "2022-01-24T00:00:00",
          "2022-03-23T00:00:00",
          "2022-01-18T00:00:00",
          "2022-04-12T00:00:00",
          "2022-02-28T00:00:00",
          "2022-03-30T00:00:00",
          "2022-03-01T00:00:00",
          "2022-02-03T00:00:00",
          "2022-03-25T00:00:00",
          "2022-02-07T00:00:00",
          "2022-02-21T00:00:00",
          "2022-03-01T00:00:00",
          "2022-03-16T00:00:00",
          "2022-04-14T00:00:00",
          "2022-04-11T00:00:00",
          "2022-04-06T00:00:00",
          "2022-03-22T00:00:00",
          "2022-04-13T00:00:00",
          "2022-03-01T00:00:00",
          "2022-02-09T00:00:00",
          "2022-02-15T00:00:00",
          "2022-03-29T00:00:00",
          "2022-03-04T00:00:00",
          "2022-02-22T00:00:00",
          "2022-02-09T00:00:00",
          "2022-04-06T00:00:00",
          "2022-01-19T00:00:00",
          "2022-02-02T00:00:00",
          "2022-02-08T00:00:00",
          "2022-03-30T00:00:00",
          "2022-03-31T00:00:00",
          "2022-04-12T00:00:00",
          "2022-03-10T00:00:00",
          "2022-03-16T00:00:00",
          "2022-04-05T00:00:00",
          "2022-02-22T00:00:00",
          "2022-01-25T00:00:00",
          "2022-03-25T00:00:00",
          "2022-02-09T00:00:00",
          "2022-02-01T00:00:00",
          "2022-02-02T00:00:00",
          "2022-03-16T00:00:00",
          "2022-03-15T00:00:00",
          "2022-02-11T00:00:00",
          "2022-03-22T00:00:00",
          "2022-03-22T00:00:00",
          "2022-04-12T00:00:00",
          "2022-04-05T00:00:00",
          "2022-04-11T00:00:00",
          "2022-03-02T00:00:00",
          "2022-03-04T00:00:00",
          "2022-02-28T00:00:00",
          "2022-03-02T00:00:00",
          "2022-02-17T00:00:00",
          "2022-01-18T00:00:00",
          "2022-01-31T00:00:00",
          "2022-02-03T00:00:00",
          "2022-01-26T00:00:00",
          "2022-02-22T00:00:00",
          "2022-03-21T00:00:00",
          "2022-04-07T00:00:00",
          "2022-01-24T00:00:00",
          "2022-04-15T00:00:00",
          "2022-04-12T00:00:00",
          "2022-03-21T00:00:00",
          "2022-04-12T00:00:00",
          "2022-03-29T00:00:00",
          "2022-03-22T00:00:00",
          "2022-03-02T00:00:00",
          "2022-02-01T00:00:00",
          "2022-02-08T00:00:00",
          "2022-02-08T00:00:00",
          "2022-01-27T00:00:00",
          "2022-02-22T00:00:00",
          "2022-03-03T00:00:00",
          "2022-03-15T00:00:00",
          "2022-01-18T00:00:00",
          "2022-02-09T00:00:00",
          "2022-01-18T00:00:00",
          "2022-03-03T00:00:00",
          "2022-03-02T00:00:00",
          "2022-01-21T00:00:00",
          "2022-03-14T00:00:00",
          "2022-04-12T00:00:00",
          "2022-03-01T00:00:00",
          "2022-04-06T00:00:00",
          "2022-02-09T00:00:00",
          "2022-04-01T00:00:00",
          "2022-02-11T00:00:00",
          "2022-04-06T00:00:00",
          "2022-03-08T00:00:00",
          "2022-01-21T00:00:00",
          "2022-04-05T00:00:00",
          "2022-03-08T00:00:00",
          "2022-04-13T00:00:00",
          "2022-03-21T00:00:00",
          "2022-03-29T00:00:00",
          "2022-02-22T00:00:00",
          "2022-02-16T00:00:00",
          "2022-02-25T00:00:00",
          "2022-02-22T00:00:00",
          "2022-02-17T00:00:00",
          "2022-01-19T00:00:00",
          "2022-03-17T00:00:00",
          "2022-03-07T00:00:00",
          "2022-03-21T00:00:00",
          "2022-03-15T00:00:00",
          "2022-02-07T00:00:00",
          "2022-03-23T00:00:00",
          "2022-03-21T00:00:00",
          "2022-03-03T00:00:00",
          "2022-03-23T00:00:00",
          "2022-04-07T00:00:00",
          "2022-01-31T00:00:00",
          "2022-03-15T00:00:00",
          "2022-03-18T00:00:00",
          "2022-02-28T00:00:00",
          "2022-02-16T00:00:00",
          "2022-03-09T00:00:00",
          "2022-04-14T00:00:00",
          "2022-01-20T00:00:00",
          "2022-03-17T00:00:00",
          "2022-02-10T00:00:00",
          "2022-02-15T00:00:00",
          "2022-02-22T00:00:00",
          "2022-03-11T00:00:00",
          "2022-03-08T00:00:00",
          "2022-02-01T00:00:00",
          "2022-04-05T00:00:00",
          "2022-02-11T00:00:00",
          "2022-03-16T00:00:00",
          "2022-03-24T00:00:00",
          "2022-02-08T00:00:00",
          "2022-02-09T00:00:00",
          "2022-03-01T00:00:00",
          "2022-01-27T00:00:00",
          "2022-01-17T00:00:00",
          "2022-03-01T00:00:00",
          "2022-01-24T00:00:00",
          "2022-03-20T00:00:00",
          "2022-03-03T00:00:00",
          "2022-03-28T00:00:00",
          "2022-02-28T00:00:00",
          "2022-01-28T00:00:00",
          "2022-03-02T00:00:00",
          "2022-02-01T00:00:00",
          "2022-03-28T00:00:00",
          "2022-04-15T00:00:00",
          "2022-03-15T00:00:00",
          "2022-02-02T00:00:00",
          "2022-01-27T00:00:00",
          "2022-03-29T00:00:00",
          "2022-03-03T00:00:00",
          "2022-01-18T00:00:00",
          "2022-04-13T00:00:00",
          "2022-03-02T00:00:00",
          "2022-01-25T00:00:00",
          "2022-03-16T00:00:00",
          "2022-02-10T00:00:00",
          "2022-03-27T00:00:00",
          "2022-03-30T00:00:00",
          "2022-02-08T00:00:00",
          "2022-02-01T00:00:00",
          "2022-01-27T00:00:00",
          "2022-03-16T00:00:00",
          "2022-03-15T00:00:00",
          "2022-02-17T00:00:00",
          "2022-02-21T00:00:00",
          "2022-01-18T00:00:00",
          "2022-03-17T00:00:00",
          "2022-03-09T00:00:00",
          "2022-01-25T00:00:00",
          "2022-03-07T00:00:00",
          "2022-03-15T00:00:00",
          "2022-03-01T00:00:00",
          "2022-04-07T00:00:00",
          "2022-02-01T00:00:00",
          "2022-02-01T00:00:00",
          "2022-03-07T00:00:00",
          "2022-01-28T00:00:00",
          "2022-03-22T00:00:00",
          "2022-02-04T00:00:00",
          "2022-02-07T00:00:00",
          "2022-02-01T00:00:00",
          "2022-03-03T00:00:00",
          "2022-02-25T00:00:00",
          "2022-03-15T00:00:00",
          "2022-01-25T00:00:00",
          "2022-01-16T00:00:00",
          "2022-03-21T00:00:00",
          "2022-03-21T00:00:00",
          "2022-02-17T00:00:00",
          "2022-03-08T00:00:00",
          "2022-01-24T00:00:00",
          "2022-03-22T00:00:00",
          "2022-01-25T00:00:00",
          "2022-02-14T00:00:00",
          "2022-02-02T00:00:00",
          "2022-03-19T00:00:00",
          "2022-03-22T00:00:00",
          "2022-02-28T00:00:00",
          "2022-03-04T00:00:00",
          "2022-04-16T00:00:00",
          "2022-03-31T00:00:00",
          "2022-01-20T00:00:00",
          "2022-03-23T00:00:00",
          "2022-03-15T00:00:00",
          "2022-03-30T00:00:00",
          "2022-02-01T00:00:00",
          "2022-02-01T00:00:00",
          "2022-02-21T00:00:00",
          "2022-03-04T00:00:00",
          "2022-02-21T00:00:00",
          "2022-02-11T00:00:00",
          "2022-02-04T00:00:00",
          "2022-04-07T00:00:00",
          "2022-02-04T00:00:00",
          "2022-01-21T00:00:00",
          "2022-02-07T00:00:00",
          "2022-01-24T00:00:00",
          "2022-02-17T00:00:00",
          "2022-04-09T00:00:00",
          "2022-03-04T00:00:00",
          "2022-03-01T00:00:00",
          "2022-03-24T00:00:00",
          "2022-02-24T00:00:00",
          "2022-01-24T00:00:00"
         ],
         "xaxis": "x",
         "y": [
          "Autonomous Vehicles",
          "Automotive",
          "SaaS",
          "Enterprise Software",
          "Big Data",
          "Customer Service",
          "Biotechnology",
          "Cyber Security",
          "Internet",
          "Productivity Tools",
          "Human Resources",
          "Predictive Analytics",
          "Consumer Electronics",
          "Speech Recognition",
          "Construction",
          "mHealth",
          "Security",
          "Apps",
          "E-Commerce",
          "Financial Services",
          "Developer APIs",
          "Content",
          "Retail Technology",
          "Intelligent Systems",
          "Data Visualization",
          "Software Engineering",
          "Digital Marketing",
          "Network Security",
          "Legal Tech",
          "Biopharma",
          "Agriculture",
          "Cloud Security",
          "CRM",
          "Augmented Reality",
          "Sensor",
          "Insurance",
          "Sports",
          "Logistics",
          "Sales Automation",
          "AgTech",
          "Real Time",
          "Developer Tools",
          "Health Insurance",
          "Digital Media",
          "Broadcasting",
          "Life Science",
          "Manufacturing",
          "EdTech",
          "Drones",
          "Animal Feed",
          "Hospital",
          "Information Services",
          "Drone Management",
          "Employment",
          "Marketing Automation",
          "Photography",
          "Air Transportation",
          "Data Center",
          "Translation Service",
          "Employee Benefits",
          "Real Estate",
          "Legal",
          "Data Mining",
          "Market Research",
          "Sharing Economy",
          "Brand Marketing",
          "Data Integration",
          "Media and Entertainment",
          "Delivery Service",
          "Advanced Materials",
          "Shipping",
          "GPS",
          "Therapeutics",
          "Accounting",
          "Identity Management",
          "Retail",
          "Risk Management",
          "Sales",
          "Commercial Insurance",
          "Marketplace",
          "Marine Transportation",
          "Machinery Manufacturing",
          "IT Management",
          "Industrial Manufacturing",
          "Neuroscience",
          "Innovation Management",
          "Farming",
          "Delivery",
          "Telecommunications",
          "Messaging",
          "Facial Recognition",
          "Search Engine",
          "Renewable Energy",
          "Dental",
          "Higher Education",
          "Document Management",
          "Test and Measurement",
          "E-Commerce Platforms",
          "Operating Systems",
          "Gaming",
          "Online Portals",
          "Consumer Goods",
          "Navigation",
          "Electronic Health Record (EHR)",
          "Communication Hardware",
          "GreenTech",
          "CleanTech",
          "Text Analytics",
          "Personalization",
          "Power Grid",
          "Building Maintenance",
          "Property Management",
          "Psychology",
          "Social CRM",
          "Motion Capture",
          "Video Games",
          "Optical Communication",
          "Banking",
          "Auto Insurance",
          "Commercial",
          "Contact Management",
          "Developer Platform",
          "Environmental Engineering",
          "Energy Efficiency",
          "Public Relations",
          "Business Development",
          "Affiliate Marketing",
          "Knowledge Management",
          "UX Design",
          "Web Design",
          "Bioinformatics",
          "Content Marketing",
          "Communities",
          "Lifestyle",
          "Professional Networking",
          "Embedded Software",
          "Email Marketing",
          "Enterprise Resource Planning (ERP)",
          "Language Learning",
          "EBooks",
          "Publishing",
          "Price Comparison",
          "Industrial Engineering",
          "iOS",
          "Local",
          "Lead Generation",
          "Horticulture",
          "Blockchain",
          "Wearables",
          "Jewelry",
          "Leisure",
          "Tourism",
          "Travel",
          "Music",
          "Loyalty Programs",
          "Wireless",
          "Sustainability",
          "Home Health Care",
          "Leasing",
          "",
          "",
          "",
          "",
          "",
          "",
          "",
          "",
          "",
          "",
          "",
          "",
          "",
          "",
          "",
          "",
          "",
          "",
          "",
          "",
          "",
          "",
          "",
          "",
          "",
          "",
          "",
          "",
          "",
          "",
          "",
          "",
          "",
          "",
          "",
          "",
          "",
          "",
          "",
          "",
          "",
          "",
          "",
          "",
          "",
          "",
          "",
          "",
          "",
          "",
          "",
          "",
          "",
          "",
          "",
          "",
          "",
          "",
          "",
          "",
          "",
          "",
          "",
          "",
          "",
          "",
          "",
          "",
          "",
          "",
          "",
          "",
          "",
          "",
          "",
          "",
          "",
          "",
          "",
          "",
          "",
          "",
          "",
          "",
          "",
          "",
          "",
          "",
          "",
          "",
          "",
          "",
          "",
          "",
          "",
          "",
          "",
          "",
          "",
          "",
          ""
         ],
         "yaxis": "y"
        }
       ],
       "layout": {
        "legend": {
         "itemsizing": "constant",
         "title": {
          "text": "Organization Country"
         },
         "tracegroupgap": 0
        },
        "margin": {
         "t": 60
        },
        "template": {
         "data": {
          "bar": [
           {
            "error_x": {
             "color": "#f2f5fa"
            },
            "error_y": {
             "color": "#f2f5fa"
            },
            "marker": {
             "line": {
              "color": "rgb(17,17,17)",
              "width": 0.5
             },
             "pattern": {
              "fillmode": "overlay",
              "size": 10,
              "solidity": 0.2
             }
            },
            "type": "bar"
           }
          ],
          "barpolar": [
           {
            "marker": {
             "line": {
              "color": "rgb(17,17,17)",
              "width": 0.5
             },
             "pattern": {
              "fillmode": "overlay",
              "size": 10,
              "solidity": 0.2
             }
            },
            "type": "barpolar"
           }
          ],
          "carpet": [
           {
            "aaxis": {
             "endlinecolor": "#A2B1C6",
             "gridcolor": "#506784",
             "linecolor": "#506784",
             "minorgridcolor": "#506784",
             "startlinecolor": "#A2B1C6"
            },
            "baxis": {
             "endlinecolor": "#A2B1C6",
             "gridcolor": "#506784",
             "linecolor": "#506784",
             "minorgridcolor": "#506784",
             "startlinecolor": "#A2B1C6"
            },
            "type": "carpet"
           }
          ],
          "choropleth": [
           {
            "colorbar": {
             "outlinewidth": 0,
             "ticks": ""
            },
            "type": "choropleth"
           }
          ],
          "contour": [
           {
            "colorbar": {
             "outlinewidth": 0,
             "ticks": ""
            },
            "colorscale": [
             [
              0,
              "#0d0887"
             ],
             [
              0.1111111111111111,
              "#46039f"
             ],
             [
              0.2222222222222222,
              "#7201a8"
             ],
             [
              0.3333333333333333,
              "#9c179e"
             ],
             [
              0.4444444444444444,
              "#bd3786"
             ],
             [
              0.5555555555555556,
              "#d8576b"
             ],
             [
              0.6666666666666666,
              "#ed7953"
             ],
             [
              0.7777777777777778,
              "#fb9f3a"
             ],
             [
              0.8888888888888888,
              "#fdca26"
             ],
             [
              1,
              "#f0f921"
             ]
            ],
            "type": "contour"
           }
          ],
          "contourcarpet": [
           {
            "colorbar": {
             "outlinewidth": 0,
             "ticks": ""
            },
            "type": "contourcarpet"
           }
          ],
          "heatmap": [
           {
            "colorbar": {
             "outlinewidth": 0,
             "ticks": ""
            },
            "colorscale": [
             [
              0,
              "#0d0887"
             ],
             [
              0.1111111111111111,
              "#46039f"
             ],
             [
              0.2222222222222222,
              "#7201a8"
             ],
             [
              0.3333333333333333,
              "#9c179e"
             ],
             [
              0.4444444444444444,
              "#bd3786"
             ],
             [
              0.5555555555555556,
              "#d8576b"
             ],
             [
              0.6666666666666666,
              "#ed7953"
             ],
             [
              0.7777777777777778,
              "#fb9f3a"
             ],
             [
              0.8888888888888888,
              "#fdca26"
             ],
             [
              1,
              "#f0f921"
             ]
            ],
            "type": "heatmap"
           }
          ],
          "heatmapgl": [
           {
            "colorbar": {
             "outlinewidth": 0,
             "ticks": ""
            },
            "colorscale": [
             [
              0,
              "#0d0887"
             ],
             [
              0.1111111111111111,
              "#46039f"
             ],
             [
              0.2222222222222222,
              "#7201a8"
             ],
             [
              0.3333333333333333,
              "#9c179e"
             ],
             [
              0.4444444444444444,
              "#bd3786"
             ],
             [
              0.5555555555555556,
              "#d8576b"
             ],
             [
              0.6666666666666666,
              "#ed7953"
             ],
             [
              0.7777777777777778,
              "#fb9f3a"
             ],
             [
              0.8888888888888888,
              "#fdca26"
             ],
             [
              1,
              "#f0f921"
             ]
            ],
            "type": "heatmapgl"
           }
          ],
          "histogram": [
           {
            "marker": {
             "pattern": {
              "fillmode": "overlay",
              "size": 10,
              "solidity": 0.2
             }
            },
            "type": "histogram"
           }
          ],
          "histogram2d": [
           {
            "colorbar": {
             "outlinewidth": 0,
             "ticks": ""
            },
            "colorscale": [
             [
              0,
              "#0d0887"
             ],
             [
              0.1111111111111111,
              "#46039f"
             ],
             [
              0.2222222222222222,
              "#7201a8"
             ],
             [
              0.3333333333333333,
              "#9c179e"
             ],
             [
              0.4444444444444444,
              "#bd3786"
             ],
             [
              0.5555555555555556,
              "#d8576b"
             ],
             [
              0.6666666666666666,
              "#ed7953"
             ],
             [
              0.7777777777777778,
              "#fb9f3a"
             ],
             [
              0.8888888888888888,
              "#fdca26"
             ],
             [
              1,
              "#f0f921"
             ]
            ],
            "type": "histogram2d"
           }
          ],
          "histogram2dcontour": [
           {
            "colorbar": {
             "outlinewidth": 0,
             "ticks": ""
            },
            "colorscale": [
             [
              0,
              "#0d0887"
             ],
             [
              0.1111111111111111,
              "#46039f"
             ],
             [
              0.2222222222222222,
              "#7201a8"
             ],
             [
              0.3333333333333333,
              "#9c179e"
             ],
             [
              0.4444444444444444,
              "#bd3786"
             ],
             [
              0.5555555555555556,
              "#d8576b"
             ],
             [
              0.6666666666666666,
              "#ed7953"
             ],
             [
              0.7777777777777778,
              "#fb9f3a"
             ],
             [
              0.8888888888888888,
              "#fdca26"
             ],
             [
              1,
              "#f0f921"
             ]
            ],
            "type": "histogram2dcontour"
           }
          ],
          "mesh3d": [
           {
            "colorbar": {
             "outlinewidth": 0,
             "ticks": ""
            },
            "type": "mesh3d"
           }
          ],
          "parcoords": [
           {
            "line": {
             "colorbar": {
              "outlinewidth": 0,
              "ticks": ""
             }
            },
            "type": "parcoords"
           }
          ],
          "pie": [
           {
            "automargin": true,
            "type": "pie"
           }
          ],
          "scatter": [
           {
            "marker": {
             "line": {
              "color": "#283442"
             }
            },
            "type": "scatter"
           }
          ],
          "scatter3d": [
           {
            "line": {
             "colorbar": {
              "outlinewidth": 0,
              "ticks": ""
             }
            },
            "marker": {
             "colorbar": {
              "outlinewidth": 0,
              "ticks": ""
             }
            },
            "type": "scatter3d"
           }
          ],
          "scattercarpet": [
           {
            "marker": {
             "colorbar": {
              "outlinewidth": 0,
              "ticks": ""
             }
            },
            "type": "scattercarpet"
           }
          ],
          "scattergeo": [
           {
            "marker": {
             "colorbar": {
              "outlinewidth": 0,
              "ticks": ""
             }
            },
            "type": "scattergeo"
           }
          ],
          "scattergl": [
           {
            "marker": {
             "line": {
              "color": "#283442"
             }
            },
            "type": "scattergl"
           }
          ],
          "scattermapbox": [
           {
            "marker": {
             "colorbar": {
              "outlinewidth": 0,
              "ticks": ""
             }
            },
            "type": "scattermapbox"
           }
          ],
          "scatterpolar": [
           {
            "marker": {
             "colorbar": {
              "outlinewidth": 0,
              "ticks": ""
             }
            },
            "type": "scatterpolar"
           }
          ],
          "scatterpolargl": [
           {
            "marker": {
             "colorbar": {
              "outlinewidth": 0,
              "ticks": ""
             }
            },
            "type": "scatterpolargl"
           }
          ],
          "scatterternary": [
           {
            "marker": {
             "colorbar": {
              "outlinewidth": 0,
              "ticks": ""
             }
            },
            "type": "scatterternary"
           }
          ],
          "surface": [
           {
            "colorbar": {
             "outlinewidth": 0,
             "ticks": ""
            },
            "colorscale": [
             [
              0,
              "#0d0887"
             ],
             [
              0.1111111111111111,
              "#46039f"
             ],
             [
              0.2222222222222222,
              "#7201a8"
             ],
             [
              0.3333333333333333,
              "#9c179e"
             ],
             [
              0.4444444444444444,
              "#bd3786"
             ],
             [
              0.5555555555555556,
              "#d8576b"
             ],
             [
              0.6666666666666666,
              "#ed7953"
             ],
             [
              0.7777777777777778,
              "#fb9f3a"
             ],
             [
              0.8888888888888888,
              "#fdca26"
             ],
             [
              1,
              "#f0f921"
             ]
            ],
            "type": "surface"
           }
          ],
          "table": [
           {
            "cells": {
             "fill": {
              "color": "#506784"
             },
             "line": {
              "color": "rgb(17,17,17)"
             }
            },
            "header": {
             "fill": {
              "color": "#2a3f5f"
             },
             "line": {
              "color": "rgb(17,17,17)"
             }
            },
            "type": "table"
           }
          ]
         },
         "layout": {
          "annotationdefaults": {
           "arrowcolor": "#f2f5fa",
           "arrowhead": 0,
           "arrowwidth": 1
          },
          "autotypenumbers": "strict",
          "coloraxis": {
           "colorbar": {
            "outlinewidth": 0,
            "ticks": ""
           }
          },
          "colorscale": {
           "diverging": [
            [
             0,
             "#8e0152"
            ],
            [
             0.1,
             "#c51b7d"
            ],
            [
             0.2,
             "#de77ae"
            ],
            [
             0.3,
             "#f1b6da"
            ],
            [
             0.4,
             "#fde0ef"
            ],
            [
             0.5,
             "#f7f7f7"
            ],
            [
             0.6,
             "#e6f5d0"
            ],
            [
             0.7,
             "#b8e186"
            ],
            [
             0.8,
             "#7fbc41"
            ],
            [
             0.9,
             "#4d9221"
            ],
            [
             1,
             "#276419"
            ]
           ],
           "sequential": [
            [
             0,
             "#0d0887"
            ],
            [
             0.1111111111111111,
             "#46039f"
            ],
            [
             0.2222222222222222,
             "#7201a8"
            ],
            [
             0.3333333333333333,
             "#9c179e"
            ],
            [
             0.4444444444444444,
             "#bd3786"
            ],
            [
             0.5555555555555556,
             "#d8576b"
            ],
            [
             0.6666666666666666,
             "#ed7953"
            ],
            [
             0.7777777777777778,
             "#fb9f3a"
            ],
            [
             0.8888888888888888,
             "#fdca26"
            ],
            [
             1,
             "#f0f921"
            ]
           ],
           "sequentialminus": [
            [
             0,
             "#0d0887"
            ],
            [
             0.1111111111111111,
             "#46039f"
            ],
            [
             0.2222222222222222,
             "#7201a8"
            ],
            [
             0.3333333333333333,
             "#9c179e"
            ],
            [
             0.4444444444444444,
             "#bd3786"
            ],
            [
             0.5555555555555556,
             "#d8576b"
            ],
            [
             0.6666666666666666,
             "#ed7953"
            ],
            [
             0.7777777777777778,
             "#fb9f3a"
            ],
            [
             0.8888888888888888,
             "#fdca26"
            ],
            [
             1,
             "#f0f921"
            ]
           ]
          },
          "colorway": [
           "#636efa",
           "#EF553B",
           "#00cc96",
           "#ab63fa",
           "#FFA15A",
           "#19d3f3",
           "#FF6692",
           "#B6E880",
           "#FF97FF",
           "#FECB52"
          ],
          "font": {
           "color": "#f2f5fa"
          },
          "geo": {
           "bgcolor": "rgb(17,17,17)",
           "lakecolor": "rgb(17,17,17)",
           "landcolor": "rgb(17,17,17)",
           "showlakes": true,
           "showland": true,
           "subunitcolor": "#506784"
          },
          "hoverlabel": {
           "align": "left"
          },
          "hovermode": "closest",
          "mapbox": {
           "style": "dark"
          },
          "paper_bgcolor": "rgb(17,17,17)",
          "plot_bgcolor": "rgb(17,17,17)",
          "polar": {
           "angularaxis": {
            "gridcolor": "#506784",
            "linecolor": "#506784",
            "ticks": ""
           },
           "bgcolor": "rgb(17,17,17)",
           "radialaxis": {
            "gridcolor": "#506784",
            "linecolor": "#506784",
            "ticks": ""
           }
          },
          "scene": {
           "xaxis": {
            "backgroundcolor": "rgb(17,17,17)",
            "gridcolor": "#506784",
            "gridwidth": 2,
            "linecolor": "#506784",
            "showbackground": true,
            "ticks": "",
            "zerolinecolor": "#C8D4E3"
           },
           "yaxis": {
            "backgroundcolor": "rgb(17,17,17)",
            "gridcolor": "#506784",
            "gridwidth": 2,
            "linecolor": "#506784",
            "showbackground": true,
            "ticks": "",
            "zerolinecolor": "#C8D4E3"
           },
           "zaxis": {
            "backgroundcolor": "rgb(17,17,17)",
            "gridcolor": "#506784",
            "gridwidth": 2,
            "linecolor": "#506784",
            "showbackground": true,
            "ticks": "",
            "zerolinecolor": "#C8D4E3"
           }
          },
          "shapedefaults": {
           "line": {
            "color": "#f2f5fa"
           }
          },
          "sliderdefaults": {
           "bgcolor": "#C8D4E3",
           "bordercolor": "rgb(17,17,17)",
           "borderwidth": 1,
           "tickwidth": 0
          },
          "ternary": {
           "aaxis": {
            "gridcolor": "#506784",
            "linecolor": "#506784",
            "ticks": ""
           },
           "baxis": {
            "gridcolor": "#506784",
            "linecolor": "#506784",
            "ticks": ""
           },
           "bgcolor": "rgb(17,17,17)",
           "caxis": {
            "gridcolor": "#506784",
            "linecolor": "#506784",
            "ticks": ""
           }
          },
          "title": {
           "x": 0.05
          },
          "updatemenudefaults": {
           "bgcolor": "#506784",
           "borderwidth": 0
          },
          "xaxis": {
           "automargin": true,
           "gridcolor": "#283442",
           "linecolor": "#506784",
           "ticks": "",
           "title": {
            "standoff": 15
           },
           "zerolinecolor": "#283442",
           "zerolinewidth": 2
          },
          "yaxis": {
           "automargin": true,
           "gridcolor": "#283442",
           "linecolor": "#506784",
           "ticks": "",
           "title": {
            "standoff": 15
           },
           "zerolinecolor": "#283442",
           "zerolinewidth": 2
          }
         }
        },
        "xaxis": {
         "anchor": "y",
         "domain": [
          0,
          1
         ],
         "title": {
          "text": "Announced Date"
         }
        },
        "yaxis": {
         "anchor": "x",
         "domain": [
          0,
          1
         ],
         "title": {
          "text": "Main Industry"
         }
        }
       }
      }
     },
     "metadata": {},
     "output_type": "display_data"
    }
   ],
   "source": [
    "# create the same bubble chart as above but only where Organization Country is \"United States\"\n",
    "fig = px.scatter(df[df[\"Organization Country\"] == \"United States\"], x=\"Announced Date\", y=\"Main Industry\", size=\"Money Raised\",\n",
    "        hover_name=\"Organization Name\", hover_data=[\"Organization Description\"], color=\"Organization Country\", template=\"plotly_dark\")\n",
    "fig.show()"
   ]
  },
  {
   "cell_type": "code",
   "execution_count": null,
   "metadata": {},
   "outputs": [],
   "source": []
  }
 ],
 "metadata": {
  "interpreter": {
   "hash": "aff7f40941c65bbdbd9ed8f754ac0261c106a9f5f96f8eae5a7b3d9cc223b771"
  },
  "kernelspec": {
   "display_name": "Python 3 (ipykernel)",
   "language": "python",
   "name": "python3"
  },
  "language_info": {
   "codemirror_mode": {
    "name": "ipython",
    "version": 3
   },
   "file_extension": ".py",
   "mimetype": "text/x-python",
   "name": "python",
   "nbconvert_exporter": "python",
   "pygments_lexer": "ipython3",
   "version": "3.9.10"
  }
 },
 "nbformat": 4,
 "nbformat_minor": 4
}
